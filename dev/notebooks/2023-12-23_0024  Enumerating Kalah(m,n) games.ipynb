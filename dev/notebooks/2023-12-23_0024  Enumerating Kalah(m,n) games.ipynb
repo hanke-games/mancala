{
 "cells": [
  {
   "cell_type": "markdown",
   "id": "3026f16e",
   "metadata": {
    "toc": true
   },
   "source": [
    "<h1>Table of Contents<span class=\"tocSkip\"></span></h1>\n",
    "<div class=\"toc\"><ul class=\"toc-item\"></ul></div>"
   ]
  },
  {
   "cell_type": "code",
   "execution_count": 1,
   "id": "91be5b3b",
   "metadata": {
    "ExecuteTime": {
     "end_time": "2023-12-23T05:37:24.594475Z",
     "start_time": "2023-12-23T05:37:24.579848Z"
    }
   },
   "outputs": [],
   "source": [
    "## Add the parent directory to the \n",
    "import sys, os\n",
    "sys.path.append(os.path.join(sys.path[0],'..', '..'))"
   ]
  },
  {
   "cell_type": "code",
   "execution_count": 2,
   "id": "610db84c",
   "metadata": {
    "ExecuteTime": {
     "end_time": "2023-12-23T05:37:24.787824Z",
     "start_time": "2023-12-23T05:37:24.769223Z"
    }
   },
   "outputs": [],
   "source": [
    "from mancala import *"
   ]
  },
  {
   "cell_type": "code",
   "execution_count": 3,
   "id": "d05881a2",
   "metadata": {
    "ExecuteTime": {
     "end_time": "2023-12-23T05:37:24.943088Z",
     "start_time": "2023-12-23T05:37:24.938113Z"
    }
   },
   "outputs": [
    {
     "data": {
      "text/plain": [
       "\n",
       "            13  12  11  10   9   8\n",
       "      ------------------------------------\n",
       "             4   4   4   4   4   4\n",
       "         0                           0\n",
       "             4   4   4   4   4   4\n",
       "      ------------------------------------\n",
       "s -->        1   2   3   4   5   6\n"
      ]
     },
     "execution_count": 3,
     "metadata": {},
     "output_type": "execute_result"
    }
   ],
   "source": [
    "Kalah(6,4)"
   ]
  },
  {
   "cell_type": "code",
   "execution_count": 4,
   "id": "b45ffc29",
   "metadata": {
    "ExecuteTime": {
     "end_time": "2023-12-23T05:37:25.639238Z",
     "start_time": "2023-12-23T05:37:25.626270Z"
    }
   },
   "outputs": [
    {
     "data": {
      "text/plain": [
       "\n",
       "             5   4\n",
       "      --------------------\n",
       "             2   2\n",
       "         0           0\n",
       "             2   2\n",
       "      --------------------\n",
       "s -->        1   2\n"
      ]
     },
     "execution_count": 4,
     "metadata": {},
     "output_type": "execute_result"
    }
   ],
   "source": [
    "Kalah(2,2)"
   ]
  },
  {
   "cell_type": "code",
   "execution_count": null,
   "id": "eaf61c4b",
   "metadata": {},
   "outputs": [],
   "source": []
  },
  {
   "cell_type": "code",
   "execution_count": 5,
   "id": "48eda76c",
   "metadata": {
    "ExecuteTime": {
     "end_time": "2023-12-23T05:37:26.286468Z",
     "start_time": "2023-12-23T05:37:26.265563Z"
    }
   },
   "outputs": [
    {
     "name": "stdout",
     "output_type": "stream",
     "text": [
      "CPU times: user 10.1 ms, sys: 293 µs, total: 10.4 ms\n",
      "Wall time: 10.4 ms\n"
     ]
    }
   ],
   "source": [
    "%%time \n",
    "\n",
    "## Intialize the Mancala game iterator\n",
    "iter = kalah_game_iterator(m=2, n=2)\n",
    "\n",
    "import itertools\n",
    "first_games_list = list(itertools.islice(iter, 1000))"
   ]
  },
  {
   "cell_type": "code",
   "execution_count": null,
   "id": "085a58d9",
   "metadata": {},
   "outputs": [],
   "source": []
  },
  {
   "cell_type": "code",
   "execution_count": 6,
   "id": "05162d0e",
   "metadata": {
    "ExecuteTime": {
     "end_time": "2023-12-23T05:37:26.976762Z",
     "start_time": "2023-12-23T05:37:26.957975Z"
    }
   },
   "outputs": [
    {
     "name": "stdout",
     "output_type": "stream",
     "text": [
      "CPU times: user 8.11 ms, sys: 2.32 ms, total: 10.4 ms\n",
      "Wall time: 11.5 ms\n"
     ]
    }
   ],
   "source": [
    "%%time \n",
    "\n",
    "## Intialize the Mancala game iterator\n",
    "iter = kalah_game_iterator(m=2, n=2)\n",
    "\n",
    "iter_value_list = []\n",
    "for x in iter:\n",
    "    iter_value_list.append(x)\n",
    "    \n",
    "#iter_value_list = [x  for x in iter]\n"
   ]
  },
  {
   "cell_type": "code",
   "execution_count": 7,
   "id": "c6e8a32a",
   "metadata": {
    "ExecuteTime": {
     "end_time": "2023-12-23T05:37:27.337049Z",
     "start_time": "2023-12-23T05:37:27.319619Z"
    }
   },
   "outputs": [
    {
     "data": {
      "text/plain": [
       "[([1, 2, 4, 1, 5, 1, 2], (4, 4)),\n",
       " ([1, 2, 5, 1, 4, 1, 5, 2, 4, 5, 1, 2], (4, 4)),\n",
       " ([1, 2, 5, 1, 4, 1, 5, 2, 5, 4, 5], (5, 3)),\n",
       " ([1, 2, 5, 1, 4, 2, 4, 1, 5, 1, 2, 4, 5], (4, 4)),\n",
       " ([1, 2, 5, 1, 4, 2, 4, 1, 5, 2, 1, 2], (3, 5)),\n",
       " ([1, 2, 5, 1, 4, 2, 5, 4, 5], (5, 3)),\n",
       " ([1, 2, 5, 2, 1, 2], (1, 7)),\n",
       " ([2, 4, 1, 4, 2, 5, 1, 2], (3, 5)),\n",
       " ([2, 4, 1, 5, 1, 4, 2, 4, 5, 1, 2, 4, 5], (4, 4)),\n",
       " ([2, 4, 1, 5, 1, 4, 2, 4, 5, 2, 1, 2], (3, 5)),\n",
       " ([2, 4, 1, 5, 1, 4, 2, 5, 1, 2], (3, 5)),\n",
       " ([2, 4, 1, 5, 2, 4, 5, 1, 2], (4, 4)),\n",
       " ([2, 5, 1, 4, 1, 5, 2, 4, 5, 1, 2], (4, 4)),\n",
       " ([2, 5, 1, 4, 1, 5, 2, 5, 4, 5], (5, 3)),\n",
       " ([2, 5, 1, 4, 2, 4, 1, 5, 1, 2, 4, 5], (4, 4)),\n",
       " ([2, 5, 1, 4, 2, 4, 1, 5, 2, 1, 2], (3, 5)),\n",
       " ([2, 5, 1, 4, 2, 5, 4, 5], (5, 3))]"
      ]
     },
     "execution_count": 7,
     "metadata": {},
     "output_type": "execute_result"
    }
   ],
   "source": [
    "iter_value_list"
   ]
  },
  {
   "cell_type": "code",
   "execution_count": 8,
   "id": "bf88546d",
   "metadata": {
    "ExecuteTime": {
     "end_time": "2023-12-23T05:37:29.474123Z",
     "start_time": "2023-12-23T05:37:29.454772Z"
    }
   },
   "outputs": [
    {
     "data": {
      "text/plain": [
       "17"
      ]
     },
     "execution_count": 8,
     "metadata": {},
     "output_type": "execute_result"
    }
   ],
   "source": [
    "len(iter_value_list)"
   ]
  },
  {
   "cell_type": "code",
   "execution_count": null,
   "id": "3573307c",
   "metadata": {},
   "outputs": [],
   "source": []
  },
  {
   "cell_type": "code",
   "execution_count": 10,
   "id": "b6a73979",
   "metadata": {
    "ExecuteTime": {
     "end_time": "2023-12-23T05:38:11.696435Z",
     "start_time": "2023-12-23T05:38:11.677978Z"
    }
   },
   "outputs": [
    {
     "name": "stdout",
     "output_type": "stream",
     "text": [
      "6\n",
      "CPU times: user 4.78 ms, sys: 2.08 ms, total: 6.86 ms\n",
      "Wall time: 10.5 ms\n"
     ]
    }
   ],
   "source": [
    "%%time \n",
    "\n",
    "## Intialize the Mancala game iterator\n",
    "iter = kalah_game_iterator(m=2, n=1)\n",
    "iter_value_list = [x  for x in iter]\n",
    "print(len(iter_value_list))"
   ]
  },
  {
   "cell_type": "code",
   "execution_count": null,
   "id": "99e46db7",
   "metadata": {},
   "outputs": [],
   "source": []
  },
  {
   "cell_type": "code",
   "execution_count": 11,
   "id": "5e3f7f36",
   "metadata": {
    "ExecuteTime": {
     "end_time": "2023-12-23T05:42:42.363571Z",
     "start_time": "2023-12-23T05:42:42.342251Z"
    }
   },
   "outputs": [
    {
     "name": "stdout",
     "output_type": "stream",
     "text": [
      "1\n",
      "CPU times: user 1.13 ms, sys: 171 µs, total: 1.3 ms\n",
      "Wall time: 11 ms\n"
     ]
    }
   ],
   "source": [
    "%%time \n",
    "\n",
    "## Intialize the Mancala game iterator\n",
    "iter = kalah_game_iterator(m=1, n=1)\n",
    "iter_value_list = [x  for x in iter]\n",
    "print(len(iter_value_list))"
   ]
  },
  {
   "cell_type": "code",
   "execution_count": 12,
   "id": "af0647bb",
   "metadata": {
    "ExecuteTime": {
     "end_time": "2023-12-23T05:43:27.318006Z",
     "start_time": "2023-12-23T05:43:27.301660Z"
    }
   },
   "outputs": [
    {
     "name": "stdout",
     "output_type": "stream",
     "text": [
      "1\n",
      "CPU times: user 1.7 ms, sys: 218 µs, total: 1.91 ms\n",
      "Wall time: 6.8 ms\n"
     ]
    }
   ],
   "source": [
    "%%time \n",
    "\n",
    "## Intialize the Mancala game iterator\n",
    "iter = kalah_game_iterator(m=1, n=2)\n",
    "iter_value_list = [x  for x in iter]\n",
    "print(len(iter_value_list))"
   ]
  },
  {
   "cell_type": "code",
   "execution_count": 13,
   "id": "11e0d966",
   "metadata": {
    "ExecuteTime": {
     "end_time": "2023-12-23T05:43:33.506096Z",
     "start_time": "2023-12-23T05:43:33.493357Z"
    }
   },
   "outputs": [
    {
     "name": "stdout",
     "output_type": "stream",
     "text": [
      "1\n",
      "CPU times: user 682 µs, sys: 94 µs, total: 776 µs\n",
      "Wall time: 1.64 ms\n"
     ]
    }
   ],
   "source": [
    "%%time \n",
    "\n",
    "## Intialize the Mancala game iterator\n",
    "iter = kalah_game_iterator(m=1, n=3)\n",
    "iter_value_list = [x  for x in iter]\n",
    "print(len(iter_value_list))"
   ]
  },
  {
   "cell_type": "code",
   "execution_count": 14,
   "id": "4278c29b",
   "metadata": {
    "ExecuteTime": {
     "end_time": "2023-12-23T05:43:38.906755Z",
     "start_time": "2023-12-23T05:43:38.893688Z"
    }
   },
   "outputs": [
    {
     "name": "stdout",
     "output_type": "stream",
     "text": [
      "1\n",
      "CPU times: user 1.31 ms, sys: 126 µs, total: 1.44 ms\n",
      "Wall time: 1.62 ms\n"
     ]
    }
   ],
   "source": [
    "%%time \n",
    "\n",
    "## Intialize the Mancala game iterator\n",
    "iter = kalah_game_iterator(m=1, n=4)\n",
    "iter_value_list = [x  for x in iter]\n",
    "print(len(iter_value_list))"
   ]
  },
  {
   "cell_type": "code",
   "execution_count": 15,
   "id": "692bcfd9",
   "metadata": {
    "ExecuteTime": {
     "end_time": "2023-12-23T05:43:46.736057Z",
     "start_time": "2023-12-23T05:43:46.718792Z"
    }
   },
   "outputs": [
    {
     "name": "stdout",
     "output_type": "stream",
     "text": [
      "1\n",
      "CPU times: user 1.89 ms, sys: 177 µs, total: 2.07 ms\n",
      "Wall time: 2.38 ms\n"
     ]
    }
   ],
   "source": [
    "%%time \n",
    "\n",
    "## Intialize the Mancala game iterator\n",
    "iter = kalah_game_iterator(m=1, n=5)\n",
    "iter_value_list = [x  for x in iter]\n",
    "print(len(iter_value_list))"
   ]
  },
  {
   "cell_type": "code",
   "execution_count": 16,
   "id": "e34bdb3d",
   "metadata": {
    "ExecuteTime": {
     "end_time": "2023-12-23T05:44:03.185364Z",
     "start_time": "2023-12-23T05:44:03.160833Z"
    }
   },
   "outputs": [
    {
     "data": {
      "text/plain": [
       "[([1, 3, 3, 1, 1, 3], (5, 5))]"
      ]
     },
     "execution_count": 16,
     "metadata": {},
     "output_type": "execute_result"
    }
   ],
   "source": [
    "iter_value_list"
   ]
  },
  {
   "cell_type": "code",
   "execution_count": null,
   "id": "0dd4b765",
   "metadata": {},
   "outputs": [],
   "source": []
  },
  {
   "cell_type": "code",
   "execution_count": 19,
   "id": "53cff74b",
   "metadata": {
    "ExecuteTime": {
     "end_time": "2023-12-23T05:47:38.880891Z",
     "start_time": "2023-12-23T05:47:38.864597Z"
    }
   },
   "outputs": [],
   "source": [
    "def number_of_games_in_kalah(m, n, return_game_list=False):\n",
    "    \"\"\"\n",
    "    Returns the number of games in Kalah(m,n), \n",
    "    where the south player always goes first.\n",
    "    \"\"\"\n",
    "    ## Intialize the Mancala game iterator\n",
    "    iter = kalah_game_iterator(m=m, n=n)\n",
    "\n",
    "    ## Enumerate all games and their scores\n",
    "    iter_value_list = [x  for x in iter]\n",
    "\n",
    "    ## Return the desired information\n",
    "    if return_game_list:\n",
    "        return iter_value_list  \n",
    "    else:\n",
    "        return len(iter_value_list)\n",
    "    \n"
   ]
  },
  {
   "cell_type": "code",
   "execution_count": 26,
   "id": "c83a91f6",
   "metadata": {
    "ExecuteTime": {
     "end_time": "2023-12-23T05:49:33.894910Z",
     "start_time": "2023-12-23T05:49:33.879607Z"
    }
   },
   "outputs": [
    {
     "name": "stdout",
     "output_type": "stream",
     "text": [
      "CPU times: user 2.88 ms, sys: 144 µs, total: 3.03 ms\n",
      "Wall time: 3.13 ms\n"
     ]
    },
    {
     "data": {
      "text/plain": [
       "[1, 1, 1, 1, 1]"
      ]
     },
     "execution_count": 26,
     "metadata": {},
     "output_type": "execute_result"
    }
   ],
   "source": [
    "%%time\n",
    "[number_of_games_in_kalah(1,n)  for n in range(1,7)]"
   ]
  },
  {
   "cell_type": "code",
   "execution_count": 27,
   "id": "0b17ae86",
   "metadata": {
    "ExecuteTime": {
     "end_time": "2023-12-23T05:49:34.238596Z",
     "start_time": "2023-12-23T05:49:34.110265Z"
    }
   },
   "outputs": [
    {
     "name": "stdout",
     "output_type": "stream",
     "text": [
      "CPU times: user 122 ms, sys: 1.91 ms, total: 124 ms\n",
      "Wall time: 123 ms\n"
     ]
    },
    {
     "data": {
      "text/plain": [
       "[6, 17, 99, 146, 116]"
      ]
     },
     "execution_count": 27,
     "metadata": {},
     "output_type": "execute_result"
    }
   ],
   "source": [
    "%%time\n",
    "[number_of_games_in_kalah(2,n)  for n in range(1,7)]"
   ]
  },
  {
   "cell_type": "code",
   "execution_count": 28,
   "id": "873ee342",
   "metadata": {
    "ExecuteTime": {
     "end_time": "2023-12-23T05:49:34.507898Z",
     "start_time": "2023-12-23T05:49:34.495420Z"
    }
   },
   "outputs": [],
   "source": [
    "#[number_of_games_in_kalah(3,n)  for n in range(1,6)]"
   ]
  },
  {
   "cell_type": "code",
   "execution_count": null,
   "id": "e976f20b",
   "metadata": {},
   "outputs": [],
   "source": []
  },
  {
   "cell_type": "code",
   "execution_count": 30,
   "id": "18b168cd",
   "metadata": {
    "ExecuteTime": {
     "end_time": "2023-12-23T05:49:59.376388Z",
     "start_time": "2023-12-23T05:49:59.289595Z"
    }
   },
   "outputs": [
    {
     "name": "stdout",
     "output_type": "stream",
     "text": [
      "CPU times: user 71.9 ms, sys: 1.55 ms, total: 73.5 ms\n",
      "Wall time: 80.1 ms\n"
     ]
    },
    {
     "data": {
      "text/plain": [
       "166"
      ]
     },
     "execution_count": 30,
     "metadata": {},
     "output_type": "execute_result"
    }
   ],
   "source": [
    "%%time\n",
    "number_of_games_in_kalah(3,1)"
   ]
  },
  {
   "cell_type": "code",
   "execution_count": 31,
   "id": "44a83f52",
   "metadata": {
    "ExecuteTime": {
     "end_time": "2023-12-23T05:50:21.223586Z",
     "start_time": "2023-12-23T05:50:03.292687Z"
    }
   },
   "outputs": [
    {
     "name": "stdout",
     "output_type": "stream",
     "text": [
      "CPU times: user 17.8 s, sys: 8.34 ms, total: 17.8 s\n",
      "Wall time: 17.9 s\n"
     ]
    },
    {
     "data": {
      "text/plain": [
       "52350"
      ]
     },
     "execution_count": 31,
     "metadata": {},
     "output_type": "execute_result"
    }
   ],
   "source": [
    "%%time\n",
    "number_of_games_in_kalah(3,2)"
   ]
  },
  {
   "cell_type": "code",
   "execution_count": 32,
   "id": "0c8795fc",
   "metadata": {
    "ExecuteTime": {
     "end_time": "2023-12-23T06:50:03.433514Z",
     "start_time": "2023-12-23T05:50:40.006295Z"
    }
   },
   "outputs": [
    {
     "name": "stdout",
     "output_type": "stream",
     "text": [
      "CPU times: user 59min 4s, sys: 4.15 s, total: 59min 9s\n",
      "Wall time: 59min 23s\n"
     ]
    },
    {
     "data": {
      "text/plain": [
       "8893142"
      ]
     },
     "execution_count": 32,
     "metadata": {},
     "output_type": "execute_result"
    }
   ],
   "source": [
    "%%time\n",
    "number_of_games_in_kalah(3,3)"
   ]
  },
  {
   "cell_type": "code",
   "execution_count": null,
   "id": "35657ae1",
   "metadata": {},
   "outputs": [],
   "source": []
  },
  {
   "cell_type": "code",
   "execution_count": null,
   "id": "6ec636da",
   "metadata": {},
   "outputs": [],
   "source": []
  },
  {
   "cell_type": "code",
   "execution_count": null,
   "id": "686eb927",
   "metadata": {},
   "outputs": [],
   "source": []
  },
  {
   "cell_type": "code",
   "execution_count": null,
   "id": "e876cb0f",
   "metadata": {},
   "outputs": [],
   "source": []
  },
  {
   "cell_type": "code",
   "execution_count": null,
   "id": "789709e8",
   "metadata": {},
   "outputs": [],
   "source": []
  },
  {
   "cell_type": "code",
   "execution_count": 6,
   "id": "884833d8",
   "metadata": {
    "ExecuteTime": {
     "end_time": "2023-12-23T05:20:29.270831Z",
     "start_time": "2023-12-23T05:20:29.241017Z"
    }
   },
   "outputs": [
    {
     "name": "stdout",
     "output_type": "stream",
     "text": [
      "63\n",
      "True\n",
      "58\n",
      "True\n",
      "58\n",
      "True\n"
     ]
    }
   ],
   "source": [
    "## Testing that the mancala iterator always gives complete games -- NOW IT DOES! =)\n",
    "\n",
    "## Intialize the Mancala game iterator\n",
    "iter = kalah_game_iterator()\n",
    "iter_3_list = [next(iter)  for _ in range(3)]\n",
    "\n",
    "\n",
    "for g in iter_3_list:\n",
    "    g_moves = g[0]\n",
    "    print(len(g_moves))\n",
    "\n",
    "    tmp_game = Kalah(6, 4, g_moves)\n",
    "    print(tmp_game.is_finished())"
   ]
  },
  {
   "cell_type": "code",
   "execution_count": null,
   "id": "d638e1e0",
   "metadata": {},
   "outputs": [],
   "source": []
  },
  {
   "cell_type": "code",
   "execution_count": null,
   "id": "8a87dd10",
   "metadata": {},
   "outputs": [],
   "source": []
  },
  {
   "cell_type": "code",
   "execution_count": null,
   "id": "bb56ef96",
   "metadata": {},
   "outputs": [],
   "source": []
  },
  {
   "cell_type": "code",
   "execution_count": 5,
   "id": "0d6e0534",
   "metadata": {
    "ExecuteTime": {
     "end_time": "2023-12-23T05:19:31.419850Z",
     "start_time": "2023-12-23T05:19:31.376280Z"
    }
   },
   "outputs": [
    {
     "name": "stdout",
     "output_type": "stream",
     "text": [
      "63\n",
      "True\n",
      "58\n",
      "True\n",
      "58\n",
      "True\n",
      "65\n",
      "True\n",
      "60\n",
      "True\n"
     ]
    }
   ],
   "source": [
    "## Testing that the mancala iterator always gives complete games -- NOW IT DOES! =)\n",
    "\n",
    "## Intialize the Mancala game iterator\n",
    "iter = kalah_game_iterator()\n",
    "\n",
    "import itertools\n",
    "first_games_list = list(itertools.islice(iter, 5))\n",
    "\n",
    "for g in first_games_list:\n",
    "    g_moves = g[0]\n",
    "    print(len(g_moves))\n",
    "\n",
    "    tmp_game = Kalah(6, 4, g_moves)\n",
    "    print(tmp_game.is_finished())"
   ]
  },
  {
   "cell_type": "code",
   "execution_count": null,
   "id": "4e6d517a",
   "metadata": {},
   "outputs": [],
   "source": []
  },
  {
   "cell_type": "code",
   "execution_count": null,
   "id": "9b2980a2",
   "metadata": {},
   "outputs": [],
   "source": []
  },
  {
   "cell_type": "code",
   "execution_count": null,
   "id": "3c5dc5bb",
   "metadata": {},
   "outputs": [],
   "source": []
  },
  {
   "cell_type": "code",
   "execution_count": 9,
   "id": "61e5210f",
   "metadata": {
    "ExecuteTime": {
     "end_time": "2023-12-23T05:21:34.369051Z",
     "start_time": "2023-12-23T05:21:32.946363Z"
    }
   },
   "outputs": [
    {
     "name": "stdout",
     "output_type": "stream",
     "text": [
      "CPU times: user 1.39 s, sys: 3.2 ms, total: 1.4 s\n",
      "Wall time: 1.42 s\n"
     ]
    }
   ],
   "source": [
    "%%time \n",
    "\n",
    "## Intialize the Mancala game iterator\n",
    "iter = kalah_game_iterator()\n",
    "\n",
    "import itertools\n",
    "first_games_list = list(itertools.islice(iter, 1000))"
   ]
  },
  {
   "cell_type": "code",
   "execution_count": null,
   "id": "8205a1c5",
   "metadata": {
    "ExecuteTime": {
     "end_time": "2023-12-23T05:22:10.353189Z",
     "start_time": "2023-12-23T05:22:10.337832Z"
    }
   },
   "outputs": [],
   "source": []
  },
  {
   "cell_type": "code",
   "execution_count": 11,
   "id": "ee3fcd15",
   "metadata": {
    "ExecuteTime": {
     "end_time": "2023-12-23T05:23:36.940809Z",
     "start_time": "2023-12-23T05:23:36.927913Z"
    }
   },
   "outputs": [],
   "source": [
    "num_of_moves_list = [len(game_moves_list)  for game_moves_list, game_score in first_games_list]"
   ]
  },
  {
   "cell_type": "code",
   "execution_count": 12,
   "id": "61acbd0c",
   "metadata": {
    "ExecuteTime": {
     "end_time": "2023-12-23T05:23:42.730266Z",
     "start_time": "2023-12-23T05:23:42.720042Z"
    }
   },
   "outputs": [
    {
     "data": {
      "text/plain": [
       "1000"
      ]
     },
     "execution_count": 12,
     "metadata": {},
     "output_type": "execute_result"
    }
   ],
   "source": [
    "len(num_of_moves_list)"
   ]
  },
  {
   "cell_type": "code",
   "execution_count": 14,
   "id": "f9a1f760",
   "metadata": {
    "ExecuteTime": {
     "end_time": "2023-12-23T05:24:27.322968Z",
     "start_time": "2023-12-23T05:24:27.296176Z"
    }
   },
   "outputs": [
    {
     "data": {
      "text/plain": [
       "67.878"
      ]
     },
     "execution_count": 14,
     "metadata": {},
     "output_type": "execute_result"
    }
   ],
   "source": [
    "## Average number of moves for the first 100 games\n",
    "1.0 * sum(num_of_moves_list) / len(num_of_moves_list)"
   ]
  },
  {
   "cell_type": "code",
   "execution_count": null,
   "id": "79f26296",
   "metadata": {},
   "outputs": [],
   "source": []
  }
 ],
 "metadata": {
  "hide_input": false,
  "kernelspec": {
   "display_name": "Python 3 (ipykernel)",
   "language": "python",
   "name": "python3"
  },
  "language_info": {
   "codemirror_mode": {
    "name": "ipython",
    "version": 3
   },
   "file_extension": ".py",
   "mimetype": "text/x-python",
   "name": "python",
   "nbconvert_exporter": "python",
   "pygments_lexer": "ipython3",
   "version": "3.9.13"
  },
  "toc": {
   "base_numbering": 1,
   "nav_menu": {},
   "number_sections": false,
   "sideBar": true,
   "skip_h1_title": false,
   "title_cell": "Table of Contents",
   "title_sidebar": "Contents",
   "toc_cell": true,
   "toc_position": {},
   "toc_section_display": true,
   "toc_window_display": false
  },
  "varInspector": {
   "cols": {
    "lenName": 16,
    "lenType": 16,
    "lenVar": 40
   },
   "kernels_config": {
    "python": {
     "delete_cmd_postfix": "",
     "delete_cmd_prefix": "del ",
     "library": "var_list.py",
     "varRefreshCmd": "print(var_dic_list())"
    },
    "r": {
     "delete_cmd_postfix": ") ",
     "delete_cmd_prefix": "rm(",
     "library": "var_list.r",
     "varRefreshCmd": "cat(var_dic_list()) "
    }
   },
   "types_to_exclude": [
    "module",
    "function",
    "builtin_function_or_method",
    "instance",
    "_Feature"
   ],
   "window_display": false
  }
 },
 "nbformat": 4,
 "nbformat_minor": 5
}
