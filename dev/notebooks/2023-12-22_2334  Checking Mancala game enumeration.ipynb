{
 "cells": [
  {
   "cell_type": "markdown",
   "id": "3026f16e",
   "metadata": {
    "toc": true
   },
   "source": [
    "<h1>Table of Contents<span class=\"tocSkip\"></span></h1>\n",
    "<div class=\"toc\"><ul class=\"toc-item\"></ul></div>"
   ]
  },
  {
   "cell_type": "code",
   "execution_count": 1,
   "id": "91be5b3b",
   "metadata": {
    "ExecuteTime": {
     "end_time": "2023-12-23T05:07:38.439967Z",
     "start_time": "2023-12-23T05:07:38.426369Z"
    }
   },
   "outputs": [],
   "source": [
    "## Add the parent directory to the \n",
    "import sys, os\n",
    "sys.path.append(os.path.join(sys.path[0],'..', '..'))"
   ]
  },
  {
   "cell_type": "code",
   "execution_count": 2,
   "id": "610db84c",
   "metadata": {
    "ExecuteTime": {
     "end_time": "2023-12-23T05:07:38.597839Z",
     "start_time": "2023-12-23T05:07:38.589301Z"
    }
   },
   "outputs": [],
   "source": [
    "from mancala import *"
   ]
  },
  {
   "cell_type": "code",
   "execution_count": 3,
   "id": "d05881a2",
   "metadata": {
    "ExecuteTime": {
     "end_time": "2023-12-23T05:05:13.677135Z",
     "start_time": "2023-12-23T05:05:13.672570Z"
    }
   },
   "outputs": [
    {
     "data": {
      "text/plain": [
       "\n",
       "            13  12  11  10   9   8\n",
       "      ------------------------------------\n",
       "             4   4   4   4   4   4\n",
       "         0                           0\n",
       "             4   4   4   4   4   4\n",
       "      ------------------------------------\n",
       "s -->        1   2   3   4   5   6\n"
      ]
     },
     "execution_count": 3,
     "metadata": {},
     "output_type": "execute_result"
    }
   ],
   "source": [
    "Kalah(6,4)"
   ]
  },
  {
   "cell_type": "code",
   "execution_count": 4,
   "id": "b45ffc29",
   "metadata": {
    "ExecuteTime": {
     "end_time": "2023-12-23T05:05:13.845168Z",
     "start_time": "2023-12-23T05:05:13.841128Z"
    }
   },
   "outputs": [
    {
     "data": {
      "text/plain": [
       "\n",
       "             5   4\n",
       "      --------------------\n",
       "             1   1\n",
       "         0           0\n",
       "             1   1\n",
       "      --------------------\n",
       "s -->        1   2\n"
      ]
     },
     "execution_count": 4,
     "metadata": {},
     "output_type": "execute_result"
    }
   ],
   "source": [
    "Kalah(2,1)"
   ]
  },
  {
   "cell_type": "code",
   "execution_count": null,
   "id": "eaf61c4b",
   "metadata": {},
   "outputs": [],
   "source": []
  },
  {
   "cell_type": "code",
   "execution_count": 5,
   "id": "db19710b",
   "metadata": {
    "ExecuteTime": {
     "end_time": "2023-12-23T04:41:43.116249Z",
     "start_time": "2023-12-23T04:41:43.104818Z"
    }
   },
   "outputs": [
    {
     "name": "stdout",
     "output_type": "stream",
     "text": [
      "[1, 13, 1, 8, 6, 8, 5, 8, 6, 4, 12, 5, 8, 3, 11, 1, 13, 1, 12, 6, 10, 3, 8, 1, 13, 1, 10, 5, 6, 2, 9, 5, 1, 8, 6, 8, 2, 13, 1, 10, 11, 1, 12, 13, 1, 2, 3, 8, 4, 8, 5, 8, 6, 8, 9, 1, 13, 12, 2, 11, 3, 13, 12, 4, 13, 6, 5, 6]\n"
     ]
    }
   ],
   "source": [
    "## Show a sample mancala game (i.e. Kalah(6,4))\n",
    "print(example_mancala_game_history)"
   ]
  },
  {
   "cell_type": "code",
   "execution_count": 6,
   "id": "07d19205",
   "metadata": {
    "ExecuteTime": {
     "end_time": "2023-12-23T04:41:43.275036Z",
     "start_time": "2023-12-23T04:41:43.266460Z"
    }
   },
   "outputs": [
    {
     "data": {
      "text/plain": [
       "68"
      ]
     },
     "execution_count": 6,
     "metadata": {},
     "output_type": "execute_result"
    }
   ],
   "source": [
    "len(example_mancala_game_history)"
   ]
  },
  {
   "cell_type": "code",
   "execution_count": null,
   "id": "bdd5ae99",
   "metadata": {},
   "outputs": [],
   "source": []
  },
  {
   "cell_type": "code",
   "execution_count": 7,
   "id": "0ba2073c",
   "metadata": {
    "ExecuteTime": {
     "end_time": "2023-12-23T04:41:43.666312Z",
     "start_time": "2023-12-23T04:41:43.650052Z"
    }
   },
   "outputs": [
    {
     "data": {
      "text/plain": [
       "\n",
       "            13  12  11  10   9   8\n",
       "      ------------------------------------\n",
       "             0   0   0   0   0   0\n",
       "        19                          29\n",
       "             0   0   0   0   0   0\n",
       "      ------------------------------------\n",
       "             1   2   3   4   5   6\n"
      ]
     },
     "execution_count": 7,
     "metadata": {},
     "output_type": "execute_result"
    }
   ],
   "source": [
    "## Initialize a mancala game with some initial moves -- in this case, a full game! =)\n",
    "Kalah(6, 4, example_mancala_game_history)"
   ]
  },
  {
   "cell_type": "code",
   "execution_count": null,
   "id": "b4738a63",
   "metadata": {},
   "outputs": [],
   "source": []
  },
  {
   "cell_type": "code",
   "execution_count": 8,
   "id": "5b929723",
   "metadata": {
    "ExecuteTime": {
     "end_time": "2023-12-23T04:41:44.038626Z",
     "start_time": "2023-12-23T04:41:44.022663Z"
    }
   },
   "outputs": [
    {
     "data": {
      "text/plain": [
       "\n",
       "            13  12  11  10   9   8\n",
       "      ------------------------------------\n",
       "             0   0   0   0   0   0\n",
       "        19                          28\n",
       "             0   0   0   0   0   1\n",
       "      ------------------------------------\n",
       "s -->        1   2   3   4   5   6\n"
      ]
     },
     "execution_count": 8,
     "metadata": {},
     "output_type": "execute_result"
    }
   ],
   "source": [
    "## Initialize a mancala game with some initial moves -- in this case, almost a full game, and some nonsense moves.\n",
    "Kalah(6, 4, example_mancala_game_history[:-1] + [1,2,5])"
   ]
  },
  {
   "cell_type": "code",
   "execution_count": null,
   "id": "0ee0bb3a",
   "metadata": {},
   "outputs": [],
   "source": []
  },
  {
   "cell_type": "code",
   "execution_count": 9,
   "id": "b1d7df43",
   "metadata": {
    "ExecuteTime": {
     "end_time": "2023-12-23T04:41:44.388872Z",
     "start_time": "2023-12-23T04:41:44.373636Z"
    }
   },
   "outputs": [
    {
     "data": {
      "text/plain": [
       "\n",
       "            13  12  11  10   9   8\n",
       "      ------------------------------------\n",
       "             0   0   0   0   0   0\n",
       "        19                          26\n",
       "             0   0   0   0   2   1\n",
       "      ------------------------------------\n",
       "s -->        1   2   3   4   5   6\n"
      ]
     },
     "execution_count": 9,
     "metadata": {},
     "output_type": "execute_result"
    }
   ],
   "source": [
    "## Initialize a mancala game with some initial moves -- in this case, almost a full game, and some nonsense moves.\n",
    "tmp_game = Kalah(6, 4, example_mancala_game_history[:-3])\n",
    "tmp_game"
   ]
  },
  {
   "cell_type": "code",
   "execution_count": 10,
   "id": "7ccb25dc",
   "metadata": {
    "ExecuteTime": {
     "end_time": "2023-12-23T04:41:44.582115Z",
     "start_time": "2023-12-23T04:41:44.570581Z"
    }
   },
   "outputs": [
    {
     "data": {
      "text/plain": [
       "[5, 6]"
      ]
     },
     "execution_count": 10,
     "metadata": {},
     "output_type": "execute_result"
    }
   ],
   "source": [
    "tmp_game.allowed_move_list()"
   ]
  },
  {
   "cell_type": "code",
   "execution_count": null,
   "id": "3d7e335f",
   "metadata": {},
   "outputs": [],
   "source": []
  },
  {
   "cell_type": "code",
   "execution_count": 21,
   "id": "05a73082",
   "metadata": {
    "ExecuteTime": {
     "end_time": "2023-12-23T04:45:49.534742Z",
     "start_time": "2023-12-23T04:45:49.520899Z"
    }
   },
   "outputs": [
    {
     "data": {
      "text/plain": [
       "\n",
       "            13  12  11  10   9   8\n",
       "      ------------------------------------\n",
       "             0   7   8   8  13   0\n",
       "         0                          11\n",
       "             1   0   0   0   0   0\n",
       "      ------------------------------------\n",
       "s -->        1   2   3   4   5   6\n"
      ]
     },
     "execution_count": 21,
     "metadata": {},
     "output_type": "execute_result"
    }
   ],
   "source": [
    "move_list = [1, 8, 2, 3, 8, 4, 8, 5, 8, 6, 8]\n",
    "Kalah(6, 4, move_list)"
   ]
  },
  {
   "cell_type": "code",
   "execution_count": null,
   "id": "34333cc0",
   "metadata": {},
   "outputs": [],
   "source": [
    "[0, 1, 0, 0, 0, 0, 0, 11, 0, 13, 8, 8, 7, 0, 's']"
   ]
  },
  {
   "cell_type": "code",
   "execution_count": null,
   "id": "6f8c763d",
   "metadata": {},
   "outputs": [],
   "source": []
  },
  {
   "cell_type": "code",
   "execution_count": null,
   "id": "38bce83a",
   "metadata": {},
   "outputs": [],
   "source": []
  },
  {
   "cell_type": "code",
   "execution_count": 22,
   "id": "ec494d3c",
   "metadata": {
    "ExecuteTime": {
     "end_time": "2023-12-23T04:46:46.007541Z",
     "start_time": "2023-12-23T04:46:45.991387Z"
    }
   },
   "outputs": [
    {
     "data": {
      "text/plain": [
       "\n",
       "            13  12  11  10   9   8\n",
       "      ------------------------------------\n",
       "             0   0   0   0   0   0\n",
       "        21                          27\n",
       "             0   0   0   0   0   0\n",
       "      ------------------------------------\n",
       "             1   2   3   4   5   6\n"
      ]
     },
     "execution_count": 22,
     "metadata": {},
     "output_type": "execute_result"
    }
   ],
   "source": [
    "move_list = [1, 8, 2, 3, 8, 4, 8, 5, 8, 6, 8, 1, 9, 1, 8, 2, 10, 1, 11, 1, 8, 2, 9, 3, 8, 4, 10, 5, 11, 6, 8, 9, 10, 11, 12, 1, 13, 1, 2, 3, 4, 5, 8, 6, 8, 9, 10, 11, 12, 1, 13, 1, 2, 3, 4, 5, 6, 8, 9, 10, 11, 12, 13]\n",
    "Kalah(6, 4, move_list)"
   ]
  },
  {
   "cell_type": "code",
   "execution_count": 23,
   "id": "f4b52f29",
   "metadata": {
    "ExecuteTime": {
     "end_time": "2023-12-23T04:46:55.607980Z",
     "start_time": "2023-12-23T04:46:55.588014Z"
    }
   },
   "outputs": [
    {
     "data": {
      "text/plain": [
       "63"
      ]
     },
     "execution_count": 23,
     "metadata": {},
     "output_type": "execute_result"
    }
   ],
   "source": [
    "len(move_list)"
   ]
  },
  {
   "cell_type": "code",
   "execution_count": 24,
   "id": "c336fafc",
   "metadata": {
    "ExecuteTime": {
     "end_time": "2023-12-23T04:47:03.761723Z",
     "start_time": "2023-12-23T04:47:03.747792Z"
    }
   },
   "outputs": [
    {
     "data": {
      "text/plain": [
       "56"
      ]
     },
     "execution_count": 24,
     "metadata": {},
     "output_type": "execute_result"
    }
   ],
   "source": [
    "len(g1[0])"
   ]
  },
  {
   "cell_type": "code",
   "execution_count": 38,
   "id": "cb7c2d29",
   "metadata": {
    "ExecuteTime": {
     "end_time": "2023-12-23T04:49:10.886424Z",
     "start_time": "2023-12-23T04:49:10.862998Z"
    }
   },
   "outputs": [
    {
     "data": {
      "text/plain": [
       "True"
      ]
     },
     "execution_count": 38,
     "metadata": {},
     "output_type": "execute_result"
    }
   ],
   "source": [
    "N = 55\n",
    "move_list[:N] == g1[0][:N]"
   ]
  },
  {
   "cell_type": "code",
   "execution_count": 39,
   "id": "e60308fc",
   "metadata": {
    "ExecuteTime": {
     "end_time": "2023-12-23T04:49:43.040590Z",
     "start_time": "2023-12-23T04:49:43.021620Z"
    }
   },
   "outputs": [
    {
     "name": "stdout",
     "output_type": "stream",
     "text": [
      "[1, 8, 2, 3, 8, 4, 8, 5, 8, 6, 8, 1, 9, 1, 8, 2, 10, 1, 11, 1, 8, 2, 9, 3, 8, 4, 10, 5, 11, 6, 8, 9, 10, 11, 12, 1, 13, 1, 2, 3, 4, 5, 8, 6, 8, 9, 10, 11, 12, 1, 13, 1, 2, 3, 4, 5, 6, 8, 9, 10, 11, 12, 13]\n"
     ]
    }
   ],
   "source": [
    "print(move_list)"
   ]
  },
  {
   "cell_type": "code",
   "execution_count": 40,
   "id": "332dd5a3",
   "metadata": {
    "ExecuteTime": {
     "end_time": "2023-12-23T04:49:51.916651Z",
     "start_time": "2023-12-23T04:49:51.898843Z"
    }
   },
   "outputs": [
    {
     "name": "stdout",
     "output_type": "stream",
     "text": [
      "[1, 8, 2, 3, 8, 4, 8, 5, 8, 6, 8, 1, 9, 1, 8, 2, 10, 1, 11, 1, 8, 2, 9, 3, 8, 4, 10, 5, 11, 6, 8, 9, 10, 11, 12, 1, 13, 1, 2, 3, 4, 5, 8, 6, 8, 9, 10, 11, 12, 1, 13, 1, 2, 3, 4, 6]\n"
     ]
    }
   ],
   "source": [
    "print(g1[0])"
   ]
  },
  {
   "cell_type": "code",
   "execution_count": null,
   "id": "15f13750",
   "metadata": {},
   "outputs": [],
   "source": []
  },
  {
   "cell_type": "code",
   "execution_count": 11,
   "id": "22ee4a6a",
   "metadata": {
    "ExecuteTime": {
     "end_time": "2023-12-23T04:41:45.392026Z",
     "start_time": "2023-12-23T04:41:45.383587Z"
    }
   },
   "outputs": [],
   "source": [
    "## Intialize the Mancala game iterator\n",
    "iter = kalah_game_iterator()"
   ]
  },
  {
   "cell_type": "code",
   "execution_count": 25,
   "id": "2bbbcb42",
   "metadata": {
    "ExecuteTime": {
     "end_time": "2023-12-23T04:47:36.410688Z",
     "start_time": "2023-12-23T04:47:36.391351Z"
    }
   },
   "outputs": [
    {
     "data": {
      "text/plain": [
       "<generator object kalah_game_iterator at 0x7ff15067f970>"
      ]
     },
     "execution_count": 25,
     "metadata": {},
     "output_type": "execute_result"
    }
   ],
   "source": [
    "iter"
   ]
  },
  {
   "cell_type": "code",
   "execution_count": 12,
   "id": "fe60b29d",
   "metadata": {
    "ExecuteTime": {
     "end_time": "2023-12-23T04:41:45.595585Z",
     "start_time": "2023-12-23T04:41:45.567060Z"
    },
    "scrolled": false
   },
   "outputs": [
    {
     "name": "stdout",
     "output_type": "stream",
     "text": [
      "CHECKPOINT 3:\n",
      "len(game_list) = 3\n",
      "len(current_game.state_list()) = [0, 0, 5, 5, 5, 5, 4, 0, 0, 5, 5, 5, 5, 4, 's']\n",
      "len(current_game.history_list()) = [1, 8]\n",
      "len(current_game.next_player()) = s\n",
      "CHECKPOINT 3:\n",
      "len(game_list) = 4\n",
      "len(current_game.state_list()) = [0, 0, 0, 6, 6, 6, 5, 1, 0, 5, 5, 5, 5, 4, 's']\n",
      "len(current_game.history_list()) = [1, 8, 2]\n",
      "len(current_game.next_player()) = s\n",
      "CHECKPOINT 3:\n",
      "len(game_list) = 5\n",
      "len(current_game.state_list()) = [0, 0, 0, 0, 7, 7, 6, 2, 1, 6, 5, 5, 5, 4, 'n']\n",
      "len(current_game.history_list()) = [1, 8, 2, 3]\n",
      "len(current_game.next_player()) = n\n",
      "CHECKPOINT 3:\n",
      "len(game_list) = 6\n",
      "len(current_game.state_list()) = [0, 0, 0, 0, 7, 7, 6, 2, 0, 7, 5, 5, 5, 4, 's']\n",
      "len(current_game.history_list()) = [1, 8, 2, 3, 8]\n",
      "len(current_game.next_player()) = s\n",
      "CHECKPOINT 3:\n",
      "len(game_list) = 7\n",
      "len(current_game.state_list()) = [0, 0, 0, 0, 0, 8, 7, 3, 1, 8, 6, 6, 5, 4, 'n']\n",
      "len(current_game.history_list()) = [1, 8, 2, 3, 8, 4]\n",
      "len(current_game.next_player()) = n\n",
      "CHECKPOINT 3:\n",
      "len(game_list) = 8\n",
      "len(current_game.state_list()) = [0, 0, 0, 0, 0, 8, 7, 3, 0, 9, 6, 6, 5, 4, 's']\n",
      "len(current_game.history_list()) = [1, 8, 2, 3, 8, 4, 8]\n",
      "len(current_game.next_player()) = s\n",
      "CHECKPOINT 3:\n",
      "len(game_list) = 9\n",
      "len(current_game.state_list()) = [0, 0, 0, 0, 0, 0, 8, 4, 1, 10, 7, 7, 6, 5, 'n']\n",
      "len(current_game.history_list()) = [1, 8, 2, 3, 8, 4, 8, 5]\n",
      "len(current_game.next_player()) = n\n",
      "CHECKPOINT 3:\n",
      "len(game_list) = 10\n",
      "len(current_game.state_list()) = [0, 0, 0, 0, 0, 0, 8, 4, 0, 11, 7, 7, 6, 5, 's']\n",
      "len(current_game.history_list()) = [1, 8, 2, 3, 8, 4, 8, 5, 8]\n",
      "len(current_game.next_player()) = s\n",
      "CHECKPOINT 3:\n",
      "len(game_list) = 11\n",
      "len(current_game.state_list()) = [0, 1, 0, 0, 0, 0, 0, 11, 1, 12, 8, 8, 7, 0, 'n']\n",
      "len(current_game.history_list()) = [1, 8, 2, 3, 8, 4, 8, 5, 8, 6]\n",
      "len(current_game.next_player()) = n\n",
      "CHECKPOINT 3:\n",
      "len(game_list) = 12\n",
      "len(current_game.state_list()) = [0, 1, 0, 0, 0, 0, 0, 11, 0, 13, 8, 8, 7, 0, 's']\n",
      "len(current_game.history_list()) = [1, 8, 2, 3, 8, 4, 8, 5, 8, 6, 8]\n",
      "len(current_game.next_player()) = s\n",
      "CHECKPOINT 3:\n",
      "len(game_list) = 13\n",
      "len(current_game.state_list()) = [0, 0, 1, 0, 0, 0, 0, 18, 0, 13, 8, 8, 0, 0, 'n']\n",
      "len(current_game.history_list()) = [1, 8, 2, 3, 8, 4, 8, 5, 8, 6, 8, 1]\n",
      "len(current_game.next_player()) = n\n",
      "CHECKPOINT 3:\n",
      "len(game_list) = 14\n",
      "len(current_game.state_list()) = [2, 1, 2, 1, 1, 0, 1, 18, 1, 1, 9, 9, 1, 1, 's']\n",
      "len(current_game.history_list()) = [1, 8, 2, 3, 8, 4, 8, 5, 8, 6, 8, 1, 9]\n",
      "len(current_game.next_player()) = s\n",
      "CHECKPOINT 3:\n",
      "len(game_list) = 15\n",
      "len(current_game.state_list()) = [2, 0, 3, 1, 1, 0, 1, 18, 1, 1, 9, 9, 1, 1, 'n']\n",
      "len(current_game.history_list()) = [1, 8, 2, 3, 8, 4, 8, 5, 8, 6, 8, 1, 9, 1]\n",
      "len(current_game.next_player()) = n\n",
      "CHECKPOINT 3:\n",
      "len(game_list) = 16\n",
      "len(current_game.state_list()) = [2, 0, 3, 1, 1, 0, 1, 18, 0, 2, 9, 9, 1, 1, 's']\n",
      "len(current_game.history_list()) = [1, 8, 2, 3, 8, 4, 8, 5, 8, 6, 8, 1, 9, 1, 8]\n",
      "len(current_game.next_player()) = s\n",
      "CHECKPOINT 3:\n",
      "len(game_list) = 17\n",
      "len(current_game.state_list()) = [2, 0, 0, 2, 2, 1, 1, 20, 0, 0, 9, 9, 1, 1, 'n']\n",
      "len(current_game.history_list()) = [1, 8, 2, 3, 8, 4, 8, 5, 8, 6, 8, 1, 9, 1, 8, 2]\n",
      "len(current_game.next_player()) = n\n",
      "CHECKPOINT 3:\n",
      "len(game_list) = 18\n",
      "len(current_game.state_list()) = [3, 1, 1, 3, 3, 2, 1, 20, 0, 0, 0, 10, 2, 2, 's']\n",
      "len(current_game.history_list()) = [1, 8, 2, 3, 8, 4, 8, 5, 8, 6, 8, 1, 9, 1, 8, 2, 10]\n",
      "len(current_game.next_player()) = s\n",
      "CHECKPOINT 3:\n",
      "len(game_list) = 19\n",
      "len(current_game.state_list()) = [3, 0, 2, 3, 3, 2, 1, 20, 0, 0, 0, 10, 2, 2, 'n']\n",
      "len(current_game.history_list()) = [1, 8, 2, 3, 8, 4, 8, 5, 8, 6, 8, 1, 9, 1, 8, 2, 10, 1]\n",
      "len(current_game.next_player()) = n\n",
      "CHECKPOINT 3:\n",
      "len(game_list) = 20\n",
      "len(current_game.state_list()) = [6, 1, 3, 4, 4, 3, 0, 20, 1, 0, 0, 0, 3, 3, 's']\n",
      "len(current_game.history_list()) = [1, 8, 2, 3, 8, 4, 8, 5, 8, 6, 8, 1, 9, 1, 8, 2, 10, 1, 11]\n",
      "len(current_game.next_player()) = s\n",
      "CHECKPOINT 3:\n",
      "len(game_list) = 21\n",
      "len(current_game.state_list()) = [6, 0, 4, 4, 4, 3, 0, 20, 1, 0, 0, 0, 3, 3, 'n']\n",
      "len(current_game.history_list()) = [1, 8, 2, 3, 8, 4, 8, 5, 8, 6, 8, 1, 9, 1, 8, 2, 10, 1, 11, 1]\n",
      "len(current_game.next_player()) = n\n",
      "CHECKPOINT 3:\n",
      "len(game_list) = 22\n",
      "len(current_game.state_list()) = [9, 0, 4, 4, 4, 0, 0, 20, 0, 1, 0, 0, 3, 3, 's']\n",
      "len(current_game.history_list()) = [1, 8, 2, 3, 8, 4, 8, 5, 8, 6, 8, 1, 9, 1, 8, 2, 10, 1, 11, 1, 8]\n",
      "len(current_game.next_player()) = s\n",
      "CHECKPOINT 3:\n",
      "len(game_list) = 23\n",
      "len(current_game.state_list()) = [9, 0, 0, 5, 5, 1, 1, 20, 0, 1, 0, 0, 3, 3, 'n']\n",
      "len(current_game.history_list()) = [1, 8, 2, 3, 8, 4, 8, 5, 8, 6, 8, 1, 9, 1, 8, 2, 10, 1, 11, 1, 8, 2]\n",
      "len(current_game.next_player()) = n\n",
      "CHECKPOINT 3:\n",
      "len(game_list) = 24\n",
      "len(current_game.state_list()) = [14, 0, 0, 5, 0, 1, 1, 20, 0, 0, 1, 0, 3, 3, 's']\n",
      "len(current_game.history_list()) = [1, 8, 2, 3, 8, 4, 8, 5, 8, 6, 8, 1, 9, 1, 8, 2, 10, 1, 11, 1, 8, 2, 9]\n",
      "len(current_game.next_player()) = s\n",
      "CHECKPOINT 3:\n",
      "len(game_list) = 25\n",
      "len(current_game.state_list()) = [14, 0, 0, 0, 1, 2, 2, 21, 1, 0, 1, 0, 3, 3, 'n']\n",
      "len(current_game.history_list()) = [1, 8, 2, 3, 8, 4, 8, 5, 8, 6, 8, 1, 9, 1, 8, 2, 10, 1, 11, 1, 8, 2, 9, 3]\n",
      "len(current_game.next_player()) = n\n",
      "CHECKPOINT 3:\n",
      "len(game_list) = 26\n",
      "len(current_game.state_list()) = [16, 0, 0, 0, 1, 0, 2, 21, 0, 1, 1, 0, 3, 3, 's']\n",
      "len(current_game.history_list()) = [1, 8, 2, 3, 8, 4, 8, 5, 8, 6, 8, 1, 9, 1, 8, 2, 10, 1, 11, 1, 8, 2, 9, 3, 8]\n",
      "len(current_game.next_player()) = s\n",
      "CHECKPOINT 3:\n",
      "len(game_list) = 27\n",
      "len(current_game.state_list()) = [16, 0, 0, 0, 0, 1, 2, 22, 0, 0, 1, 0, 3, 3, 'n']\n",
      "len(current_game.history_list()) = [1, 8, 2, 3, 8, 4, 8, 5, 8, 6, 8, 1, 9, 1, 8, 2, 10, 1, 11, 1, 8, 2, 9, 3, 8, 4]\n",
      "len(current_game.next_player()) = n\n",
      "CHECKPOINT 3:\n",
      "len(game_list) = 28\n",
      "len(current_game.state_list()) = [16, 0, 0, 0, 0, 1, 2, 22, 0, 0, 0, 1, 3, 3, 's']\n",
      "len(current_game.history_list()) = [1, 8, 2, 3, 8, 4, 8, 5, 8, 6, 8, 1, 9, 1, 8, 2, 10, 1, 11, 1, 8, 2, 9, 3, 8, 4, 10]\n",
      "len(current_game.next_player()) = s\n",
      "CHECKPOINT 3:\n",
      "len(game_list) = 29\n",
      "len(current_game.state_list()) = [16, 0, 0, 0, 0, 0, 3, 22, 0, 0, 0, 1, 3, 3, 'n']\n",
      "len(current_game.history_list()) = [1, 8, 2, 3, 8, 4, 8, 5, 8, 6, 8, 1, 9, 1, 8, 2, 10, 1, 11, 1, 8, 2, 9, 3, 8, 4, 10, 5]\n",
      "len(current_game.next_player()) = n\n",
      "CHECKPOINT 3:\n",
      "len(game_list) = 30\n",
      "len(current_game.state_list()) = [16, 0, 0, 0, 0, 0, 3, 22, 0, 0, 0, 0, 4, 3, 's']\n",
      "len(current_game.history_list()) = [1, 8, 2, 3, 8, 4, 8, 5, 8, 6, 8, 1, 9, 1, 8, 2, 10, 1, 11, 1, 8, 2, 9, 3, 8, 4, 10, 5, 11]\n",
      "len(current_game.next_player()) = s\n",
      "CHECKPOINT 3:\n",
      "len(game_list) = 31\n",
      "len(current_game.state_list()) = [16, 0, 0, 0, 0, 0, 0, 23, 1, 1, 0, 0, 4, 3, 'n']\n",
      "len(current_game.history_list()) = [1, 8, 2, 3, 8, 4, 8, 5, 8, 6, 8, 1, 9, 1, 8, 2, 10, 1, 11, 1, 8, 2, 9, 3, 8, 4, 10, 5, 11, 6]\n",
      "len(current_game.next_player()) = n\n",
      "CHECKPOINT 3:\n",
      "len(game_list) = 32\n",
      "len(current_game.state_list()) = [16, 0, 0, 0, 0, 0, 0, 23, 0, 2, 0, 0, 4, 3, 'n']\n",
      "len(current_game.history_list()) = [1, 8, 2, 3, 8, 4, 8, 5, 8, 6, 8, 1, 9, 1, 8, 2, 10, 1, 11, 1, 8, 2, 9, 3, 8, 4, 10, 5, 11, 6, 8]\n",
      "len(current_game.next_player()) = n\n",
      "CHECKPOINT 3:\n",
      "len(game_list) = 33\n",
      "len(current_game.state_list()) = [16, 0, 0, 0, 0, 0, 0, 23, 0, 0, 1, 1, 4, 3, 'n']\n",
      "len(current_game.history_list()) = [1, 8, 2, 3, 8, 4, 8, 5, 8, 6, 8, 1, 9, 1, 8, 2, 10, 1, 11, 1, 8, 2, 9, 3, 8, 4, 10, 5, 11, 6, 8, 9]\n",
      "len(current_game.next_player()) = n\n",
      "CHECKPOINT 3:\n",
      "len(game_list) = 34\n",
      "len(current_game.state_list()) = [16, 0, 0, 0, 0, 0, 0, 23, 0, 0, 0, 2, 4, 3, 'n']\n",
      "len(current_game.history_list()) = [1, 8, 2, 3, 8, 4, 8, 5, 8, 6, 8, 1, 9, 1, 8, 2, 10, 1, 11, 1, 8, 2, 9, 3, 8, 4, 10, 5, 11, 6, 8, 9, 10]\n",
      "len(current_game.next_player()) = n\n",
      "CHECKPOINT 3:\n",
      "len(game_list) = 35\n",
      "len(current_game.state_list()) = [16, 0, 0, 0, 0, 0, 0, 23, 0, 0, 0, 0, 5, 4, 'n']\n",
      "len(current_game.history_list()) = [1, 8, 2, 3, 8, 4, 8, 5, 8, 6, 8, 1, 9, 1, 8, 2, 10, 1, 11, 1, 8, 2, 9, 3, 8, 4, 10, 5, 11, 6, 8, 9, 10, 11]\n",
      "len(current_game.next_player()) = n\n",
      "CHECKPOINT 3:\n",
      "len(game_list) = 36\n",
      "len(current_game.state_list()) = [17, 1, 1, 1, 0, 0, 0, 23, 0, 0, 0, 0, 0, 5, 's']\n",
      "len(current_game.history_list()) = [1, 8, 2, 3, 8, 4, 8, 5, 8, 6, 8, 1, 9, 1, 8, 2, 10, 1, 11, 1, 8, 2, 9, 3, 8, 4, 10, 5, 11, 6, 8, 9, 10, 11, 12]\n",
      "len(current_game.next_player()) = s\n",
      "CHECKPOINT 3:\n",
      "len(game_list) = 37\n",
      "len(current_game.state_list()) = [17, 0, 2, 1, 0, 0, 0, 23, 0, 0, 0, 0, 0, 5, 'n']\n",
      "len(current_game.history_list()) = [1, 8, 2, 3, 8, 4, 8, 5, 8, 6, 8, 1, 9, 1, 8, 2, 10, 1, 11, 1, 8, 2, 9, 3, 8, 4, 10, 5, 11, 6, 8, 9, 10, 11, 12, 1]\n",
      "len(current_game.next_player()) = n\n",
      "CHECKPOINT 3:\n",
      "len(game_list) = 38\n",
      "len(current_game.state_list()) = [18, 1, 3, 2, 1, 0, 0, 23, 0, 0, 0, 0, 0, 0, 's']\n",
      "len(current_game.history_list()) = [1, 8, 2, 3, 8, 4, 8, 5, 8, 6, 8, 1, 9, 1, 8, 2, 10, 1, 11, 1, 8, 2, 9, 3, 8, 4, 10, 5, 11, 6, 8, 9, 10, 11, 12, 1, 13]\n",
      "len(current_game.next_player()) = s\n",
      "CHECKPOINT 3:\n",
      "len(game_list) = 39\n",
      "len(current_game.state_list()) = [18, 0, 4, 2, 1, 0, 0, 23, 0, 0, 0, 0, 0, 0, 's']\n",
      "len(current_game.history_list()) = [1, 8, 2, 3, 8, 4, 8, 5, 8, 6, 8, 1, 9, 1, 8, 2, 10, 1, 11, 1, 8, 2, 9, 3, 8, 4, 10, 5, 11, 6, 8, 9, 10, 11, 12, 1, 13, 1]\n",
      "len(current_game.next_player()) = s\n",
      "CHECKPOINT 3:\n",
      "len(game_list) = 40\n",
      "len(current_game.state_list()) = [18, 0, 0, 3, 2, 1, 1, 23, 0, 0, 0, 0, 0, 0, 's']\n",
      "len(current_game.history_list()) = [1, 8, 2, 3, 8, 4, 8, 5, 8, 6, 8, 1, 9, 1, 8, 2, 10, 1, 11, 1, 8, 2, 9, 3, 8, 4, 10, 5, 11, 6, 8, 9, 10, 11, 12, 1, 13, 1, 2]\n",
      "len(current_game.next_player()) = s\n",
      "CHECKPOINT 3:\n",
      "len(game_list) = 41\n",
      "len(current_game.state_list()) = [18, 0, 0, 0, 3, 2, 2, 23, 0, 0, 0, 0, 0, 0, 's']\n",
      "len(current_game.history_list()) = [1, 8, 2, 3, 8, 4, 8, 5, 8, 6, 8, 1, 9, 1, 8, 2, 10, 1, 11, 1, 8, 2, 9, 3, 8, 4, 10, 5, 11, 6, 8, 9, 10, 11, 12, 1, 13, 1, 2, 3]\n",
      "len(current_game.next_player()) = s\n",
      "CHECKPOINT 3:\n",
      "len(game_list) = 42\n",
      "len(current_game.state_list()) = [18, 0, 0, 0, 0, 3, 3, 24, 0, 0, 0, 0, 0, 0, 's']\n",
      "len(current_game.history_list()) = [1, 8, 2, 3, 8, 4, 8, 5, 8, 6, 8, 1, 9, 1, 8, 2, 10, 1, 11, 1, 8, 2, 9, 3, 8, 4, 10, 5, 11, 6, 8, 9, 10, 11, 12, 1, 13, 1, 2, 3, 4]\n",
      "len(current_game.next_player()) = s\n",
      "CHECKPOINT 3:\n",
      "len(game_list) = 43\n",
      "len(current_game.state_list()) = [18, 0, 0, 0, 0, 0, 4, 25, 1, 0, 0, 0, 0, 0, 'n']\n",
      "len(current_game.history_list()) = [1, 8, 2, 3, 8, 4, 8, 5, 8, 6, 8, 1, 9, 1, 8, 2, 10, 1, 11, 1, 8, 2, 9, 3, 8, 4, 10, 5, 11, 6, 8, 9, 10, 11, 12, 1, 13, 1, 2, 3, 4, 5]\n",
      "len(current_game.next_player()) = n\n",
      "CHECKPOINT 3:\n",
      "len(game_list) = 44\n",
      "len(current_game.state_list()) = [18, 0, 0, 0, 0, 0, 4, 25, 0, 1, 0, 0, 0, 0, 's']\n",
      "len(current_game.history_list()) = [1, 8, 2, 3, 8, 4, 8, 5, 8, 6, 8, 1, 9, 1, 8, 2, 10, 1, 11, 1, 8, 2, 9, 3, 8, 4, 10, 5, 11, 6, 8, 9, 10, 11, 12, 1, 13, 1, 2, 3, 4, 5, 8]\n",
      "len(current_game.next_player()) = s\n",
      "CHECKPOINT 3:\n",
      "len(game_list) = 45\n",
      "len(current_game.state_list()) = [18, 0, 0, 0, 0, 0, 0, 26, 1, 2, 1, 0, 0, 0, 'n']\n",
      "len(current_game.history_list()) = [1, 8, 2, 3, 8, 4, 8, 5, 8, 6, 8, 1, 9, 1, 8, 2, 10, 1, 11, 1, 8, 2, 9, 3, 8, 4, 10, 5, 11, 6, 8, 9, 10, 11, 12, 1, 13, 1, 2, 3, 4, 5, 8, 6]\n",
      "len(current_game.next_player()) = n\n",
      "CHECKPOINT 3:\n",
      "len(game_list) = 46\n",
      "len(current_game.state_list()) = [18, 0, 0, 0, 0, 0, 0, 26, 0, 3, 1, 0, 0, 0, 'n']\n",
      "len(current_game.history_list()) = [1, 8, 2, 3, 8, 4, 8, 5, 8, 6, 8, 1, 9, 1, 8, 2, 10, 1, 11, 1, 8, 2, 9, 3, 8, 4, 10, 5, 11, 6, 8, 9, 10, 11, 12, 1, 13, 1, 2, 3, 4, 5, 8, 6, 8]\n",
      "len(current_game.next_player()) = n\n",
      "CHECKPOINT 3:\n",
      "len(game_list) = 47\n",
      "len(current_game.state_list()) = [18, 0, 0, 0, 0, 0, 0, 26, 0, 0, 2, 1, 1, 0, 'n']\n",
      "len(current_game.history_list()) = [1, 8, 2, 3, 8, 4, 8, 5, 8, 6, 8, 1, 9, 1, 8, 2, 10, 1, 11, 1, 8, 2, 9, 3, 8, 4, 10, 5, 11, 6, 8, 9, 10, 11, 12, 1, 13, 1, 2, 3, 4, 5, 8, 6, 8, 9]\n",
      "len(current_game.next_player()) = n\n",
      "CHECKPOINT 3:\n",
      "len(game_list) = 48\n",
      "len(current_game.state_list()) = [18, 0, 0, 0, 0, 0, 0, 26, 0, 0, 0, 2, 2, 0, 'n']\n",
      "len(current_game.history_list()) = [1, 8, 2, 3, 8, 4, 8, 5, 8, 6, 8, 1, 9, 1, 8, 2, 10, 1, 11, 1, 8, 2, 9, 3, 8, 4, 10, 5, 11, 6, 8, 9, 10, 11, 12, 1, 13, 1, 2, 3, 4, 5, 8, 6, 8, 9, 10]\n",
      "len(current_game.next_player()) = n\n",
      "CHECKPOINT 3:\n",
      "len(game_list) = 49\n",
      "len(current_game.state_list()) = [18, 0, 0, 0, 0, 0, 0, 26, 0, 0, 0, 0, 3, 1, 'n']\n",
      "len(current_game.history_list()) = [1, 8, 2, 3, 8, 4, 8, 5, 8, 6, 8, 1, 9, 1, 8, 2, 10, 1, 11, 1, 8, 2, 9, 3, 8, 4, 10, 5, 11, 6, 8, 9, 10, 11, 12, 1, 13, 1, 2, 3, 4, 5, 8, 6, 8, 9, 10, 11]\n",
      "len(current_game.next_player()) = n\n",
      "CHECKPOINT 3:\n",
      "len(game_list) = 50\n",
      "len(current_game.state_list()) = [19, 1, 0, 0, 0, 0, 0, 26, 0, 0, 0, 0, 0, 2, 's']\n",
      "len(current_game.history_list()) = [1, 8, 2, 3, 8, 4, 8, 5, 8, 6, 8, 1, 9, 1, 8, 2, 10, 1, 11, 1, 8, 2, 9, 3, 8, 4, 10, 5, 11, 6, 8, 9, 10, 11, 12, 1, 13, 1, 2, 3, 4, 5, 8, 6, 8, 9, 10, 11, 12]\n",
      "len(current_game.next_player()) = s\n",
      "CHECKPOINT 3:\n",
      "len(game_list) = 51\n",
      "len(current_game.state_list()) = [19, 0, 1, 0, 0, 0, 0, 26, 0, 0, 0, 0, 0, 2, 'n']\n",
      "len(current_game.history_list()) = [1, 8, 2, 3, 8, 4, 8, 5, 8, 6, 8, 1, 9, 1, 8, 2, 10, 1, 11, 1, 8, 2, 9, 3, 8, 4, 10, 5, 11, 6, 8, 9, 10, 11, 12, 1, 13, 1, 2, 3, 4, 5, 8, 6, 8, 9, 10, 11, 12, 1]\n",
      "len(current_game.next_player()) = n\n",
      "CHECKPOINT 3:\n",
      "len(game_list) = 52\n",
      "len(current_game.state_list()) = [20, 1, 1, 0, 0, 0, 0, 26, 0, 0, 0, 0, 0, 0, 's']\n",
      "len(current_game.history_list()) = [1, 8, 2, 3, 8, 4, 8, 5, 8, 6, 8, 1, 9, 1, 8, 2, 10, 1, 11, 1, 8, 2, 9, 3, 8, 4, 10, 5, 11, 6, 8, 9, 10, 11, 12, 1, 13, 1, 2, 3, 4, 5, 8, 6, 8, 9, 10, 11, 12, 1, 13]\n",
      "len(current_game.next_player()) = s\n",
      "CHECKPOINT 3:\n",
      "len(game_list) = 53\n",
      "len(current_game.state_list()) = [20, 0, 2, 0, 0, 0, 0, 26, 0, 0, 0, 0, 0, 0, 's']\n",
      "len(current_game.history_list()) = [1, 8, 2, 3, 8, 4, 8, 5, 8, 6, 8, 1, 9, 1, 8, 2, 10, 1, 11, 1, 8, 2, 9, 3, 8, 4, 10, 5, 11, 6, 8, 9, 10, 11, 12, 1, 13, 1, 2, 3, 4, 5, 8, 6, 8, 9, 10, 11, 12, 1, 13, 1]\n",
      "len(current_game.next_player()) = s\n",
      "CHECKPOINT 3:\n",
      "len(game_list) = 54\n",
      "len(current_game.state_list()) = [20, 0, 0, 1, 1, 0, 0, 26, 0, 0, 0, 0, 0, 0, 's']\n",
      "len(current_game.history_list()) = [1, 8, 2, 3, 8, 4, 8, 5, 8, 6, 8, 1, 9, 1, 8, 2, 10, 1, 11, 1, 8, 2, 9, 3, 8, 4, 10, 5, 11, 6, 8, 9, 10, 11, 12, 1, 13, 1, 2, 3, 4, 5, 8, 6, 8, 9, 10, 11, 12, 1, 13, 1, 2]\n",
      "len(current_game.next_player()) = s\n",
      "CHECKPOINT 3:\n",
      "len(game_list) = 55\n",
      "len(current_game.state_list()) = [20, 0, 0, 0, 2, 0, 0, 26, 0, 0, 0, 0, 0, 0, 's']\n",
      "len(current_game.history_list()) = [1, 8, 2, 3, 8, 4, 8, 5, 8, 6, 8, 1, 9, 1, 8, 2, 10, 1, 11, 1, 8, 2, 9, 3, 8, 4, 10, 5, 11, 6, 8, 9, 10, 11, 12, 1, 13, 1, 2, 3, 4, 5, 8, 6, 8, 9, 10, 11, 12, 1, 13, 1, 2, 3]\n",
      "len(current_game.next_player()) = s\n",
      "CHECKPOINT 3:\n",
      "len(game_list) = 56\n",
      "len(current_game.state_list()) = [20, 0, 0, 0, 0, 1, 1, 26, 0, 0, 0, 0, 0, 0, 's']\n",
      "len(current_game.history_list()) = [1, 8, 2, 3, 8, 4, 8, 5, 8, 6, 8, 1, 9, 1, 8, 2, 10, 1, 11, 1, 8, 2, 9, 3, 8, 4, 10, 5, 11, 6, 8, 9, 10, 11, 12, 1, 13, 1, 2, 3, 4, 5, 8, 6, 8, 9, 10, 11, 12, 1, 13, 1, 2, 3, 4]\n",
      "len(current_game.next_player()) = s\n",
      "CHECKPOINT 3:\n",
      "len(game_list) = 57\n",
      "len(current_game.state_list()) = [20, 0, 0, 0, 0, 0, 2, 26, 0, 0, 0, 0, 0, 0, 's']\n",
      "len(current_game.history_list()) = [1, 8, 2, 3, 8, 4, 8, 5, 8, 6, 8, 1, 9, 1, 8, 2, 10, 1, 11, 1, 8, 2, 9, 3, 8, 4, 10, 5, 11, 6, 8, 9, 10, 11, 12, 1, 13, 1, 2, 3, 4, 5, 8, 6, 8, 9, 10, 11, 12, 1, 13, 1, 2, 3, 4, 5]\n",
      "len(current_game.next_player()) = s\n",
      "CHECKPOINT 3:\n",
      "len(game_list) = 58\n",
      "len(current_game.state_list()) = [20, 0, 0, 0, 0, 0, 0, 27, 1, 0, 0, 0, 0, 0, 'n']\n",
      "len(current_game.history_list()) = [1, 8, 2, 3, 8, 4, 8, 5, 8, 6, 8, 1, 9, 1, 8, 2, 10, 1, 11, 1, 8, 2, 9, 3, 8, 4, 10, 5, 11, 6, 8, 9, 10, 11, 12, 1, 13, 1, 2, 3, 4, 5, 8, 6, 8, 9, 10, 11, 12, 1, 13, 1, 2, 3, 4, 5, 6]\n",
      "len(current_game.next_player()) = n\n",
      "CHECKPOINT 3:\n",
      "len(game_list) = 59\n",
      "len(current_game.state_list()) = [20, 0, 0, 0, 0, 0, 0, 27, 0, 1, 0, 0, 0, 0, 'n']\n",
      "len(current_game.history_list()) = [1, 8, 2, 3, 8, 4, 8, 5, 8, 6, 8, 1, 9, 1, 8, 2, 10, 1, 11, 1, 8, 2, 9, 3, 8, 4, 10, 5, 11, 6, 8, 9, 10, 11, 12, 1, 13, 1, 2, 3, 4, 5, 8, 6, 8, 9, 10, 11, 12, 1, 13, 1, 2, 3, 4, 5, 6, 8]\n",
      "len(current_game.next_player()) = n\n",
      "CHECKPOINT 3:\n",
      "len(game_list) = 60\n",
      "len(current_game.state_list()) = [20, 0, 0, 0, 0, 0, 0, 27, 0, 0, 1, 0, 0, 0, 'n']\n",
      "len(current_game.history_list()) = [1, 8, 2, 3, 8, 4, 8, 5, 8, 6, 8, 1, 9, 1, 8, 2, 10, 1, 11, 1, 8, 2, 9, 3, 8, 4, 10, 5, 11, 6, 8, 9, 10, 11, 12, 1, 13, 1, 2, 3, 4, 5, 8, 6, 8, 9, 10, 11, 12, 1, 13, 1, 2, 3, 4, 5, 6, 8, 9]\n",
      "len(current_game.next_player()) = n\n",
      "CHECKPOINT 3:\n",
      "len(game_list) = 61\n",
      "len(current_game.state_list()) = [20, 0, 0, 0, 0, 0, 0, 27, 0, 0, 0, 1, 0, 0, 'n']\n",
      "len(current_game.history_list()) = [1, 8, 2, 3, 8, 4, 8, 5, 8, 6, 8, 1, 9, 1, 8, 2, 10, 1, 11, 1, 8, 2, 9, 3, 8, 4, 10, 5, 11, 6, 8, 9, 10, 11, 12, 1, 13, 1, 2, 3, 4, 5, 8, 6, 8, 9, 10, 11, 12, 1, 13, 1, 2, 3, 4, 5, 6, 8, 9, 10]\n",
      "len(current_game.next_player()) = n\n",
      "CHECKPOINT 3:\n",
      "len(game_list) = 62\n",
      "len(current_game.state_list()) = [20, 0, 0, 0, 0, 0, 0, 27, 0, 0, 0, 0, 1, 0, 'n']\n",
      "len(current_game.history_list()) = [1, 8, 2, 3, 8, 4, 8, 5, 8, 6, 8, 1, 9, 1, 8, 2, 10, 1, 11, 1, 8, 2, 9, 3, 8, 4, 10, 5, 11, 6, 8, 9, 10, 11, 12, 1, 13, 1, 2, 3, 4, 5, 8, 6, 8, 9, 10, 11, 12, 1, 13, 1, 2, 3, 4, 5, 6, 8, 9, 10, 11]\n",
      "len(current_game.next_player()) = n\n",
      "CHECKPOINT 3:\n",
      "len(game_list) = 63\n",
      "len(current_game.state_list()) = [20, 0, 0, 0, 0, 0, 0, 27, 0, 0, 0, 0, 0, 1, 'n']\n",
      "len(current_game.history_list()) = [1, 8, 2, 3, 8, 4, 8, 5, 8, 6, 8, 1, 9, 1, 8, 2, 10, 1, 11, 1, 8, 2, 9, 3, 8, 4, 10, 5, 11, 6, 8, 9, 10, 11, 12, 1, 13, 1, 2, 3, 4, 5, 8, 6, 8, 9, 10, 11, 12, 1, 13, 1, 2, 3, 4, 5, 6, 8, 9, 10, 11, 12]\n",
      "len(current_game.next_player()) = n\n",
      "CHECKPOINT 3:\n",
      "len(game_list) = 64\n",
      "len(current_game.state_list()) = [21, 0, 0, 0, 0, 0, 0, 27, 0, 0, 0, 0, 0, 0, 'x']\n",
      "len(current_game.history_list()) = [1, 8, 2, 3, 8, 4, 8, 5, 8, 6, 8, 1, 9, 1, 8, 2, 10, 1, 11, 1, 8, 2, 9, 3, 8, 4, 10, 5, 11, 6, 8, 9, 10, 11, 12, 1, 13, 1, 2, 3, 4, 5, 8, 6, 8, 9, 10, 11, 12, 1, 13, 1, 2, 3, 4, 5, 6, 8, 9, 10, 11, 12, 13]\n",
      "len(current_game.next_player()) = x\n"
     ]
    }
   ],
   "source": [
    "g1 = next(iter)"
   ]
  },
  {
   "cell_type": "code",
   "execution_count": 13,
   "id": "31d1d7e9",
   "metadata": {
    "ExecuteTime": {
     "end_time": "2023-12-23T04:41:45.757867Z",
     "start_time": "2023-12-23T04:41:45.753792Z"
    }
   },
   "outputs": [
    {
     "name": "stdout",
     "output_type": "stream",
     "text": [
      "([1, 8, 2, 3, 8, 4, 8, 5, 8, 6, 8, 1, 9, 1, 8, 2, 10, 1, 11, 1, 8, 2, 9, 3, 8, 4, 10, 5, 11, 6, 8, 9, 10, 11, 12, 1, 13, 1, 2, 3, 4, 5, 8, 6, 8, 9, 10, 11, 12, 1, 13, 1, 2, 3, 4, 5, 6, 8, 9, 10, 11, 12, 13], (21, 27))\n"
     ]
    }
   ],
   "source": [
    "print(g1)"
   ]
  },
  {
   "cell_type": "code",
   "execution_count": 14,
   "id": "b78faec1",
   "metadata": {
    "ExecuteTime": {
     "end_time": "2023-12-23T04:41:59.043622Z",
     "start_time": "2023-12-23T04:41:59.031548Z"
    }
   },
   "outputs": [
    {
     "data": {
      "text/plain": [
       "63"
      ]
     },
     "execution_count": 14,
     "metadata": {},
     "output_type": "execute_result"
    }
   ],
   "source": [
    "len(g1[0])"
   ]
  },
  {
   "cell_type": "code",
   "execution_count": 15,
   "id": "9d6496f3",
   "metadata": {
    "ExecuteTime": {
     "end_time": "2023-12-23T04:41:59.548531Z",
     "start_time": "2023-12-23T04:41:59.535267Z"
    },
    "scrolled": false
   },
   "outputs": [
    {
     "name": "stdout",
     "output_type": "stream",
     "text": [
      "CHECKPOINT 3:\n",
      "len(game_list) = 58\n",
      "len(current_game.state_list()) = [20, 0, 0, 0, 0, 0, 1, 27, 0, 0, 0, 0, 0, 0, 's']\n",
      "len(current_game.history_list()) = [1, 8, 2, 3, 8, 4, 8, 5, 8, 6, 8, 1, 9, 1, 8, 2, 10, 1, 11, 1, 8, 2, 9, 3, 8, 4, 10, 5, 11, 6, 8, 9, 10, 11, 12, 1, 13, 1, 2, 3, 4, 5, 8, 6, 8, 9, 10, 11, 12, 1, 13, 1, 2, 3, 4, 6, 5]\n",
      "len(current_game.next_player()) = s\n",
      "CHECKPOINT 3:\n",
      "len(game_list) = 59\n",
      "len(current_game.state_list()) = [20, 0, 0, 0, 0, 0, 0, 28, 0, 0, 0, 0, 0, 0, 'x']\n",
      "len(current_game.history_list()) = [1, 8, 2, 3, 8, 4, 8, 5, 8, 6, 8, 1, 9, 1, 8, 2, 10, 1, 11, 1, 8, 2, 9, 3, 8, 4, 10, 5, 11, 6, 8, 9, 10, 11, 12, 1, 13, 1, 2, 3, 4, 5, 8, 6, 8, 9, 10, 11, 12, 1, 13, 1, 2, 3, 4, 6, 5, 6]\n",
      "len(current_game.next_player()) = x\n"
     ]
    }
   ],
   "source": [
    "g2 = next(iter)"
   ]
  },
  {
   "cell_type": "code",
   "execution_count": 16,
   "id": "d0380c5e",
   "metadata": {
    "ExecuteTime": {
     "end_time": "2023-12-23T04:42:13.568498Z",
     "start_time": "2023-12-23T04:42:13.557756Z"
    }
   },
   "outputs": [
    {
     "name": "stdout",
     "output_type": "stream",
     "text": [
      "([1, 8, 2, 3, 8, 4, 8, 5, 8, 6, 8, 1, 9, 1, 8, 2, 10, 1, 11, 1, 8, 2, 9, 3, 8, 4, 10, 5, 11, 6, 8, 9, 10, 11, 12, 1, 13, 1, 2, 3, 4, 5, 8, 6, 8, 9, 10, 11, 12, 1, 13, 1, 2, 3, 4, 6, 5, 6], (20, 28))\n"
     ]
    }
   ],
   "source": [
    "print(g2)"
   ]
  },
  {
   "cell_type": "code",
   "execution_count": 17,
   "id": "fb999ff9",
   "metadata": {
    "ExecuteTime": {
     "end_time": "2023-12-23T04:42:14.161356Z",
     "start_time": "2023-12-23T04:42:14.140037Z"
    }
   },
   "outputs": [
    {
     "data": {
      "text/plain": [
       "58"
      ]
     },
     "execution_count": 17,
     "metadata": {},
     "output_type": "execute_result"
    }
   ],
   "source": [
    "len(g2[0])"
   ]
  },
  {
   "cell_type": "code",
   "execution_count": 18,
   "id": "bc4c9af9",
   "metadata": {
    "ExecuteTime": {
     "end_time": "2023-12-23T04:42:16.253392Z",
     "start_time": "2023-12-23T04:42:16.242752Z"
    }
   },
   "outputs": [
    {
     "data": {
      "text/plain": [
       "\n",
       "            13  12  11  10   9   8\n",
       "      ------------------------------------\n",
       "             0   0   0   0   0   0\n",
       "        20                          27\n",
       "             0   0   0   0   1   0\n",
       "      ------------------------------------\n",
       "s -->        1   2   3   4   5   6\n"
      ]
     },
     "execution_count": 18,
     "metadata": {},
     "output_type": "execute_result"
    }
   ],
   "source": [
    "## Check that this is a completed game state -- IT IS! =)\n",
    "Kalah(6, 4, g1[0])"
   ]
  },
  {
   "cell_type": "code",
   "execution_count": 19,
   "id": "c265d079",
   "metadata": {
    "ExecuteTime": {
     "end_time": "2023-12-23T04:42:17.145626Z",
     "start_time": "2023-12-23T04:42:17.141937Z"
    }
   },
   "outputs": [
    {
     "data": {
      "text/plain": [
       "\n",
       "            13  12  11  10   9   8\n",
       "      ------------------------------------\n",
       "             0   0   0   0   0   0\n",
       "        20                          28\n",
       "             0   0   0   0   0   0\n",
       "      ------------------------------------\n",
       "             1   2   3   4   5   6\n"
      ]
     },
     "execution_count": 19,
     "metadata": {},
     "output_type": "execute_result"
    }
   ],
   "source": [
    "## Check that this is a completed game state -- IT IS! =)\n",
    "Kalah(6, 4, g2[0])"
   ]
  },
  {
   "cell_type": "code",
   "execution_count": null,
   "id": "7eaa3979",
   "metadata": {},
   "outputs": [],
   "source": []
  },
  {
   "cell_type": "code",
   "execution_count": null,
   "id": "115aa019",
   "metadata": {},
   "outputs": [],
   "source": []
  },
  {
   "cell_type": "code",
   "execution_count": 22,
   "id": "8c8c0fcd",
   "metadata": {
    "ExecuteTime": {
     "end_time": "2023-12-23T04:38:34.671234Z",
     "start_time": "2023-12-23T04:38:34.652857Z"
    }
   },
   "outputs": [
    {
     "data": {
      "text/plain": [
       "\n",
       "            13  12  11  10   9   8\n",
       "      ------------------------------------\n",
       "             0   0   0   0   0   0\n",
       "        20                          27\n",
       "             0   0   0   0   1   0\n",
       "      ------------------------------------\n",
       "s -->        1   2   3   4   5   6\n"
      ]
     },
     "execution_count": 22,
     "metadata": {},
     "output_type": "execute_result"
    }
   ],
   "source": [
    "g1_game = Kalah(6, 4, g1[0])\n",
    "g1_game"
   ]
  },
  {
   "cell_type": "code",
   "execution_count": 23,
   "id": "07006c43",
   "metadata": {
    "ExecuteTime": {
     "end_time": "2023-12-23T04:38:41.466182Z",
     "start_time": "2023-12-23T04:38:41.442481Z"
    }
   },
   "outputs": [
    {
     "data": {
      "text/plain": [
       "False"
      ]
     },
     "execution_count": 23,
     "metadata": {},
     "output_type": "execute_result"
    }
   ],
   "source": [
    "g1_game.is_finished()"
   ]
  },
  {
   "cell_type": "code",
   "execution_count": 27,
   "id": "fc5712f7",
   "metadata": {
    "ExecuteTime": {
     "end_time": "2023-12-23T04:40:33.511912Z",
     "start_time": "2023-12-23T04:40:33.491396Z"
    }
   },
   "outputs": [
    {
     "data": {
      "text/plain": [
       "56"
      ]
     },
     "execution_count": 27,
     "metadata": {},
     "output_type": "execute_result"
    }
   ],
   "source": [
    "len(g1_game.history_list())"
   ]
  },
  {
   "cell_type": "code",
   "execution_count": 29,
   "id": "93d407b0",
   "metadata": {
    "ExecuteTime": {
     "end_time": "2023-12-23T04:40:42.684295Z",
     "start_time": "2023-12-23T04:40:42.665792Z"
    }
   },
   "outputs": [
    {
     "data": {
      "text/plain": [
       "56"
      ]
     },
     "execution_count": 29,
     "metadata": {},
     "output_type": "execute_result"
    }
   ],
   "source": [
    "len(g1[0])"
   ]
  },
  {
   "cell_type": "code",
   "execution_count": 30,
   "id": "82914deb",
   "metadata": {
    "ExecuteTime": {
     "end_time": "2023-12-23T04:40:54.344760Z",
     "start_time": "2023-12-23T04:40:54.339092Z"
    }
   },
   "outputs": [
    {
     "data": {
      "text/plain": [
       "True"
      ]
     },
     "execution_count": 30,
     "metadata": {},
     "output_type": "execute_result"
    }
   ],
   "source": [
    "g1_game.history_list() == g1[0]"
   ]
  },
  {
   "cell_type": "code",
   "execution_count": null,
   "id": "2a29f9c0",
   "metadata": {},
   "outputs": [],
   "source": []
  },
  {
   "cell_type": "code",
   "execution_count": null,
   "id": "90cb0ad3",
   "metadata": {
    "ExecuteTime": {
     "end_time": "2023-12-23T03:54:34.720676Z",
     "start_time": "2023-12-23T03:54:34.706903Z"
    }
   },
   "outputs": [],
   "source": []
  },
  {
   "cell_type": "code",
   "execution_count": null,
   "id": "8e59e41f",
   "metadata": {
    "ExecuteTime": {
     "end_time": "2023-12-23T03:54:34.720676Z",
     "start_time": "2023-12-23T03:54:34.706903Z"
    }
   },
   "outputs": [],
   "source": []
  },
  {
   "cell_type": "code",
   "execution_count": null,
   "id": "bc339101",
   "metadata": {
    "ExecuteTime": {
     "end_time": "2023-12-23T03:54:34.720676Z",
     "start_time": "2023-12-23T03:54:34.706903Z"
    }
   },
   "outputs": [],
   "source": []
  },
  {
   "cell_type": "code",
   "execution_count": null,
   "id": "2a50947b",
   "metadata": {
    "ExecuteTime": {
     "end_time": "2023-12-23T03:54:34.720676Z",
     "start_time": "2023-12-23T03:54:34.706903Z"
    }
   },
   "outputs": [],
   "source": []
  },
  {
   "cell_type": "code",
   "execution_count": null,
   "id": "252a7269",
   "metadata": {
    "ExecuteTime": {
     "end_time": "2023-12-23T03:54:34.720676Z",
     "start_time": "2023-12-23T03:54:34.706903Z"
    }
   },
   "outputs": [],
   "source": []
  },
  {
   "cell_type": "code",
   "execution_count": null,
   "id": "73d69c1c",
   "metadata": {
    "ExecuteTime": {
     "end_time": "2023-12-23T03:54:34.720676Z",
     "start_time": "2023-12-23T03:54:34.706903Z"
    }
   },
   "outputs": [],
   "source": []
  },
  {
   "cell_type": "code",
   "execution_count": null,
   "id": "873ed388",
   "metadata": {
    "ExecuteTime": {
     "end_time": "2023-12-23T03:54:34.720676Z",
     "start_time": "2023-12-23T03:54:34.706903Z"
    }
   },
   "outputs": [],
   "source": []
  },
  {
   "cell_type": "code",
   "execution_count": null,
   "id": "f11d9afa",
   "metadata": {
    "ExecuteTime": {
     "end_time": "2023-12-23T03:54:34.720676Z",
     "start_time": "2023-12-23T03:54:34.706903Z"
    }
   },
   "outputs": [],
   "source": []
  },
  {
   "cell_type": "code",
   "execution_count": 17,
   "id": "ba672ce6",
   "metadata": {
    "ExecuteTime": {
     "end_time": "2023-12-23T04:05:47.723996Z",
     "start_time": "2023-12-23T04:05:47.701980Z"
    }
   },
   "outputs": [
    {
     "data": {
      "text/plain": [
       "\n",
       "            13  12  11  10   9   8\n",
       "      ------------------------------------\n",
       "             0   0   0   0   0   0\n",
       "        21                          27\n",
       "             0   0   0   0   0   0\n",
       "      ------------------------------------\n",
       "             1   2   3   4   5   6\n"
      ]
     },
     "execution_count": 17,
     "metadata": {},
     "output_type": "execute_result"
    }
   ],
   "source": [
    "first_game_move_list = [1, 8, 2, 3, 8, 4, 8, 5, 8, 6, 8, 1, 9, 1, 8, 2, 10, 1, 11, 1, 8, 2, 9, 3, 8, 4, 10, 5, 11, 6, 8, 9, 10, 11, 12, 1, 13, 1, 2, 3, 4, 5, 8, 6, 8, 9, 10, 11, 12, 1, 13, 1, 2, 3, 4, 5, 6, 8, 9, 10, 11, 12, 13]\n",
    "tmp_game = Kalah(6, 4, first_game_move_list)\n",
    "tmp_game\n",
    "\n",
    "\n"
   ]
  },
  {
   "cell_type": "code",
   "execution_count": 18,
   "id": "212f1f5f",
   "metadata": {
    "ExecuteTime": {
     "end_time": "2023-12-23T04:06:02.032717Z",
     "start_time": "2023-12-23T04:06:02.012752Z"
    }
   },
   "outputs": [
    {
     "data": {
      "text/plain": [
       "\n",
       "n -->       13  12  11  10   9   8\n",
       "      ------------------------------------\n",
       "             1   0   0   0   0   0\n",
       "        20                          27\n",
       "             0   0   0   0   0   0\n",
       "      ------------------------------------\n",
       "             1   2   3   4   5   6\n"
      ]
     },
     "execution_count": 18,
     "metadata": {},
     "output_type": "execute_result"
    }
   ],
   "source": [
    "tmp_game = Kalah(6, 4, first_game_move_list[:-1])\n",
    "tmp_game\n"
   ]
  },
  {
   "cell_type": "code",
   "execution_count": 19,
   "id": "f17872b0",
   "metadata": {
    "ExecuteTime": {
     "end_time": "2023-12-23T04:06:10.757596Z",
     "start_time": "2023-12-23T04:06:10.743650Z"
    }
   },
   "outputs": [
    {
     "data": {
      "text/plain": [
       "[13]"
      ]
     },
     "execution_count": 19,
     "metadata": {},
     "output_type": "execute_result"
    }
   ],
   "source": [
    "tmp_game.allowed_move_list()"
   ]
  },
  {
   "cell_type": "code",
   "execution_count": 20,
   "id": "4590470a",
   "metadata": {
    "ExecuteTime": {
     "end_time": "2023-12-23T04:06:41.868949Z",
     "start_time": "2023-12-23T04:06:41.855303Z"
    }
   },
   "outputs": [
    {
     "data": {
      "text/plain": [
       "13"
      ]
     },
     "execution_count": 20,
     "metadata": {},
     "output_type": "execute_result"
    }
   ],
   "source": [
    "last_move = first_game_move_list[-1]\n",
    "last_move"
   ]
  },
  {
   "cell_type": "code",
   "execution_count": 21,
   "id": "ed6a5447",
   "metadata": {
    "ExecuteTime": {
     "end_time": "2023-12-23T04:12:38.375552Z",
     "start_time": "2023-12-23T04:12:38.364210Z"
    }
   },
   "outputs": [],
   "source": [
    "L = [2,4,5]"
   ]
  },
  {
   "cell_type": "code",
   "execution_count": 22,
   "id": "8dab4531",
   "metadata": {
    "ExecuteTime": {
     "end_time": "2023-12-23T04:12:41.933799Z",
     "start_time": "2023-12-23T04:12:41.921263Z"
    }
   },
   "outputs": [
    {
     "data": {
      "text/plain": [
       "5"
      ]
     },
     "execution_count": 22,
     "metadata": {},
     "output_type": "execute_result"
    }
   ],
   "source": [
    "L.pop()"
   ]
  },
  {
   "cell_type": "code",
   "execution_count": 23,
   "id": "8e148856",
   "metadata": {
    "ExecuteTime": {
     "end_time": "2023-12-23T04:12:44.778279Z",
     "start_time": "2023-12-23T04:12:44.765726Z"
    }
   },
   "outputs": [
    {
     "data": {
      "text/plain": [
       "[2, 4]"
      ]
     },
     "execution_count": 23,
     "metadata": {},
     "output_type": "execute_result"
    }
   ],
   "source": [
    "L"
   ]
  },
  {
   "cell_type": "code",
   "execution_count": null,
   "id": "762608d1",
   "metadata": {},
   "outputs": [],
   "source": []
  },
  {
   "cell_type": "code",
   "execution_count": null,
   "id": "0ea82beb",
   "metadata": {},
   "outputs": [],
   "source": []
  },
  {
   "cell_type": "code",
   "execution_count": 17,
   "id": "dbfa622e",
   "metadata": {
    "ExecuteTime": {
     "end_time": "2023-12-23T04:24:56.611340Z",
     "start_time": "2023-12-23T04:24:56.593511Z"
    }
   },
   "outputs": [
    {
     "data": {
      "text/plain": [
       "56"
      ]
     },
     "execution_count": 17,
     "metadata": {},
     "output_type": "execute_result"
    }
   ],
   "source": [
    "len([1, 8, 2, 3, 8, 4, 8, 5, 8, 6, 8, 1, 9, 1, 8, 2, 10, 1, 11, 1, 8, 2, 9, 3, 8, 4, 10, 5, 11, 6, 8, 9, 10, 11, 12, 1, 13, 1, 2, 3, 4, 5, 8, 6, 8, 9, 10, 11, 12, 1, 13, 1, 2, 3, 4, 6])"
   ]
  },
  {
   "cell_type": "code",
   "execution_count": null,
   "id": "cace5e2a",
   "metadata": {},
   "outputs": [],
   "source": []
  },
  {
   "cell_type": "code",
   "execution_count": 66,
   "id": "1bb39f11",
   "metadata": {
    "ExecuteTime": {
     "end_time": "2023-12-23T04:57:58.918295Z",
     "start_time": "2023-12-23T04:57:58.902629Z"
    }
   },
   "outputs": [],
   "source": [
    "## Intialize the Mancala game iterator\n",
    "iter = kalah_game_iterator()"
   ]
  },
  {
   "cell_type": "code",
   "execution_count": 71,
   "id": "fd99c985",
   "metadata": {
    "ExecuteTime": {
     "end_time": "2023-12-23T04:58:13.071466Z",
     "start_time": "2023-12-23T04:58:13.044926Z"
    }
   },
   "outputs": [
    {
     "name": "stdout",
     "output_type": "stream",
     "text": [
      "CHECKPOINT 3:\n",
      "len(game_list) = 59\n",
      "len(current_game.state_list()) = [20, 0, 0, 0, 0, 1, 0, 27, 0, 0, 0, 0, 0, 0, 's']\n",
      "len(current_game.history_list()) = [1, 8, 2, 3, 8, 4, 8, 5, 8, 6, 8, 1, 9, 1, 8, 2, 10, 1, 11, 1, 8, 2, 9, 3, 8, 4, 10, 5, 11, 6, 8, 9, 10, 11, 12, 1, 13, 1, 2, 3, 4, 5, 8, 6, 8, 9, 10, 11, 12, 1, 13, 1, 2, 4, 3, 5, 6, 4]\n",
      "len(current_game.next_player()) = s\n",
      "CHECKPOINT 3:\n",
      "len(game_list) = 60\n",
      "len(current_game.state_list()) = [20, 0, 0, 0, 0, 0, 1, 27, 0, 0, 0, 0, 0, 0, 's']\n",
      "len(current_game.history_list()) = [1, 8, 2, 3, 8, 4, 8, 5, 8, 6, 8, 1, 9, 1, 8, 2, 10, 1, 11, 1, 8, 2, 9, 3, 8, 4, 10, 5, 11, 6, 8, 9, 10, 11, 12, 1, 13, 1, 2, 3, 4, 5, 8, 6, 8, 9, 10, 11, 12, 1, 13, 1, 2, 4, 3, 5, 6, 4, 5]\n",
      "len(current_game.next_player()) = s\n",
      "CHECKPOINT 3:\n",
      "len(game_list) = 61\n",
      "len(current_game.state_list()) = [20, 0, 0, 0, 0, 0, 0, 28, 0, 0, 0, 0, 0, 0, 'x']\n",
      "len(current_game.history_list()) = [1, 8, 2, 3, 8, 4, 8, 5, 8, 6, 8, 1, 9, 1, 8, 2, 10, 1, 11, 1, 8, 2, 9, 3, 8, 4, 10, 5, 11, 6, 8, 9, 10, 11, 12, 1, 13, 1, 2, 3, 4, 5, 8, 6, 8, 9, 10, 11, 12, 1, 13, 1, 2, 4, 3, 5, 6, 4, 5, 6]\n",
      "len(current_game.next_player()) = x\n",
      "CHECKPOINT 3:\n",
      "len(game_list) = 57\n",
      "len(current_game.state_list()) = [20, 0, 0, 0, 1, 0, 1, 26, 0, 0, 0, 0, 0, 0, 's']\n",
      "len(current_game.history_list()) = [1, 8, 2, 3, 8, 4, 8, 5, 8, 6, 8, 1, 9, 1, 8, 2, 10, 1, 11, 1, 8, 2, 9, 3, 8, 4, 10, 5, 11, 6, 8, 9, 10, 11, 12, 1, 13, 1, 2, 3, 4, 5, 8, 6, 8, 9, 10, 11, 12, 1, 13, 1, 2, 4, 5, 3]\n",
      "len(current_game.next_player()) = s\n",
      "CHECKPOINT 3:\n",
      "len(game_list) = 58\n",
      "len(current_game.state_list()) = [20, 0, 0, 0, 0, 1, 1, 26, 0, 0, 0, 0, 0, 0, 's']\n",
      "len(current_game.history_list()) = [1, 8, 2, 3, 8, 4, 8, 5, 8, 6, 8, 1, 9, 1, 8, 2, 10, 1, 11, 1, 8, 2, 9, 3, 8, 4, 10, 5, 11, 6, 8, 9, 10, 11, 12, 1, 13, 1, 2, 3, 4, 5, 8, 6, 8, 9, 10, 11, 12, 1, 13, 1, 2, 4, 5, 3, 4]\n",
      "len(current_game.next_player()) = s\n",
      "CHECKPOINT 3:\n",
      "len(game_list) = 59\n",
      "len(current_game.state_list()) = [20, 0, 0, 0, 0, 0, 2, 26, 0, 0, 0, 0, 0, 0, 's']\n",
      "len(current_game.history_list()) = [1, 8, 2, 3, 8, 4, 8, 5, 8, 6, 8, 1, 9, 1, 8, 2, 10, 1, 11, 1, 8, 2, 9, 3, 8, 4, 10, 5, 11, 6, 8, 9, 10, 11, 12, 1, 13, 1, 2, 3, 4, 5, 8, 6, 8, 9, 10, 11, 12, 1, 13, 1, 2, 4, 5, 3, 4, 5]\n",
      "len(current_game.next_player()) = s\n",
      "CHECKPOINT 3:\n",
      "len(game_list) = 60\n",
      "len(current_game.state_list()) = [20, 0, 0, 0, 0, 0, 0, 27, 1, 0, 0, 0, 0, 0, 'n']\n",
      "len(current_game.history_list()) = [1, 8, 2, 3, 8, 4, 8, 5, 8, 6, 8, 1, 9, 1, 8, 2, 10, 1, 11, 1, 8, 2, 9, 3, 8, 4, 10, 5, 11, 6, 8, 9, 10, 11, 12, 1, 13, 1, 2, 3, 4, 5, 8, 6, 8, 9, 10, 11, 12, 1, 13, 1, 2, 4, 5, 3, 4, 5, 6]\n",
      "len(current_game.next_player()) = n\n",
      "CHECKPOINT 3:\n",
      "len(game_list) = 61\n",
      "len(current_game.state_list()) = [20, 0, 0, 0, 0, 0, 0, 27, 0, 1, 0, 0, 0, 0, 'n']\n",
      "len(current_game.history_list()) = [1, 8, 2, 3, 8, 4, 8, 5, 8, 6, 8, 1, 9, 1, 8, 2, 10, 1, 11, 1, 8, 2, 9, 3, 8, 4, 10, 5, 11, 6, 8, 9, 10, 11, 12, 1, 13, 1, 2, 3, 4, 5, 8, 6, 8, 9, 10, 11, 12, 1, 13, 1, 2, 4, 5, 3, 4, 5, 6, 8]\n",
      "len(current_game.next_player()) = n\n",
      "CHECKPOINT 3:\n",
      "len(game_list) = 62\n",
      "len(current_game.state_list()) = [20, 0, 0, 0, 0, 0, 0, 27, 0, 0, 1, 0, 0, 0, 'n']\n",
      "len(current_game.history_list()) = [1, 8, 2, 3, 8, 4, 8, 5, 8, 6, 8, 1, 9, 1, 8, 2, 10, 1, 11, 1, 8, 2, 9, 3, 8, 4, 10, 5, 11, 6, 8, 9, 10, 11, 12, 1, 13, 1, 2, 3, 4, 5, 8, 6, 8, 9, 10, 11, 12, 1, 13, 1, 2, 4, 5, 3, 4, 5, 6, 8, 9]\n",
      "len(current_game.next_player()) = n\n",
      "CHECKPOINT 3:\n",
      "len(game_list) = 63\n",
      "len(current_game.state_list()) = [20, 0, 0, 0, 0, 0, 0, 27, 0, 0, 0, 1, 0, 0, 'n']\n",
      "len(current_game.history_list()) = [1, 8, 2, 3, 8, 4, 8, 5, 8, 6, 8, 1, 9, 1, 8, 2, 10, 1, 11, 1, 8, 2, 9, 3, 8, 4, 10, 5, 11, 6, 8, 9, 10, 11, 12, 1, 13, 1, 2, 3, 4, 5, 8, 6, 8, 9, 10, 11, 12, 1, 13, 1, 2, 4, 5, 3, 4, 5, 6, 8, 9, 10]\n",
      "len(current_game.next_player()) = n\n",
      "CHECKPOINT 3:\n",
      "len(game_list) = 64\n",
      "len(current_game.state_list()) = [20, 0, 0, 0, 0, 0, 0, 27, 0, 0, 0, 0, 1, 0, 'n']\n",
      "len(current_game.history_list()) = [1, 8, 2, 3, 8, 4, 8, 5, 8, 6, 8, 1, 9, 1, 8, 2, 10, 1, 11, 1, 8, 2, 9, 3, 8, 4, 10, 5, 11, 6, 8, 9, 10, 11, 12, 1, 13, 1, 2, 3, 4, 5, 8, 6, 8, 9, 10, 11, 12, 1, 13, 1, 2, 4, 5, 3, 4, 5, 6, 8, 9, 10, 11]\n",
      "len(current_game.next_player()) = n\n",
      "CHECKPOINT 3:\n",
      "len(game_list) = 65\n",
      "len(current_game.state_list()) = [20, 0, 0, 0, 0, 0, 0, 27, 0, 0, 0, 0, 0, 1, 'n']\n",
      "len(current_game.history_list()) = [1, 8, 2, 3, 8, 4, 8, 5, 8, 6, 8, 1, 9, 1, 8, 2, 10, 1, 11, 1, 8, 2, 9, 3, 8, 4, 10, 5, 11, 6, 8, 9, 10, 11, 12, 1, 13, 1, 2, 3, 4, 5, 8, 6, 8, 9, 10, 11, 12, 1, 13, 1, 2, 4, 5, 3, 4, 5, 6, 8, 9, 10, 11, 12]\n",
      "len(current_game.next_player()) = n\n",
      "CHECKPOINT 3:\n",
      "len(game_list) = 66\n",
      "len(current_game.state_list()) = [21, 0, 0, 0, 0, 0, 0, 27, 0, 0, 0, 0, 0, 0, 'x']\n",
      "len(current_game.history_list()) = [1, 8, 2, 3, 8, 4, 8, 5, 8, 6, 8, 1, 9, 1, 8, 2, 10, 1, 11, 1, 8, 2, 9, 3, 8, 4, 10, 5, 11, 6, 8, 9, 10, 11, 12, 1, 13, 1, 2, 3, 4, 5, 8, 6, 8, 9, 10, 11, 12, 1, 13, 1, 2, 4, 5, 3, 4, 5, 6, 8, 9, 10, 11, 12, 13]\n",
      "len(current_game.next_player()) = x\n",
      "CHECKPOINT 3:\n",
      "len(game_list) = 60\n",
      "len(current_game.state_list()) = [20, 0, 0, 0, 0, 0, 1, 27, 0, 0, 0, 0, 0, 0, 's']\n",
      "len(current_game.history_list()) = [1, 8, 2, 3, 8, 4, 8, 5, 8, 6, 8, 1, 9, 1, 8, 2, 10, 1, 11, 1, 8, 2, 9, 3, 8, 4, 10, 5, 11, 6, 8, 9, 10, 11, 12, 1, 13, 1, 2, 3, 4, 5, 8, 6, 8, 9, 10, 11, 12, 1, 13, 1, 2, 4, 5, 3, 4, 6, 5]\n",
      "len(current_game.next_player()) = s\n",
      "CHECKPOINT 3:\n",
      "len(game_list) = 61\n",
      "len(current_game.state_list()) = [20, 0, 0, 0, 0, 0, 0, 28, 0, 0, 0, 0, 0, 0, 'x']\n",
      "len(current_game.history_list()) = [1, 8, 2, 3, 8, 4, 8, 5, 8, 6, 8, 1, 9, 1, 8, 2, 10, 1, 11, 1, 8, 2, 9, 3, 8, 4, 10, 5, 11, 6, 8, 9, 10, 11, 12, 1, 13, 1, 2, 3, 4, 5, 8, 6, 8, 9, 10, 11, 12, 1, 13, 1, 2, 4, 5, 3, 4, 6, 5, 6]\n",
      "len(current_game.next_player()) = x\n"
     ]
    }
   ],
   "source": [
    "import itertools\n",
    "first_games_list = list(itertools.islice(iter, 3))"
   ]
  },
  {
   "cell_type": "code",
   "execution_count": 72,
   "id": "272e16cf",
   "metadata": {
    "ExecuteTime": {
     "end_time": "2023-12-23T04:58:13.431934Z",
     "start_time": "2023-12-23T04:58:13.422791Z"
    }
   },
   "outputs": [
    {
     "data": {
      "text/plain": [
       "3"
      ]
     },
     "execution_count": 72,
     "metadata": {},
     "output_type": "execute_result"
    }
   ],
   "source": [
    "len(first_games_list)"
   ]
  },
  {
   "cell_type": "code",
   "execution_count": 73,
   "id": "800ed9bc",
   "metadata": {
    "ExecuteTime": {
     "end_time": "2023-12-23T04:58:13.884535Z",
     "start_time": "2023-12-23T04:58:13.868409Z"
    }
   },
   "outputs": [
    {
     "name": "stdout",
     "output_type": "stream",
     "text": [
      "55\n"
     ]
    },
    {
     "data": {
      "text/plain": [
       "\n",
       "            13  12  11  10   9   8\n",
       "      ------------------------------------\n",
       "             0   0   0   0   0   0\n",
       "        20                          26\n",
       "             0   0   1   0   0   1\n",
       "      ------------------------------------\n",
       "s -->        1   2   3   4   5   6\n"
      ]
     },
     "execution_count": 73,
     "metadata": {},
     "output_type": "execute_result"
    }
   ],
   "source": [
    "g0 = first_games_list[0][0]\n",
    "print(len(g0))\n",
    "\n",
    "tmp_game = Kalah(6, 4, g0)\n",
    "tmp_game"
   ]
  },
  {
   "cell_type": "code",
   "execution_count": 74,
   "id": "24f4a118",
   "metadata": {
    "ExecuteTime": {
     "end_time": "2023-12-23T04:58:14.270536Z",
     "start_time": "2023-12-23T04:58:14.252163Z"
    }
   },
   "outputs": [
    {
     "name": "stdout",
     "output_type": "stream",
     "text": [
      "55\n",
      "False\n",
      "58\n",
      "False\n",
      "60\n",
      "True\n"
     ]
    }
   ],
   "source": [
    "for g in first_games_list:\n",
    "    g_moves = g[0]\n",
    "    print(len(g_moves))\n",
    "\n",
    "    tmp_game = Kalah(6, 4, g_moves)\n",
    "    print(tmp_game.is_finished())"
   ]
  },
  {
   "cell_type": "code",
   "execution_count": null,
   "id": "41fd73b0",
   "metadata": {},
   "outputs": [],
   "source": []
  },
  {
   "cell_type": "code",
   "execution_count": 6,
   "id": "a59bb1f1",
   "metadata": {
    "ExecuteTime": {
     "end_time": "2023-12-23T05:08:31.443466Z",
     "start_time": "2023-12-23T05:08:31.414241Z"
    }
   },
   "outputs": [
    {
     "name": "stdout",
     "output_type": "stream",
     "text": [
      "63\n",
      "True\n"
     ]
    }
   ],
   "source": [
    "## Intialize the Mancala game iterator\n",
    "iter = kalah_game_iterator()\n",
    "\n",
    "import itertools\n",
    "first_games_list = list(itertools.islice(iter, 1))\n",
    "\n",
    "for g in first_games_list:\n",
    "    g_moves = g[0]\n",
    "    print(len(g_moves))\n",
    "\n",
    "    tmp_game = Kalah(6, 4, g_moves)\n",
    "    print(tmp_game.is_finished())"
   ]
  },
  {
   "cell_type": "code",
   "execution_count": 7,
   "id": "787345ee",
   "metadata": {
    "ExecuteTime": {
     "end_time": "2023-12-23T05:08:42.614234Z",
     "start_time": "2023-12-23T05:08:42.588346Z"
    }
   },
   "outputs": [
    {
     "name": "stdout",
     "output_type": "stream",
     "text": [
      "56\n",
      "False\n",
      "58\n",
      "True\n"
     ]
    }
   ],
   "source": [
    "## Intialize the Mancala game iterator\n",
    "iter = kalah_game_iterator()\n",
    "\n",
    "import itertools\n",
    "first_games_list = list(itertools.islice(iter, 2))\n",
    "\n",
    "for g in first_games_list:\n",
    "    g_moves = g[0]\n",
    "    print(len(g_moves))\n",
    "\n",
    "    tmp_game = Kalah(6, 4, g_moves)\n",
    "    print(tmp_game.is_finished())"
   ]
  },
  {
   "cell_type": "code",
   "execution_count": 8,
   "id": "a456a6fe",
   "metadata": {
    "ExecuteTime": {
     "end_time": "2023-12-23T05:08:52.353539Z",
     "start_time": "2023-12-23T05:08:52.321290Z"
    }
   },
   "outputs": [
    {
     "name": "stdout",
     "output_type": "stream",
     "text": [
      "56\n",
      "False\n",
      "54\n",
      "False\n",
      "58\n",
      "True\n"
     ]
    }
   ],
   "source": [
    "## Intialize the Mancala game iterator\n",
    "iter = kalah_game_iterator()\n",
    "\n",
    "import itertools\n",
    "first_games_list = list(itertools.islice(iter, 3))\n",
    "\n",
    "for g in first_games_list:\n",
    "    g_moves = g[0]\n",
    "    print(len(g_moves))\n",
    "\n",
    "    tmp_game = Kalah(6, 4, g_moves)\n",
    "    print(tmp_game.is_finished())"
   ]
  },
  {
   "cell_type": "code",
   "execution_count": null,
   "id": "3c3fe2b4",
   "metadata": {},
   "outputs": [],
   "source": []
  },
  {
   "cell_type": "code",
   "execution_count": 9,
   "id": "884833d8",
   "metadata": {
    "ExecuteTime": {
     "end_time": "2023-12-23T05:11:37.630317Z",
     "start_time": "2023-12-23T05:11:37.601061Z"
    }
   },
   "outputs": [
    {
     "name": "stdout",
     "output_type": "stream",
     "text": [
      "56\n",
      "False\n",
      "54\n",
      "False\n",
      "58\n",
      "True\n"
     ]
    }
   ],
   "source": [
    "## Intialize the Mancala game iterator\n",
    "iter = kalah_game_iterator()\n",
    "iter_3_list = [next(iter)  for _ in range(3)]\n",
    "\n",
    "\n",
    "for g in iter_3_list:\n",
    "    g_moves = g[0]\n",
    "    print(len(g_moves))\n",
    "\n",
    "    tmp_game = Kalah(6, 4, g_moves)\n",
    "    print(tmp_game.is_finished())"
   ]
  },
  {
   "cell_type": "code",
   "execution_count": null,
   "id": "d638e1e0",
   "metadata": {},
   "outputs": [],
   "source": []
  },
  {
   "cell_type": "code",
   "execution_count": null,
   "id": "8a87dd10",
   "metadata": {},
   "outputs": [],
   "source": []
  },
  {
   "cell_type": "code",
   "execution_count": null,
   "id": "bb56ef96",
   "metadata": {},
   "outputs": [],
   "source": []
  },
  {
   "cell_type": "code",
   "execution_count": 3,
   "id": "0d6e0534",
   "metadata": {
    "ExecuteTime": {
     "end_time": "2023-12-23T05:07:45.455374Z",
     "start_time": "2023-12-23T05:07:45.417681Z"
    }
   },
   "outputs": [
    {
     "name": "stdout",
     "output_type": "stream",
     "text": [
      "56\n",
      "False\n",
      "54\n",
      "False\n",
      "56\n",
      "False\n",
      "58\n",
      "False\n",
      "60\n",
      "True\n"
     ]
    }
   ],
   "source": [
    "## Intialize the Mancala game iterator\n",
    "iter = kalah_game_iterator()\n",
    "\n",
    "import itertools\n",
    "first_games_list = list(itertools.islice(iter, 5))\n",
    "\n",
    "for g in first_games_list:\n",
    "    g_moves = g[0]\n",
    "    print(len(g_moves))\n",
    "\n",
    "    tmp_game = Kalah(6, 4, g_moves)\n",
    "    print(tmp_game.is_finished())"
   ]
  },
  {
   "cell_type": "code",
   "execution_count": null,
   "id": "4e6d517a",
   "metadata": {},
   "outputs": [],
   "source": []
  }
 ],
 "metadata": {
  "hide_input": false,
  "kernelspec": {
   "display_name": "Python 3 (ipykernel)",
   "language": "python",
   "name": "python3"
  },
  "language_info": {
   "codemirror_mode": {
    "name": "ipython",
    "version": 3
   },
   "file_extension": ".py",
   "mimetype": "text/x-python",
   "name": "python",
   "nbconvert_exporter": "python",
   "pygments_lexer": "ipython3",
   "version": "3.9.13"
  },
  "toc": {
   "base_numbering": 1,
   "nav_menu": {},
   "number_sections": false,
   "sideBar": true,
   "skip_h1_title": false,
   "title_cell": "Table of Contents",
   "title_sidebar": "Contents",
   "toc_cell": true,
   "toc_position": {},
   "toc_section_display": true,
   "toc_window_display": false
  },
  "varInspector": {
   "cols": {
    "lenName": 16,
    "lenType": 16,
    "lenVar": 40
   },
   "kernels_config": {
    "python": {
     "delete_cmd_postfix": "",
     "delete_cmd_prefix": "del ",
     "library": "var_list.py",
     "varRefreshCmd": "print(var_dic_list())"
    },
    "r": {
     "delete_cmd_postfix": ") ",
     "delete_cmd_prefix": "rm(",
     "library": "var_list.r",
     "varRefreshCmd": "cat(var_dic_list()) "
    }
   },
   "types_to_exclude": [
    "module",
    "function",
    "builtin_function_or_method",
    "instance",
    "_Feature"
   ],
   "window_display": false
  }
 },
 "nbformat": 4,
 "nbformat_minor": 5
}
