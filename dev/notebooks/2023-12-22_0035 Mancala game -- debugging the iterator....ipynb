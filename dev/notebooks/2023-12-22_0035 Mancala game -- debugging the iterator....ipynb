{
 "cells": [
  {
   "cell_type": "markdown",
   "id": "bfb61415",
   "metadata": {
    "toc": true
   },
   "source": [
    "<h1>Table of Contents<span class=\"tocSkip\"></span></h1>\n",
    "<div class=\"toc\"><ul class=\"toc-item\"></ul></div>"
   ]
  },
  {
   "cell_type": "code",
   "execution_count": 1,
   "id": "75797e9b",
   "metadata": {
    "ExecuteTime": {
     "end_time": "2023-12-22T07:23:42.269324Z",
     "start_time": "2023-12-22T07:23:42.250474Z"
    }
   },
   "outputs": [],
   "source": [
    "## Set the standard size mancala board\n",
    "m = 6\n",
    "n = 4"
   ]
  },
  {
   "cell_type": "code",
   "execution_count": 2,
   "id": "a7c38fb2",
   "metadata": {
    "ExecuteTime": {
     "end_time": "2023-12-22T07:23:42.912237Z",
     "start_time": "2023-12-22T07:23:42.839882Z"
    },
    "code_folding": [
     0
    ]
   },
   "outputs": [],
   "source": [
    "## Define the Kalah class\n",
    "\n",
    "class Kalah():\n",
    "    \"\"\"\n",
    "    Defines the Kalah game with m holes on each side, and n stones in each.  \n",
    "    \n",
    "    Here, by convention, the South player (\"S\") always goes first.\n",
    "    \"\"\"\n",
    "\n",
    "    def __init__(self, m, n):\n",
    "        \"\"\"\n",
    "        Initialize the Kalah game with m holes on each side, and n stones in each.  \n",
    "    \n",
    "        Here, by convention, the South player (\"S\") always goes first.\n",
    "\n",
    "        \"\"\"\n",
    "        ## Store the game size\n",
    "        self.m = m\n",
    "        self.n = n\n",
    "        \n",
    "        ## Store the board size\n",
    "        self.board_size = 2*m + 2\n",
    "\n",
    "\n",
    "        ## Initialize the game history \n",
    "        history_list = []\n",
    "\n",
    "        ## Initialize the game state\n",
    "        state_list = [n  for _ in range(2*m+3)]\n",
    "        state_list[0] = 0\n",
    "        state_list[m+1] = 0\n",
    "        state_list[2*m+2] = 's'\n",
    "        \n",
    "        ## Store the game history and state\n",
    "        self.game_history_list = history_list\n",
    "        self.game_state_list = state_list\n",
    "\n",
    "        \n",
    "        \n",
    "    def show_board(self):\n",
    "        \"\"\"\n",
    "        Print the board.  \n",
    "        \"\"\"\n",
    "        ## Get the game state list\n",
    "        game_state = self.state_list()    \n",
    "        \n",
    "        ## Get the player positions\n",
    "        north_cradle = game_state[0]\n",
    "        north_state_list = game_state[self.m+2: self.board_size]\n",
    "        north_state_list.reverse()\n",
    "        south_cradle = game_state[self.m+1]\n",
    "        south_state_list = game_state[1: self.m+1]\n",
    "\n",
    "        ## Get the current player\n",
    "        current_player = game_state[-1]\n",
    "        \n",
    "        ## Prepare to print the board\n",
    "        opponent_init_str = ' ' + '     '\n",
    "        player_init_str = current_player + ' --> '\n",
    "        cradle_init_str = opponent_init_str\n",
    "        if current_player == 'n':\n",
    "            north_init_str = player_init_str\n",
    "            south_init_str = opponent_init_str\n",
    "        elif current_player == 's':\n",
    "            north_init_str = opponent_init_str\n",
    "            south_init_str = player_init_str        \n",
    "        else:\n",
    "            north_init_str = opponent_init_str\n",
    "            south_init_str = opponent_init_str        \n",
    "            \n",
    "        ## Print the board \n",
    "        print()\n",
    "        print(north_init_str + ' '*4 + ''.join([str(x).rjust(4)  for x in range(2*self.m+1, self.m + 1, -1)]))\n",
    "        print(cradle_init_str + '-'*4*(self.m+3))\n",
    "#        print()\n",
    "        print(cradle_init_str + ' '*4 + ''.join([str(x).rjust(4)  for x in north_state_list]))\n",
    "        print(cradle_init_str + str(north_cradle).rjust(4) + ' '*4*self.m + str(south_cradle).rjust(4))\n",
    "        print(cradle_init_str + ' '*4 + ''.join([str(x).rjust(4)  for x in south_state_list]))\n",
    "#        print()\n",
    "        print(cradle_init_str + '-'*4*(self.m+3))\n",
    "        print(south_init_str + ' '*4 + ''.join([str(x).rjust(4)  for x in range(1, self.m + 1)]))\n",
    "        print()\n",
    "\n",
    "\n",
    "        \n",
    "    def state_list(self):\n",
    "        \"\"\"\n",
    "        Return the game state list. \n",
    "        \"\"\"\n",
    "        from copy import deepcopy\n",
    "        return deepcopy(self.game_state_list)\n",
    "        \n",
    "        \n",
    "        \n",
    "    def history_list(self):\n",
    "        \"\"\"\n",
    "        Return the game history list (of moves). \n",
    "        \"\"\"\n",
    "        from copy import deepcopy\n",
    "        return deepcopy(self.game_history_list)\n",
    "        \n",
    "    \n",
    "    def next_player(self):\n",
    "        \"\"\"\n",
    "        Returns the name of the next player to move.\n",
    "        \"\"\"\n",
    "        return self.state_list()[-1]\n",
    "    \n",
    "    \n",
    "    def north_score(self):\n",
    "        return self.game_state_list[0]\n",
    "    \n",
    "    def south_score(self):\n",
    "        return self.game_state_list[self.m + 1]\n",
    "\n",
    "    def score(self):\n",
    "        return (self.north_score(), self.south_score())\n",
    "    \n",
    "    \n",
    "    def number_of_remaining_north_pieces(self):\n",
    "        return sum(self.game_state_list[self.m + 2: self.board_size])\n",
    "    \n",
    "    def number_of_remaining_south_pieces(self):\n",
    "        return sum(self.game_state_list[1: self.m + 1])\n",
    "    \n",
    "    def number_of_remaining_pieces(self):\n",
    "        return self.number_of_remaining_north_pieces() + self.number_of_remaining_south_pieces() \n",
    "    \n",
    "    \n",
    "    def is_finished(self):\n",
    "        \"\"\"\n",
    "        Returns if the game is finished.\n",
    "        \"\"\"\n",
    "        return (self.number_of_remaining_pieces() == 0)\n",
    "    \n",
    "\n",
    "    def winner_player(self):\n",
    "        \"\"\"\n",
    "        Returns the game winner.\n",
    "        \"\"\"\n",
    "        ## SANITY CHECK: Is the game finished?\n",
    "        if not self.is_finished():\n",
    "            raise RuntimeError(\"The game is not yet finished!\")\n",
    "            \n",
    "        ## Return the winner\n",
    "        return self.player_ahead()\n",
    "\n",
    "        \n",
    "    def loser_player(self):\n",
    "        \"\"\"\n",
    "        Returns the game loser.\n",
    "        \"\"\"\n",
    "        ## SANITY CHECK: Is the game finished?\n",
    "        if not self.is_finished():\n",
    "            raise RuntimeError(\"The game is not yet finished!\")\n",
    "            \n",
    "        ## Return the loser\n",
    "        return self.player_behind()\n",
    "        \n",
    "    \n",
    "    def is_tie(self):\n",
    "        \"\"\"\n",
    "        Returns returns if the game is currently a tie between the two players.\n",
    "        \"\"\"\n",
    "        return self.north_score() == self.south_score()\n",
    "    \n",
    "    \n",
    "    \n",
    "    def player_ahead(self):\n",
    "        \"\"\"\n",
    "        Returns returns the player currently ahead in score.\n",
    "        \"\"\"\n",
    "        ## Return the loser\n",
    "        if self.north_score() > self.south_score():\n",
    "            return 'n'\n",
    "        elif self.north_score() < self.south_score():\n",
    "            return 's'\n",
    "        else:\n",
    "            return 'x'\n",
    "    \n",
    "    \n",
    "    def player_behind(self):\n",
    "        \"\"\"\n",
    "        Returns returns the player currently behind in score.\n",
    "        \"\"\"\n",
    "        ## Return the loser\n",
    "        if self.north_score() < self.south_score():\n",
    "            return 'n'\n",
    "        elif self.north_score() > self.south_score():\n",
    "            return 's'\n",
    "        else:\n",
    "            return 'x'\n",
    "    \n",
    "    \n",
    "    \n",
    "    \n",
    "    def switch_player(self):\n",
    "        \"\"\"\n",
    "        Switch the current player.\n",
    "        \"\"\"\n",
    "        ## Get the player \n",
    "        player_str = self.game_state_list[-1]\n",
    "        \n",
    "        ## Switch the player\n",
    "        if (player_str == 's'):\n",
    "            self.game_state_list[-1] = 'n'\n",
    "        elif (player_str == 'n'):\n",
    "            self.game_state_list[-1] = 's'\n",
    "\n",
    "            \n",
    "            \n",
    "                \n",
    "    def is_position_on_player_side(self, position, player_str):   \n",
    "        \"\"\"\n",
    "        Returns if the position is on the side of the given player (i.e. 'n' or 's').\n",
    "        \"\"\"\n",
    "        ## Alias the number of board holes\n",
    "        m = self.m\n",
    "        \n",
    "        ## Is this move location allowed for the moving player?\n",
    "        if (player_str == 's'):\n",
    "            return (position >= 1) and (position <= m)\n",
    "        elif (player_str == 'n'):\n",
    "            return (position >= m + 2) and (position <= 2*m + 1)\n",
    "#        else:\n",
    "#            raise RuntimeError(f\"The player to move '{player_str}' is not one of the allowed values ('n' or 's').\")\n",
    "   \n",
    "\n",
    "\n",
    "\n",
    "    def is_allowed_move_for_player(self, move_position, player_str):\n",
    "        \"\"\"\n",
    "        Determines if the move (starting at position 'x') is allowed for the given player ('n' or 's').\n",
    "        \"\"\"\n",
    "        ## Is this move location allowed for the moving player?\n",
    "        if not self.is_position_on_player_side(move_position, player_str):\n",
    "            return False\n",
    "        \n",
    "        ## Return if there are pieces in this location\n",
    "        return self.game_state_list[move_position] != 0\n",
    "        \n",
    "        \n",
    "        \n",
    "    def allowed_move_list(self):\n",
    "        \"\"\"\n",
    "        Determines the allowed moves in the current game state.\n",
    "        \"\"\"\n",
    "        ## Get the player \n",
    "        player = self.game_state_list[-1]\n",
    "\n",
    "        ## Get the list of allowed moves\n",
    "        allowed_move_list = [x  for x in range(self.board_size)  if self.is_allowed_move_for_player(x, player)]\n",
    "        \n",
    "        ## Return the desired list\n",
    "        return allowed_move_list\n",
    "    \n",
    "        \n",
    "        \n",
    "    def perform_move(self, x):\n",
    "        \"\"\"\n",
    "        Perform the given move, updating the game state and history.\n",
    "        \"\"\"        \n",
    "        ## Get the player \n",
    "        player = self.game_state_list[-1]\n",
    "        \n",
    "        \n",
    "        ## Check if the move is allowed\n",
    "        if self.is_allowed_move_for_player(x, player):\n",
    "\n",
    "\n",
    "            ## Determine the player's cradle position\n",
    "            if player == 's':\n",
    "                player_cradle_position = self.m + 1\n",
    "            else:\n",
    "                player_cradle_position = 0\n",
    "\n",
    "            ## Determine the opponent's cradle position\n",
    "            opponent_cradle_position = (player_cradle_position + self.m + 1) % self.board_size\n",
    "\n",
    "\n",
    "\n",
    "            ## Append the move to the game history\n",
    "            self.game_history_list.append(x)\n",
    "\n",
    "\n",
    "            ## Distribute all of the stones from location x\n",
    "            r = self.game_state_list[x]\n",
    "            self.game_state_list[x] = 0\n",
    "            position = (x+1) % self.board_size\n",
    "            while (r > 0):\n",
    "\n",
    "                ## Determine if we can add a stone to this position\n",
    "                can_add_stone_here = (position != opponent_cradle_position)\n",
    "\n",
    "                ## Add the stone and decrease the number of stones to distribute\n",
    "                if can_add_stone_here:\n",
    "\n",
    "                    ## DIAGNOSTIC\n",
    "                    #print(f\"Adding a stone to position {position}\")\n",
    "\n",
    "                    self.game_state_list[position] += 1\n",
    "                    r -= 1\n",
    "\n",
    "                    \n",
    "                ## Increment to the next position (if needed)\n",
    "                if r != 0:\n",
    "                    position = (position + 1) % self.board_size\n",
    "\n",
    "                    \n",
    "\n",
    "            ## Take the opponent's stones if appropriate (i.e. the final position is an allowed move and the final position was empty)\n",
    "            if self.is_position_on_player_side(position, player) and (self.game_state_list[position] == 1):\n",
    "                opposite_position =  (2 * self.m + 2 - position) % self.board_size\n",
    "                extra = self.game_state_list[opposite_position]\n",
    "                self.game_state_list[opposite_position] = 0\n",
    "                self.game_state_list[player_cradle_position] += extra\n",
    "\n",
    "\n",
    "            ## Change the player if they didn't finish in their cradle\n",
    "            if position != player_cradle_position:\n",
    "                self.switch_player()            \n",
    "\n",
    "                \n",
    "            ## Check if there are any allowed moves\n",
    "            if self.number_of_remaining_pieces() == 0:\n",
    "                self.game_state_list[-1] = 'x'\n",
    "            else:\n",
    "                ## Check if there are any allowed moves for the current player\n",
    "                if self.allowed_move_list() == []:\n",
    "                    self.switch_player()\n",
    "                    \n",
    "\n",
    "        \n"
   ]
  },
  {
   "cell_type": "code",
   "execution_count": 3,
   "id": "2f31a214",
   "metadata": {
    "ExecuteTime": {
     "end_time": "2023-12-22T07:23:43.275189Z",
     "start_time": "2023-12-22T07:23:43.270585Z"
    }
   },
   "outputs": [],
   "source": [
    "game = Kalah(m,n)"
   ]
  },
  {
   "cell_type": "code",
   "execution_count": 4,
   "id": "7ce7bcfd",
   "metadata": {
    "ExecuteTime": {
     "end_time": "2023-12-22T07:23:43.795889Z",
     "start_time": "2023-12-22T07:23:43.782764Z"
    },
    "code_folding": [
     0
    ]
   },
   "outputs": [],
   "source": [
    "example_Kalah_6_4_game_history = [1,\n",
    " 13,\n",
    " 1,\n",
    " 8,\n",
    " 6,\n",
    " 8,\n",
    " 5,\n",
    " 8,\n",
    " 6,\n",
    " 4,\n",
    " 12,\n",
    " 5,\n",
    " 8,\n",
    " 3,\n",
    " 11,\n",
    " 1,\n",
    " 13,\n",
    " 1,\n",
    " 12,\n",
    " 6,\n",
    " 10,\n",
    " 3,\n",
    " 8,\n",
    " 1,\n",
    " 13,\n",
    " 1,\n",
    " 10,\n",
    " 5,\n",
    " 6,\n",
    " 2,\n",
    " 9,\n",
    " 5,\n",
    " 1,\n",
    " 8,\n",
    " 6,\n",
    " 8,\n",
    " 2,\n",
    " 13,\n",
    " 1,\n",
    " 10,\n",
    " 11,\n",
    " 1,\n",
    " 12,\n",
    " 13,\n",
    " 1,\n",
    " 2,\n",
    " 3,\n",
    " 8,\n",
    " 4,\n",
    " 8,\n",
    " 5,\n",
    " 8,\n",
    " 6,\n",
    " 8,\n",
    " 9,\n",
    " 1,\n",
    " 13,\n",
    " 12,\n",
    " 2,\n",
    " 11,\n",
    " 3,\n",
    " 13,\n",
    " 12,\n",
    " 4,\n",
    " 13,\n",
    " 6,\n",
    " 5,\n",
    " 6]"
   ]
  },
  {
   "cell_type": "code",
   "execution_count": 5,
   "id": "bb3e07a4",
   "metadata": {
    "ExecuteTime": {
     "end_time": "2023-12-22T07:23:44.241647Z",
     "start_time": "2023-12-22T07:23:44.231964Z"
    }
   },
   "outputs": [],
   "source": [
    "game = Kalah(6,4)"
   ]
  },
  {
   "cell_type": "code",
   "execution_count": 6,
   "id": "86af1462",
   "metadata": {
    "ExecuteTime": {
     "end_time": "2023-12-22T07:23:44.699819Z",
     "start_time": "2023-12-22T07:23:44.686472Z"
    }
   },
   "outputs": [
    {
     "name": "stdout",
     "output_type": "stream",
     "text": [
      "CPU times: user 1.82 ms, sys: 7 µs, total: 1.82 ms\n",
      "Wall time: 2.76 ms\n"
     ]
    }
   ],
   "source": [
    "%%time\n",
    "\n",
    "## Apply the game history\n",
    "for x in example_Kalah_6_4_game_history:\n",
    "    game.perform_move(x)"
   ]
  },
  {
   "cell_type": "code",
   "execution_count": 7,
   "id": "0ea235c1",
   "metadata": {
    "ExecuteTime": {
     "end_time": "2023-12-22T07:23:45.305866Z",
     "start_time": "2023-12-22T07:23:45.290925Z"
    }
   },
   "outputs": [
    {
     "name": "stdout",
     "output_type": "stream",
     "text": [
      "\n",
      "            13  12  11  10   9   8\n",
      "      ------------------------------------\n",
      "             0   0   0   0   0   0\n",
      "        19                          29\n",
      "             0   0   0   0   0   0\n",
      "      ------------------------------------\n",
      "             1   2   3   4   5   6\n",
      "\n"
     ]
    }
   ],
   "source": [
    "game.show_board()"
   ]
  },
  {
   "cell_type": "code",
   "execution_count": 8,
   "id": "fe2edf70",
   "metadata": {
    "ExecuteTime": {
     "end_time": "2023-12-22T07:23:45.848898Z",
     "start_time": "2023-12-22T07:23:45.829996Z"
    }
   },
   "outputs": [
    {
     "data": {
      "text/plain": [
       "True"
      ]
     },
     "execution_count": 8,
     "metadata": {},
     "output_type": "execute_result"
    }
   ],
   "source": [
    "game.is_finished()"
   ]
  },
  {
   "cell_type": "code",
   "execution_count": 9,
   "id": "9b667775",
   "metadata": {
    "ExecuteTime": {
     "end_time": "2023-12-22T07:23:46.389606Z",
     "start_time": "2023-12-22T07:23:46.371477Z"
    }
   },
   "outputs": [
    {
     "data": {
      "text/plain": [
       "0"
      ]
     },
     "execution_count": 9,
     "metadata": {},
     "output_type": "execute_result"
    }
   ],
   "source": [
    "game.number_of_remaining_pieces()"
   ]
  },
  {
   "cell_type": "code",
   "execution_count": 10,
   "id": "f31c298b",
   "metadata": {
    "ExecuteTime": {
     "end_time": "2023-12-22T07:23:46.879452Z",
     "start_time": "2023-12-22T07:23:46.865752Z"
    }
   },
   "outputs": [
    {
     "data": {
      "text/plain": [
       "'s'"
      ]
     },
     "execution_count": 10,
     "metadata": {},
     "output_type": "execute_result"
    }
   ],
   "source": [
    "game.winner_player()"
   ]
  },
  {
   "cell_type": "code",
   "execution_count": 11,
   "id": "17e7e5c0",
   "metadata": {
    "ExecuteTime": {
     "end_time": "2023-12-22T07:23:47.350207Z",
     "start_time": "2023-12-22T07:23:47.341252Z"
    }
   },
   "outputs": [],
   "source": [
    "## Start with a game (i.e. list of valid moves ) \n",
    "start_list = []\n",
    "\n",
    "## Find the next game -- either by extending this one, or making a different move\n",
    "\n",
    "## 1) Attempt to play this game if it's not finished (using the lowest number moves).  \n",
    "##    If we encounted any illegal moves, then truncate the move list there.\n",
    "\n",
    "## 2) If this game is finished, play all but k moves, then increment the next one (where k starts at 1)\n",
    "\n",
    "## 3) Stop when we choose to, or after a certain number of games have been played (say 1000).\n",
    "\n"
   ]
  },
  {
   "cell_type": "code",
   "execution_count": 26,
   "id": "9ebf0a1a",
   "metadata": {
    "ExecuteTime": {
     "end_time": "2023-12-22T07:27:28.965219Z",
     "start_time": "2023-12-22T07:27:28.937157Z"
    }
   },
   "outputs": [],
   "source": [
    "def mancala_6_4_iterator(candidate_game_history=[1], candidate_game_score=''):\n",
    "    \"\"\"\n",
    "    Returns the next hypothetical mancala game after the given one\n",
    "    \"\"\"    \n",
    "    from copy import deepcopy\n",
    "    \n",
    "    \n",
    "    ## Set the player allowed move lists\n",
    "    north_allowed_moves = range(8, 14)\n",
    "    south_allowed_moves = range(1, 7)\n",
    "    \n",
    "\n",
    "    ## Make the list of iterated game states\n",
    "    game = Kalah(6,4)\n",
    "    game_list = []\n",
    "    for i in range(len(candidate_game_history)):\n",
    "\n",
    "        ## Perform the next move\n",
    "        game.perform_move(candidate_game_history[i])\n",
    "    \n",
    "        ## Check if the move was valid (i.e. added to the internal game history)\n",
    "        if len(game.history_list()) == i+1:\n",
    "            game_list.append(deepcopy(game))\n",
    "        else:\n",
    "            break\n",
    "\n",
    "    ## Get the new partial game history from the deepest valid game history\n",
    "    try:\n",
    "        valid_game_history = game_list[-1].history_list()\n",
    "    except:\n",
    "        pass\n",
    "\n",
    "    \n",
    "    ## DIAGNOSTIC\n",
    "    print(f\"valid_game_history = {valid_game_history}\")\n",
    "    print(f\"game_list = {game_list}\")\n",
    "    print(f\"len(game_list) = {len(game_list)}\")\n",
    "    print()\n",
    "    \n",
    "    \n",
    "    \n",
    "    ########################\n",
    "    ## Main iterator loop ##\n",
    "    ########################\n",
    "\n",
    "    done_flag = False\n",
    "    while not done_flag:\n",
    "        \n",
    "        ## Get the current game\n",
    "        current_game = game_list[-1]\n",
    "        \n",
    "        \n",
    "        ## DIAGNOSTIC\n",
    "        print(f\"len(game_list) = {len(game_list)}\")\n",
    "        print(f\"game_list = {game_list}\")\n",
    "        print(f\"type(current_game) = {type(current_game)}\")\n",
    "        print(f\"current_game = {current_game}\")\n",
    "\n",
    "        \n",
    "        \n",
    "\n",
    "        ## Play the next game continuing from this partial game until we have a finished game\n",
    "        while not current_game.is_finished():\n",
    "\n",
    "            ## Start the next game (one more move in from the last one)\n",
    "            next_game = deepcopy(current_game)\n",
    "\n",
    "            ## Determine the next player and the next move\n",
    "            if current_game.next_player() == 's':\n",
    "                for next_move in range(1, 7):\n",
    "                    next_game.perform_move(next_move)                \n",
    "                    if len(next_game.history_list()) > len(current_game.history_list()):\n",
    "                        break\n",
    "            elif current_game.next_player() == 'n':\n",
    "                for next_move in range(8, 14):\n",
    "                    next_game.perform_move(next_move)                \n",
    "                    if len(next_game.history_list()) > len(current_game.history_list()):\n",
    "                        break\n",
    "\n",
    "            ## Append the next game to the list\n",
    "            game_list.append(next_game)\n",
    "\n",
    "            ## Update the current game\n",
    "            current_game = game_list[-1]\n",
    "\n",
    "            ## DIAGNOSTIC\n",
    "            print(f\"len(game_list) = {len(game_list)}\")\n",
    "            print(f\"len(current_game.state_list()) = {current_game.state_list()}\")\n",
    "            print(f\"len(current_game.history_list()) = {current_game.history_list()}\")\n",
    "            print(f\"len(current_game.next_player()) = {current_game.next_player()}\")\n",
    "                \n",
    "                \n",
    " \n",
    "        ## Return the game and its score when it's a finished game\n",
    "        history = current_game.history_list()\n",
    "        score = current_game.score()\n",
    "        yield history, score        \n",
    "\n",
    "    \n",
    "        \n",
    "        ## DIAGNOSTIC:\n",
    "        print(f\" - history = {history}\")\n",
    "        print(f\" - score = {score}\")\n",
    "        print()\n",
    "        \n",
    "        \n",
    "        \n",
    "        \n",
    "        \n",
    "        ## Increment the game history last move, or move further back\n",
    "        increment_success_flag = False\n",
    "        while not increment_success_flag:\n",
    "\n",
    "            \n",
    "            ## DIAGNOSTIC:\n",
    "            print(\"A\")\n",
    "            print(f\"history = {history}\")\n",
    "                \n",
    "            ## Look at the last move\n",
    "            if len(history) > 0:\n",
    "                last_move = history[-1]\n",
    "            else:\n",
    "                raise RuntimeError(\"not sure what to do here... =(\")\n",
    "#                last_move = 1\n",
    "\n",
    "            ## DIAGNOSTIC:\n",
    "            print(\"B\")\n",
    "                \n",
    "            ## Check if the last move is incrementable\n",
    "            if (last_move != 6) and (last_move != 13):\n",
    "                history[-1] += 1\n",
    "                increment_success_flag = True\n",
    "\n",
    "                ## Regenerate the last game in the list based on the incremented move!\n",
    "                game_list[-1] = deepcopy(game_list[-2]).perform_move(next_move) \n",
    "                \n",
    "                \n",
    "            else:\n",
    "                \n",
    "                ## Set that we're done, or continue to work backwards\n",
    "                if game_list == []:\n",
    "                    done_flag = True\n",
    "                else:\n",
    "                    game_list = game_list[:-1]\n",
    "                    if len(game_list) > 0:\n",
    "                        history = game_list[-1].history_list()\n",
    "                    else:\n",
    "                        history = []\n",
    "                        \n",
    "            ## DIAGNOSTIC:\n",
    "            print(\"C\")\n",
    "                \n",
    "                    \n",
    "        ## Break if we're done\n",
    "        if done_flag:\n",
    "            break\n",
    "\n",
    "    \n"
   ]
  },
  {
   "cell_type": "code",
   "execution_count": 27,
   "id": "31ff1659",
   "metadata": {
    "ExecuteTime": {
     "end_time": "2023-12-22T07:27:29.690055Z",
     "start_time": "2023-12-22T07:27:29.682424Z"
    }
   },
   "outputs": [],
   "source": [
    "#for g in mancala_6_4_iterator([1]):\n",
    "#    print(g)"
   ]
  },
  {
   "cell_type": "code",
   "execution_count": null,
   "id": "72a3d6c8",
   "metadata": {},
   "outputs": [],
   "source": []
  },
  {
   "cell_type": "code",
   "execution_count": null,
   "id": "c45625ab",
   "metadata": {},
   "outputs": [],
   "source": []
  },
  {
   "cell_type": "code",
   "execution_count": 28,
   "id": "491c52ee",
   "metadata": {
    "ExecuteTime": {
     "end_time": "2023-12-22T07:27:30.527554Z",
     "start_time": "2023-12-22T07:27:30.516833Z"
    }
   },
   "outputs": [],
   "source": [
    "gen = mancala_6_4_iterator([1])"
   ]
  },
  {
   "cell_type": "code",
   "execution_count": 29,
   "id": "2587f299",
   "metadata": {
    "ExecuteTime": {
     "end_time": "2023-12-22T07:27:30.966913Z",
     "start_time": "2023-12-22T07:27:30.937222Z"
    }
   },
   "outputs": [
    {
     "name": "stdout",
     "output_type": "stream",
     "text": [
      "valid_game_history = [1]\n",
      "game_list = [<__main__.Kalah object at 0x7fa709eb0970>]\n",
      "len(game_list) = 1\n",
      "\n",
      "len(game_list) = 1\n",
      "game_list = [<__main__.Kalah object at 0x7fa709eb0970>]\n",
      "type(current_game) = <class '__main__.Kalah'>\n",
      "current_game = <__main__.Kalah object at 0x7fa709eb0970>\n",
      "len(game_list) = 2\n",
      "len(current_game.state_list()) = [0, 0, 5, 5, 5, 5, 4, 0, 0, 5, 5, 5, 5, 4, 's']\n",
      "len(current_game.history_list()) = [1, 8]\n",
      "len(current_game.next_player()) = s\n",
      "len(game_list) = 3\n",
      "len(current_game.state_list()) = [0, 0, 0, 6, 6, 6, 5, 1, 0, 5, 5, 5, 5, 4, 's']\n",
      "len(current_game.history_list()) = [1, 8, 2]\n",
      "len(current_game.next_player()) = s\n",
      "len(game_list) = 4\n",
      "len(current_game.state_list()) = [0, 0, 0, 0, 7, 7, 6, 2, 1, 6, 5, 5, 5, 4, 'n']\n",
      "len(current_game.history_list()) = [1, 8, 2, 3]\n",
      "len(current_game.next_player()) = n\n",
      "len(game_list) = 5\n",
      "len(current_game.state_list()) = [0, 0, 0, 0, 7, 7, 6, 2, 0, 7, 5, 5, 5, 4, 's']\n",
      "len(current_game.history_list()) = [1, 8, 2, 3, 8]\n",
      "len(current_game.next_player()) = s\n",
      "len(game_list) = 6\n",
      "len(current_game.state_list()) = [0, 0, 0, 0, 0, 8, 7, 3, 1, 8, 6, 6, 5, 4, 'n']\n",
      "len(current_game.history_list()) = [1, 8, 2, 3, 8, 4]\n",
      "len(current_game.next_player()) = n\n",
      "len(game_list) = 7\n",
      "len(current_game.state_list()) = [0, 0, 0, 0, 0, 8, 7, 3, 0, 9, 6, 6, 5, 4, 's']\n",
      "len(current_game.history_list()) = [1, 8, 2, 3, 8, 4, 8]\n",
      "len(current_game.next_player()) = s\n",
      "len(game_list) = 8\n",
      "len(current_game.state_list()) = [0, 0, 0, 0, 0, 0, 8, 4, 1, 10, 7, 7, 6, 5, 'n']\n",
      "len(current_game.history_list()) = [1, 8, 2, 3, 8, 4, 8, 5]\n",
      "len(current_game.next_player()) = n\n",
      "len(game_list) = 9\n",
      "len(current_game.state_list()) = [0, 0, 0, 0, 0, 0, 8, 4, 0, 11, 7, 7, 6, 5, 's']\n",
      "len(current_game.history_list()) = [1, 8, 2, 3, 8, 4, 8, 5, 8]\n",
      "len(current_game.next_player()) = s\n",
      "len(game_list) = 10\n",
      "len(current_game.state_list()) = [0, 1, 0, 0, 0, 0, 0, 11, 1, 12, 8, 8, 7, 0, 'n']\n",
      "len(current_game.history_list()) = [1, 8, 2, 3, 8, 4, 8, 5, 8, 6]\n",
      "len(current_game.next_player()) = n\n",
      "len(game_list) = 11\n",
      "len(current_game.state_list()) = [0, 1, 0, 0, 0, 0, 0, 11, 0, 13, 8, 8, 7, 0, 's']\n",
      "len(current_game.history_list()) = [1, 8, 2, 3, 8, 4, 8, 5, 8, 6, 8]\n",
      "len(current_game.next_player()) = s\n",
      "len(game_list) = 12\n",
      "len(current_game.state_list()) = [0, 0, 1, 0, 0, 0, 0, 18, 0, 13, 8, 8, 0, 0, 'n']\n",
      "len(current_game.history_list()) = [1, 8, 2, 3, 8, 4, 8, 5, 8, 6, 8, 1]\n",
      "len(current_game.next_player()) = n\n",
      "len(game_list) = 13\n",
      "len(current_game.state_list()) = [2, 1, 2, 1, 1, 0, 1, 18, 1, 1, 9, 9, 1, 1, 's']\n",
      "len(current_game.history_list()) = [1, 8, 2, 3, 8, 4, 8, 5, 8, 6, 8, 1, 9]\n",
      "len(current_game.next_player()) = s\n",
      "len(game_list) = 14\n",
      "len(current_game.state_list()) = [2, 0, 3, 1, 1, 0, 1, 18, 1, 1, 9, 9, 1, 1, 'n']\n",
      "len(current_game.history_list()) = [1, 8, 2, 3, 8, 4, 8, 5, 8, 6, 8, 1, 9, 1]\n",
      "len(current_game.next_player()) = n\n",
      "len(game_list) = 15\n",
      "len(current_game.state_list()) = [2, 0, 3, 1, 1, 0, 1, 18, 0, 2, 9, 9, 1, 1, 's']\n",
      "len(current_game.history_list()) = [1, 8, 2, 3, 8, 4, 8, 5, 8, 6, 8, 1, 9, 1, 8]\n",
      "len(current_game.next_player()) = s\n",
      "len(game_list) = 16\n",
      "len(current_game.state_list()) = [2, 0, 0, 2, 2, 1, 1, 20, 0, 0, 9, 9, 1, 1, 'n']\n",
      "len(current_game.history_list()) = [1, 8, 2, 3, 8, 4, 8, 5, 8, 6, 8, 1, 9, 1, 8, 2]\n",
      "len(current_game.next_player()) = n\n",
      "len(game_list) = 17\n",
      "len(current_game.state_list()) = [3, 1, 1, 3, 3, 2, 1, 20, 0, 0, 0, 10, 2, 2, 's']\n",
      "len(current_game.history_list()) = [1, 8, 2, 3, 8, 4, 8, 5, 8, 6, 8, 1, 9, 1, 8, 2, 10]\n",
      "len(current_game.next_player()) = s\n",
      "len(game_list) = 18\n",
      "len(current_game.state_list()) = [3, 0, 2, 3, 3, 2, 1, 20, 0, 0, 0, 10, 2, 2, 'n']\n",
      "len(current_game.history_list()) = [1, 8, 2, 3, 8, 4, 8, 5, 8, 6, 8, 1, 9, 1, 8, 2, 10, 1]\n",
      "len(current_game.next_player()) = n\n",
      "len(game_list) = 19\n",
      "len(current_game.state_list()) = [6, 1, 3, 4, 4, 3, 0, 20, 1, 0, 0, 0, 3, 3, 's']\n",
      "len(current_game.history_list()) = [1, 8, 2, 3, 8, 4, 8, 5, 8, 6, 8, 1, 9, 1, 8, 2, 10, 1, 11]\n",
      "len(current_game.next_player()) = s\n",
      "len(game_list) = 20\n",
      "len(current_game.state_list()) = [6, 0, 4, 4, 4, 3, 0, 20, 1, 0, 0, 0, 3, 3, 'n']\n",
      "len(current_game.history_list()) = [1, 8, 2, 3, 8, 4, 8, 5, 8, 6, 8, 1, 9, 1, 8, 2, 10, 1, 11, 1]\n",
      "len(current_game.next_player()) = n\n",
      "len(game_list) = 21\n",
      "len(current_game.state_list()) = [9, 0, 4, 4, 4, 0, 0, 20, 0, 1, 0, 0, 3, 3, 's']\n",
      "len(current_game.history_list()) = [1, 8, 2, 3, 8, 4, 8, 5, 8, 6, 8, 1, 9, 1, 8, 2, 10, 1, 11, 1, 8]\n",
      "len(current_game.next_player()) = s\n",
      "len(game_list) = 22\n",
      "len(current_game.state_list()) = [9, 0, 0, 5, 5, 1, 1, 20, 0, 1, 0, 0, 3, 3, 'n']\n",
      "len(current_game.history_list()) = [1, 8, 2, 3, 8, 4, 8, 5, 8, 6, 8, 1, 9, 1, 8, 2, 10, 1, 11, 1, 8, 2]\n",
      "len(current_game.next_player()) = n\n",
      "len(game_list) = 23\n",
      "len(current_game.state_list()) = [14, 0, 0, 5, 0, 1, 1, 20, 0, 0, 1, 0, 3, 3, 's']\n",
      "len(current_game.history_list()) = [1, 8, 2, 3, 8, 4, 8, 5, 8, 6, 8, 1, 9, 1, 8, 2, 10, 1, 11, 1, 8, 2, 9]\n",
      "len(current_game.next_player()) = s\n",
      "len(game_list) = 24\n",
      "len(current_game.state_list()) = [14, 0, 0, 0, 1, 2, 2, 21, 1, 0, 1, 0, 3, 3, 'n']\n",
      "len(current_game.history_list()) = [1, 8, 2, 3, 8, 4, 8, 5, 8, 6, 8, 1, 9, 1, 8, 2, 10, 1, 11, 1, 8, 2, 9, 3]\n",
      "len(current_game.next_player()) = n\n",
      "len(game_list) = 25\n",
      "len(current_game.state_list()) = [16, 0, 0, 0, 1, 0, 2, 21, 0, 1, 1, 0, 3, 3, 's']\n",
      "len(current_game.history_list()) = [1, 8, 2, 3, 8, 4, 8, 5, 8, 6, 8, 1, 9, 1, 8, 2, 10, 1, 11, 1, 8, 2, 9, 3, 8]\n",
      "len(current_game.next_player()) = s\n",
      "len(game_list) = 26\n",
      "len(current_game.state_list()) = [16, 0, 0, 0, 0, 1, 2, 22, 0, 0, 1, 0, 3, 3, 'n']\n",
      "len(current_game.history_list()) = [1, 8, 2, 3, 8, 4, 8, 5, 8, 6, 8, 1, 9, 1, 8, 2, 10, 1, 11, 1, 8, 2, 9, 3, 8, 4]\n",
      "len(current_game.next_player()) = n\n",
      "len(game_list) = 27\n",
      "len(current_game.state_list()) = [16, 0, 0, 0, 0, 1, 2, 22, 0, 0, 0, 1, 3, 3, 's']\n",
      "len(current_game.history_list()) = [1, 8, 2, 3, 8, 4, 8, 5, 8, 6, 8, 1, 9, 1, 8, 2, 10, 1, 11, 1, 8, 2, 9, 3, 8, 4, 10]\n",
      "len(current_game.next_player()) = s\n",
      "len(game_list) = 28\n",
      "len(current_game.state_list()) = [16, 0, 0, 0, 0, 0, 3, 22, 0, 0, 0, 1, 3, 3, 'n']\n",
      "len(current_game.history_list()) = [1, 8, 2, 3, 8, 4, 8, 5, 8, 6, 8, 1, 9, 1, 8, 2, 10, 1, 11, 1, 8, 2, 9, 3, 8, 4, 10, 5]\n",
      "len(current_game.next_player()) = n\n",
      "len(game_list) = 29\n",
      "len(current_game.state_list()) = [16, 0, 0, 0, 0, 0, 3, 22, 0, 0, 0, 0, 4, 3, 's']\n",
      "len(current_game.history_list()) = [1, 8, 2, 3, 8, 4, 8, 5, 8, 6, 8, 1, 9, 1, 8, 2, 10, 1, 11, 1, 8, 2, 9, 3, 8, 4, 10, 5, 11]\n",
      "len(current_game.next_player()) = s\n",
      "len(game_list) = 30\n",
      "len(current_game.state_list()) = [16, 0, 0, 0, 0, 0, 0, 23, 1, 1, 0, 0, 4, 3, 'n']\n",
      "len(current_game.history_list()) = [1, 8, 2, 3, 8, 4, 8, 5, 8, 6, 8, 1, 9, 1, 8, 2, 10, 1, 11, 1, 8, 2, 9, 3, 8, 4, 10, 5, 11, 6]\n",
      "len(current_game.next_player()) = n\n",
      "len(game_list) = 31\n",
      "len(current_game.state_list()) = [16, 0, 0, 0, 0, 0, 0, 23, 0, 2, 0, 0, 4, 3, 'n']\n",
      "len(current_game.history_list()) = [1, 8, 2, 3, 8, 4, 8, 5, 8, 6, 8, 1, 9, 1, 8, 2, 10, 1, 11, 1, 8, 2, 9, 3, 8, 4, 10, 5, 11, 6, 8]\n",
      "len(current_game.next_player()) = n\n",
      "len(game_list) = 32\n",
      "len(current_game.state_list()) = [16, 0, 0, 0, 0, 0, 0, 23, 0, 0, 1, 1, 4, 3, 'n']\n",
      "len(current_game.history_list()) = [1, 8, 2, 3, 8, 4, 8, 5, 8, 6, 8, 1, 9, 1, 8, 2, 10, 1, 11, 1, 8, 2, 9, 3, 8, 4, 10, 5, 11, 6, 8, 9]\n",
      "len(current_game.next_player()) = n\n",
      "len(game_list) = 33\n",
      "len(current_game.state_list()) = [16, 0, 0, 0, 0, 0, 0, 23, 0, 0, 0, 2, 4, 3, 'n']\n",
      "len(current_game.history_list()) = [1, 8, 2, 3, 8, 4, 8, 5, 8, 6, 8, 1, 9, 1, 8, 2, 10, 1, 11, 1, 8, 2, 9, 3, 8, 4, 10, 5, 11, 6, 8, 9, 10]\n",
      "len(current_game.next_player()) = n\n",
      "len(game_list) = 34\n",
      "len(current_game.state_list()) = [16, 0, 0, 0, 0, 0, 0, 23, 0, 0, 0, 0, 5, 4, 'n']\n",
      "len(current_game.history_list()) = [1, 8, 2, 3, 8, 4, 8, 5, 8, 6, 8, 1, 9, 1, 8, 2, 10, 1, 11, 1, 8, 2, 9, 3, 8, 4, 10, 5, 11, 6, 8, 9, 10, 11]\n",
      "len(current_game.next_player()) = n\n",
      "len(game_list) = 35\n",
      "len(current_game.state_list()) = [17, 1, 1, 1, 0, 0, 0, 23, 0, 0, 0, 0, 0, 5, 's']\n",
      "len(current_game.history_list()) = [1, 8, 2, 3, 8, 4, 8, 5, 8, 6, 8, 1, 9, 1, 8, 2, 10, 1, 11, 1, 8, 2, 9, 3, 8, 4, 10, 5, 11, 6, 8, 9, 10, 11, 12]\n",
      "len(current_game.next_player()) = s\n",
      "len(game_list) = 36\n",
      "len(current_game.state_list()) = [17, 0, 2, 1, 0, 0, 0, 23, 0, 0, 0, 0, 0, 5, 'n']\n",
      "len(current_game.history_list()) = [1, 8, 2, 3, 8, 4, 8, 5, 8, 6, 8, 1, 9, 1, 8, 2, 10, 1, 11, 1, 8, 2, 9, 3, 8, 4, 10, 5, 11, 6, 8, 9, 10, 11, 12, 1]\n",
      "len(current_game.next_player()) = n\n",
      "len(game_list) = 37\n",
      "len(current_game.state_list()) = [18, 1, 3, 2, 1, 0, 0, 23, 0, 0, 0, 0, 0, 0, 's']\n",
      "len(current_game.history_list()) = [1, 8, 2, 3, 8, 4, 8, 5, 8, 6, 8, 1, 9, 1, 8, 2, 10, 1, 11, 1, 8, 2, 9, 3, 8, 4, 10, 5, 11, 6, 8, 9, 10, 11, 12, 1, 13]\n",
      "len(current_game.next_player()) = s\n",
      "len(game_list) = 38\n",
      "len(current_game.state_list()) = [18, 0, 4, 2, 1, 0, 0, 23, 0, 0, 0, 0, 0, 0, 's']\n",
      "len(current_game.history_list()) = [1, 8, 2, 3, 8, 4, 8, 5, 8, 6, 8, 1, 9, 1, 8, 2, 10, 1, 11, 1, 8, 2, 9, 3, 8, 4, 10, 5, 11, 6, 8, 9, 10, 11, 12, 1, 13, 1]\n",
      "len(current_game.next_player()) = s\n",
      "len(game_list) = 39\n",
      "len(current_game.state_list()) = [18, 0, 0, 3, 2, 1, 1, 23, 0, 0, 0, 0, 0, 0, 's']\n",
      "len(current_game.history_list()) = [1, 8, 2, 3, 8, 4, 8, 5, 8, 6, 8, 1, 9, 1, 8, 2, 10, 1, 11, 1, 8, 2, 9, 3, 8, 4, 10, 5, 11, 6, 8, 9, 10, 11, 12, 1, 13, 1, 2]\n",
      "len(current_game.next_player()) = s\n",
      "len(game_list) = 40\n",
      "len(current_game.state_list()) = [18, 0, 0, 0, 3, 2, 2, 23, 0, 0, 0, 0, 0, 0, 's']\n",
      "len(current_game.history_list()) = [1, 8, 2, 3, 8, 4, 8, 5, 8, 6, 8, 1, 9, 1, 8, 2, 10, 1, 11, 1, 8, 2, 9, 3, 8, 4, 10, 5, 11, 6, 8, 9, 10, 11, 12, 1, 13, 1, 2, 3]\n",
      "len(current_game.next_player()) = s\n",
      "len(game_list) = 41\n",
      "len(current_game.state_list()) = [18, 0, 0, 0, 0, 3, 3, 24, 0, 0, 0, 0, 0, 0, 's']\n",
      "len(current_game.history_list()) = [1, 8, 2, 3, 8, 4, 8, 5, 8, 6, 8, 1, 9, 1, 8, 2, 10, 1, 11, 1, 8, 2, 9, 3, 8, 4, 10, 5, 11, 6, 8, 9, 10, 11, 12, 1, 13, 1, 2, 3, 4]\n",
      "len(current_game.next_player()) = s\n",
      "len(game_list) = 42\n",
      "len(current_game.state_list()) = [18, 0, 0, 0, 0, 0, 4, 25, 1, 0, 0, 0, 0, 0, 'n']\n",
      "len(current_game.history_list()) = [1, 8, 2, 3, 8, 4, 8, 5, 8, 6, 8, 1, 9, 1, 8, 2, 10, 1, 11, 1, 8, 2, 9, 3, 8, 4, 10, 5, 11, 6, 8, 9, 10, 11, 12, 1, 13, 1, 2, 3, 4, 5]\n",
      "len(current_game.next_player()) = n\n",
      "len(game_list) = 43\n",
      "len(current_game.state_list()) = [18, 0, 0, 0, 0, 0, 4, 25, 0, 1, 0, 0, 0, 0, 's']\n",
      "len(current_game.history_list()) = [1, 8, 2, 3, 8, 4, 8, 5, 8, 6, 8, 1, 9, 1, 8, 2, 10, 1, 11, 1, 8, 2, 9, 3, 8, 4, 10, 5, 11, 6, 8, 9, 10, 11, 12, 1, 13, 1, 2, 3, 4, 5, 8]\n",
      "len(current_game.next_player()) = s\n",
      "len(game_list) = 44\n",
      "len(current_game.state_list()) = [18, 0, 0, 0, 0, 0, 0, 26, 1, 2, 1, 0, 0, 0, 'n']\n",
      "len(current_game.history_list()) = [1, 8, 2, 3, 8, 4, 8, 5, 8, 6, 8, 1, 9, 1, 8, 2, 10, 1, 11, 1, 8, 2, 9, 3, 8, 4, 10, 5, 11, 6, 8, 9, 10, 11, 12, 1, 13, 1, 2, 3, 4, 5, 8, 6]\n",
      "len(current_game.next_player()) = n\n",
      "len(game_list) = 45\n",
      "len(current_game.state_list()) = [18, 0, 0, 0, 0, 0, 0, 26, 0, 3, 1, 0, 0, 0, 'n']\n",
      "len(current_game.history_list()) = [1, 8, 2, 3, 8, 4, 8, 5, 8, 6, 8, 1, 9, 1, 8, 2, 10, 1, 11, 1, 8, 2, 9, 3, 8, 4, 10, 5, 11, 6, 8, 9, 10, 11, 12, 1, 13, 1, 2, 3, 4, 5, 8, 6, 8]\n",
      "len(current_game.next_player()) = n\n",
      "len(game_list) = 46\n",
      "len(current_game.state_list()) = [18, 0, 0, 0, 0, 0, 0, 26, 0, 0, 2, 1, 1, 0, 'n']\n",
      "len(current_game.history_list()) = [1, 8, 2, 3, 8, 4, 8, 5, 8, 6, 8, 1, 9, 1, 8, 2, 10, 1, 11, 1, 8, 2, 9, 3, 8, 4, 10, 5, 11, 6, 8, 9, 10, 11, 12, 1, 13, 1, 2, 3, 4, 5, 8, 6, 8, 9]\n",
      "len(current_game.next_player()) = n\n",
      "len(game_list) = 47\n",
      "len(current_game.state_list()) = [18, 0, 0, 0, 0, 0, 0, 26, 0, 0, 0, 2, 2, 0, 'n']\n",
      "len(current_game.history_list()) = [1, 8, 2, 3, 8, 4, 8, 5, 8, 6, 8, 1, 9, 1, 8, 2, 10, 1, 11, 1, 8, 2, 9, 3, 8, 4, 10, 5, 11, 6, 8, 9, 10, 11, 12, 1, 13, 1, 2, 3, 4, 5, 8, 6, 8, 9, 10]\n",
      "len(current_game.next_player()) = n\n",
      "len(game_list) = 48\n",
      "len(current_game.state_list()) = [18, 0, 0, 0, 0, 0, 0, 26, 0, 0, 0, 0, 3, 1, 'n']\n",
      "len(current_game.history_list()) = [1, 8, 2, 3, 8, 4, 8, 5, 8, 6, 8, 1, 9, 1, 8, 2, 10, 1, 11, 1, 8, 2, 9, 3, 8, 4, 10, 5, 11, 6, 8, 9, 10, 11, 12, 1, 13, 1, 2, 3, 4, 5, 8, 6, 8, 9, 10, 11]\n",
      "len(current_game.next_player()) = n\n",
      "len(game_list) = 49\n",
      "len(current_game.state_list()) = [19, 1, 0, 0, 0, 0, 0, 26, 0, 0, 0, 0, 0, 2, 's']\n",
      "len(current_game.history_list()) = [1, 8, 2, 3, 8, 4, 8, 5, 8, 6, 8, 1, 9, 1, 8, 2, 10, 1, 11, 1, 8, 2, 9, 3, 8, 4, 10, 5, 11, 6, 8, 9, 10, 11, 12, 1, 13, 1, 2, 3, 4, 5, 8, 6, 8, 9, 10, 11, 12]\n",
      "len(current_game.next_player()) = s\n",
      "len(game_list) = 50\n",
      "len(current_game.state_list()) = [19, 0, 1, 0, 0, 0, 0, 26, 0, 0, 0, 0, 0, 2, 'n']\n",
      "len(current_game.history_list()) = [1, 8, 2, 3, 8, 4, 8, 5, 8, 6, 8, 1, 9, 1, 8, 2, 10, 1, 11, 1, 8, 2, 9, 3, 8, 4, 10, 5, 11, 6, 8, 9, 10, 11, 12, 1, 13, 1, 2, 3, 4, 5, 8, 6, 8, 9, 10, 11, 12, 1]\n",
      "len(current_game.next_player()) = n\n",
      "len(game_list) = 51\n",
      "len(current_game.state_list()) = [20, 1, 1, 0, 0, 0, 0, 26, 0, 0, 0, 0, 0, 0, 's']\n",
      "len(current_game.history_list()) = [1, 8, 2, 3, 8, 4, 8, 5, 8, 6, 8, 1, 9, 1, 8, 2, 10, 1, 11, 1, 8, 2, 9, 3, 8, 4, 10, 5, 11, 6, 8, 9, 10, 11, 12, 1, 13, 1, 2, 3, 4, 5, 8, 6, 8, 9, 10, 11, 12, 1, 13]\n",
      "len(current_game.next_player()) = s\n",
      "len(game_list) = 52\n",
      "len(current_game.state_list()) = [20, 0, 2, 0, 0, 0, 0, 26, 0, 0, 0, 0, 0, 0, 's']\n",
      "len(current_game.history_list()) = [1, 8, 2, 3, 8, 4, 8, 5, 8, 6, 8, 1, 9, 1, 8, 2, 10, 1, 11, 1, 8, 2, 9, 3, 8, 4, 10, 5, 11, 6, 8, 9, 10, 11, 12, 1, 13, 1, 2, 3, 4, 5, 8, 6, 8, 9, 10, 11, 12, 1, 13, 1]\n",
      "len(current_game.next_player()) = s\n",
      "len(game_list) = 53\n",
      "len(current_game.state_list()) = [20, 0, 0, 1, 1, 0, 0, 26, 0, 0, 0, 0, 0, 0, 's']\n",
      "len(current_game.history_list()) = [1, 8, 2, 3, 8, 4, 8, 5, 8, 6, 8, 1, 9, 1, 8, 2, 10, 1, 11, 1, 8, 2, 9, 3, 8, 4, 10, 5, 11, 6, 8, 9, 10, 11, 12, 1, 13, 1, 2, 3, 4, 5, 8, 6, 8, 9, 10, 11, 12, 1, 13, 1, 2]\n",
      "len(current_game.next_player()) = s\n",
      "len(game_list) = 54\n",
      "len(current_game.state_list()) = [20, 0, 0, 0, 2, 0, 0, 26, 0, 0, 0, 0, 0, 0, 's']\n",
      "len(current_game.history_list()) = [1, 8, 2, 3, 8, 4, 8, 5, 8, 6, 8, 1, 9, 1, 8, 2, 10, 1, 11, 1, 8, 2, 9, 3, 8, 4, 10, 5, 11, 6, 8, 9, 10, 11, 12, 1, 13, 1, 2, 3, 4, 5, 8, 6, 8, 9, 10, 11, 12, 1, 13, 1, 2, 3]\n",
      "len(current_game.next_player()) = s\n",
      "len(game_list) = 55\n",
      "len(current_game.state_list()) = [20, 0, 0, 0, 0, 1, 1, 26, 0, 0, 0, 0, 0, 0, 's']\n",
      "len(current_game.history_list()) = [1, 8, 2, 3, 8, 4, 8, 5, 8, 6, 8, 1, 9, 1, 8, 2, 10, 1, 11, 1, 8, 2, 9, 3, 8, 4, 10, 5, 11, 6, 8, 9, 10, 11, 12, 1, 13, 1, 2, 3, 4, 5, 8, 6, 8, 9, 10, 11, 12, 1, 13, 1, 2, 3, 4]\n",
      "len(current_game.next_player()) = s\n",
      "len(game_list) = 56\n",
      "len(current_game.state_list()) = [20, 0, 0, 0, 0, 0, 2, 26, 0, 0, 0, 0, 0, 0, 's']\n",
      "len(current_game.history_list()) = [1, 8, 2, 3, 8, 4, 8, 5, 8, 6, 8, 1, 9, 1, 8, 2, 10, 1, 11, 1, 8, 2, 9, 3, 8, 4, 10, 5, 11, 6, 8, 9, 10, 11, 12, 1, 13, 1, 2, 3, 4, 5, 8, 6, 8, 9, 10, 11, 12, 1, 13, 1, 2, 3, 4, 5]\n",
      "len(current_game.next_player()) = s\n",
      "len(game_list) = 57\n",
      "len(current_game.state_list()) = [20, 0, 0, 0, 0, 0, 0, 27, 1, 0, 0, 0, 0, 0, 'n']\n",
      "len(current_game.history_list()) = [1, 8, 2, 3, 8, 4, 8, 5, 8, 6, 8, 1, 9, 1, 8, 2, 10, 1, 11, 1, 8, 2, 9, 3, 8, 4, 10, 5, 11, 6, 8, 9, 10, 11, 12, 1, 13, 1, 2, 3, 4, 5, 8, 6, 8, 9, 10, 11, 12, 1, 13, 1, 2, 3, 4, 5, 6]\n",
      "len(current_game.next_player()) = n\n",
      "len(game_list) = 58\n",
      "len(current_game.state_list()) = [20, 0, 0, 0, 0, 0, 0, 27, 0, 1, 0, 0, 0, 0, 'n']\n",
      "len(current_game.history_list()) = [1, 8, 2, 3, 8, 4, 8, 5, 8, 6, 8, 1, 9, 1, 8, 2, 10, 1, 11, 1, 8, 2, 9, 3, 8, 4, 10, 5, 11, 6, 8, 9, 10, 11, 12, 1, 13, 1, 2, 3, 4, 5, 8, 6, 8, 9, 10, 11, 12, 1, 13, 1, 2, 3, 4, 5, 6, 8]\n",
      "len(current_game.next_player()) = n\n",
      "len(game_list) = 59\n",
      "len(current_game.state_list()) = [20, 0, 0, 0, 0, 0, 0, 27, 0, 0, 1, 0, 0, 0, 'n']\n",
      "len(current_game.history_list()) = [1, 8, 2, 3, 8, 4, 8, 5, 8, 6, 8, 1, 9, 1, 8, 2, 10, 1, 11, 1, 8, 2, 9, 3, 8, 4, 10, 5, 11, 6, 8, 9, 10, 11, 12, 1, 13, 1, 2, 3, 4, 5, 8, 6, 8, 9, 10, 11, 12, 1, 13, 1, 2, 3, 4, 5, 6, 8, 9]\n",
      "len(current_game.next_player()) = n\n",
      "len(game_list) = 60\n",
      "len(current_game.state_list()) = [20, 0, 0, 0, 0, 0, 0, 27, 0, 0, 0, 1, 0, 0, 'n']\n",
      "len(current_game.history_list()) = [1, 8, 2, 3, 8, 4, 8, 5, 8, 6, 8, 1, 9, 1, 8, 2, 10, 1, 11, 1, 8, 2, 9, 3, 8, 4, 10, 5, 11, 6, 8, 9, 10, 11, 12, 1, 13, 1, 2, 3, 4, 5, 8, 6, 8, 9, 10, 11, 12, 1, 13, 1, 2, 3, 4, 5, 6, 8, 9, 10]\n",
      "len(current_game.next_player()) = n\n",
      "len(game_list) = 61\n",
      "len(current_game.state_list()) = [20, 0, 0, 0, 0, 0, 0, 27, 0, 0, 0, 0, 1, 0, 'n']\n",
      "len(current_game.history_list()) = [1, 8, 2, 3, 8, 4, 8, 5, 8, 6, 8, 1, 9, 1, 8, 2, 10, 1, 11, 1, 8, 2, 9, 3, 8, 4, 10, 5, 11, 6, 8, 9, 10, 11, 12, 1, 13, 1, 2, 3, 4, 5, 8, 6, 8, 9, 10, 11, 12, 1, 13, 1, 2, 3, 4, 5, 6, 8, 9, 10, 11]\n",
      "len(current_game.next_player()) = n\n",
      "len(game_list) = 62\n",
      "len(current_game.state_list()) = [20, 0, 0, 0, 0, 0, 0, 27, 0, 0, 0, 0, 0, 1, 'n']\n",
      "len(current_game.history_list()) = [1, 8, 2, 3, 8, 4, 8, 5, 8, 6, 8, 1, 9, 1, 8, 2, 10, 1, 11, 1, 8, 2, 9, 3, 8, 4, 10, 5, 11, 6, 8, 9, 10, 11, 12, 1, 13, 1, 2, 3, 4, 5, 8, 6, 8, 9, 10, 11, 12, 1, 13, 1, 2, 3, 4, 5, 6, 8, 9, 10, 11, 12]\n",
      "len(current_game.next_player()) = n\n",
      "len(game_list) = 63\n",
      "len(current_game.state_list()) = [21, 0, 0, 0, 0, 0, 0, 27, 0, 0, 0, 0, 0, 0, 'x']\n",
      "len(current_game.history_list()) = [1, 8, 2, 3, 8, 4, 8, 5, 8, 6, 8, 1, 9, 1, 8, 2, 10, 1, 11, 1, 8, 2, 9, 3, 8, 4, 10, 5, 11, 6, 8, 9, 10, 11, 12, 1, 13, 1, 2, 3, 4, 5, 8, 6, 8, 9, 10, 11, 12, 1, 13, 1, 2, 3, 4, 5, 6, 8, 9, 10, 11, 12, 13]\n",
      "len(current_game.next_player()) = x\n"
     ]
    },
    {
     "data": {
      "text/plain": [
       "([1,\n",
       "  8,\n",
       "  2,\n",
       "  3,\n",
       "  8,\n",
       "  4,\n",
       "  8,\n",
       "  5,\n",
       "  8,\n",
       "  6,\n",
       "  8,\n",
       "  1,\n",
       "  9,\n",
       "  1,\n",
       "  8,\n",
       "  2,\n",
       "  10,\n",
       "  1,\n",
       "  11,\n",
       "  1,\n",
       "  8,\n",
       "  2,\n",
       "  9,\n",
       "  3,\n",
       "  8,\n",
       "  4,\n",
       "  10,\n",
       "  5,\n",
       "  11,\n",
       "  6,\n",
       "  8,\n",
       "  9,\n",
       "  10,\n",
       "  11,\n",
       "  12,\n",
       "  1,\n",
       "  13,\n",
       "  1,\n",
       "  2,\n",
       "  3,\n",
       "  4,\n",
       "  5,\n",
       "  8,\n",
       "  6,\n",
       "  8,\n",
       "  9,\n",
       "  10,\n",
       "  11,\n",
       "  12,\n",
       "  1,\n",
       "  13,\n",
       "  1,\n",
       "  2,\n",
       "  3,\n",
       "  4,\n",
       "  5,\n",
       "  6,\n",
       "  8,\n",
       "  9,\n",
       "  10,\n",
       "  11,\n",
       "  12,\n",
       "  13],\n",
       " (21, 27))"
      ]
     },
     "execution_count": 29,
     "metadata": {},
     "output_type": "execute_result"
    }
   ],
   "source": [
    "next(gen)"
   ]
  },
  {
   "cell_type": "code",
   "execution_count": 30,
   "id": "d7d4d22b",
   "metadata": {
    "ExecuteTime": {
     "end_time": "2023-12-22T07:27:31.588064Z",
     "start_time": "2023-12-22T07:27:31.566444Z"
    }
   },
   "outputs": [
    {
     "name": "stdout",
     "output_type": "stream",
     "text": [
      " - history = [1, 8, 2, 3, 8, 4, 8, 5, 8, 6, 8, 1, 9, 1, 8, 2, 10, 1, 11, 1, 8, 2, 9, 3, 8, 4, 10, 5, 11, 6, 8, 9, 10, 11, 12, 1, 13, 1, 2, 3, 4, 5, 8, 6, 8, 9, 10, 11, 12, 1, 13, 1, 2, 3, 4, 5, 6, 8, 9, 10, 11, 12, 13]\n",
      " - score = (21, 27)\n",
      "\n",
      "A\n",
      "history = [1, 8, 2, 3, 8, 4, 8, 5, 8, 6, 8, 1, 9, 1, 8, 2, 10, 1, 11, 1, 8, 2, 9, 3, 8, 4, 10, 5, 11, 6, 8, 9, 10, 11, 12, 1, 13, 1, 2, 3, 4, 5, 8, 6, 8, 9, 10, 11, 12, 1, 13, 1, 2, 3, 4, 5, 6, 8, 9, 10, 11, 12, 13]\n",
      "B\n",
      "C\n",
      "A\n",
      "history = [1, 8, 2, 3, 8, 4, 8, 5, 8, 6, 8, 1, 9, 1, 8, 2, 10, 1, 11, 1, 8, 2, 9, 3, 8, 4, 10, 5, 11, 6, 8, 9, 10, 11, 12, 1, 13, 1, 2, 3, 4, 5, 8, 6, 8, 9, 10, 11, 12, 1, 13, 1, 2, 3, 4, 5, 6, 8, 9, 10, 11, 12]\n",
      "B\n",
      "C\n",
      "len(game_list) = 62\n",
      "game_list = [<__main__.Kalah object at 0x7fa709eb0970>, <__main__.Kalah object at 0x7fa709eb0a60>, <__main__.Kalah object at 0x7fa709eb0a90>, <__main__.Kalah object at 0x7fa709edc880>, <__main__.Kalah object at 0x7fa709edca90>, <__main__.Kalah object at 0x7fa709edc640>, <__main__.Kalah object at 0x7fa709edc520>, <__main__.Kalah object at 0x7fa709edc730>, <__main__.Kalah object at 0x7fa709edc5b0>, <__main__.Kalah object at 0x7fa709edc9d0>, <__main__.Kalah object at 0x7fa709edcb50>, <__main__.Kalah object at 0x7fa709edc760>, <__main__.Kalah object at 0x7fa709edc7f0>, <__main__.Kalah object at 0x7fa709edcbb0>, <__main__.Kalah object at 0x7fa709edce50>, <__main__.Kalah object at 0x7fa709edcd60>, <__main__.Kalah object at 0x7fa709edcd90>, <__main__.Kalah object at 0x7fa709edccd0>, <__main__.Kalah object at 0x7fa709edcdf0>, <__main__.Kalah object at 0x7fa709edcf40>, <__main__.Kalah object at 0x7fa709edcfa0>, <__main__.Kalah object at 0x7fa709edc220>, <__main__.Kalah object at 0x7fa709edc250>, <__main__.Kalah object at 0x7fa709edc130>, <__main__.Kalah object at 0x7fa709edc3a0>, <__main__.Kalah object at 0x7fa709edc550>, <__main__.Kalah object at 0x7fa709edc460>, <__main__.Kalah object at 0x7fa70a107b80>, <__main__.Kalah object at 0x7fa70a107be0>, <__main__.Kalah object at 0x7fa709edc4f0>, <__main__.Kalah object at 0x7fa709edc070>, <__main__.Kalah object at 0x7fa709edc0d0>, <__main__.Kalah object at 0x7fa70a5cd1f0>, <__main__.Kalah object at 0x7fa70a5cdaf0>, <__main__.Kalah object at 0x7fa70a5cd730>, <__main__.Kalah object at 0x7fa70a5cd610>, <__main__.Kalah object at 0x7fa70a5cd190>, <__main__.Kalah object at 0x7fa70a5cd790>, <__main__.Kalah object at 0x7fa70a5cd4c0>, <__main__.Kalah object at 0x7fa70a5cdd00>, <__main__.Kalah object at 0x7fa70a5cd6a0>, <__main__.Kalah object at 0x7fa70a5cdd90>, <__main__.Kalah object at 0x7fa70a5cdb20>, <__main__.Kalah object at 0x7fa70a5cd130>, <__main__.Kalah object at 0x7fa70a5cdb80>, <__main__.Kalah object at 0x7fa70a5cda60>, <__main__.Kalah object at 0x7fa70a5cd100>, <__main__.Kalah object at 0x7fa70a5cd250>, <__main__.Kalah object at 0x7fa70a5cd8b0>, <__main__.Kalah object at 0x7fa70a997fd0>, <__main__.Kalah object at 0x7fa70a997ac0>, <__main__.Kalah object at 0x7fa70a997730>, <__main__.Kalah object at 0x7fa6d849db80>, <__main__.Kalah object at 0x7fa709ec6370>, <__main__.Kalah object at 0x7fa709ec6e20>, <__main__.Kalah object at 0x7fa709ec6760>, <__main__.Kalah object at 0x7fa709ec62b0>, <__main__.Kalah object at 0x7fa709ec6eb0>, <__main__.Kalah object at 0x7fa709ec6040>, <__main__.Kalah object at 0x7fa709ec6970>, <__main__.Kalah object at 0x7fa709ec6190>, None]\n",
      "type(current_game) = <class 'NoneType'>\n",
      "current_game = None\n"
     ]
    },
    {
     "ename": "AttributeError",
     "evalue": "'NoneType' object has no attribute 'is_finished'",
     "output_type": "error",
     "traceback": [
      "\u001b[0;31m---------------------------------------------------------------------------\u001b[0m",
      "\u001b[0;31mAttributeError\u001b[0m                            Traceback (most recent call last)",
      "\u001b[0;32m/var/folders/qf/k7dgnp855m3cn5p4g2mtn6wh0000gn/T/ipykernel_38920/4293081279.py\u001b[0m in \u001b[0;36m<module>\u001b[0;34m\u001b[0m\n\u001b[0;32m----> 1\u001b[0;31m \u001b[0mnext\u001b[0m\u001b[0;34m(\u001b[0m\u001b[0mgen\u001b[0m\u001b[0;34m)\u001b[0m\u001b[0;34m\u001b[0m\u001b[0;34m\u001b[0m\u001b[0m\n\u001b[0m",
      "\u001b[0;32m/var/folders/qf/k7dgnp855m3cn5p4g2mtn6wh0000gn/T/ipykernel_38920/1427820501.py\u001b[0m in \u001b[0;36mmancala_6_4_iterator\u001b[0;34m(candidate_game_history, candidate_game_score)\u001b[0m\n\u001b[1;32m     61\u001b[0m \u001b[0;34m\u001b[0m\u001b[0m\n\u001b[1;32m     62\u001b[0m         \u001b[0;31m## Play the next game continuing from this partial game until we have a finished game\u001b[0m\u001b[0;34m\u001b[0m\u001b[0;34m\u001b[0m\u001b[0m\n\u001b[0;32m---> 63\u001b[0;31m         \u001b[0;32mwhile\u001b[0m \u001b[0;32mnot\u001b[0m \u001b[0mcurrent_game\u001b[0m\u001b[0;34m.\u001b[0m\u001b[0mis_finished\u001b[0m\u001b[0;34m(\u001b[0m\u001b[0;34m)\u001b[0m\u001b[0;34m:\u001b[0m\u001b[0;34m\u001b[0m\u001b[0;34m\u001b[0m\u001b[0m\n\u001b[0m\u001b[1;32m     64\u001b[0m \u001b[0;34m\u001b[0m\u001b[0m\n\u001b[1;32m     65\u001b[0m             \u001b[0;31m## Start the next game (one more move in from the last one)\u001b[0m\u001b[0;34m\u001b[0m\u001b[0;34m\u001b[0m\u001b[0m\n",
      "\u001b[0;31mAttributeError\u001b[0m: 'NoneType' object has no attribute 'is_finished'"
     ]
    }
   ],
   "source": [
    "next(gen)"
   ]
  },
  {
   "cell_type": "code",
   "execution_count": 22,
   "id": "b128d46a",
   "metadata": {
    "ExecuteTime": {
     "end_time": "2023-12-22T07:26:20.661604Z",
     "start_time": "2023-12-22T07:26:20.643091Z"
    }
   },
   "outputs": [
    {
     "ename": "StopIteration",
     "evalue": "",
     "output_type": "error",
     "traceback": [
      "\u001b[0;31m---------------------------------------------------------------------------\u001b[0m",
      "\u001b[0;31mStopIteration\u001b[0m                             Traceback (most recent call last)",
      "\u001b[0;32m/var/folders/qf/k7dgnp855m3cn5p4g2mtn6wh0000gn/T/ipykernel_38920/4293081279.py\u001b[0m in \u001b[0;36m<module>\u001b[0;34m\u001b[0m\n\u001b[0;32m----> 1\u001b[0;31m \u001b[0mnext\u001b[0m\u001b[0;34m(\u001b[0m\u001b[0mgen\u001b[0m\u001b[0;34m)\u001b[0m\u001b[0;34m\u001b[0m\u001b[0;34m\u001b[0m\u001b[0m\n\u001b[0m",
      "\u001b[0;31mStopIteration\u001b[0m: "
     ]
    }
   ],
   "source": [
    "next(gen)"
   ]
  },
  {
   "cell_type": "code",
   "execution_count": 33,
   "id": "95b5475a",
   "metadata": {
    "ExecuteTime": {
     "end_time": "2023-12-22T07:05:26.293112Z",
     "start_time": "2023-12-22T07:05:26.272893Z"
    }
   },
   "outputs": [
    {
     "name": "stdout",
     "output_type": "stream",
     "text": [
      " - valid_game_history = [2]\n",
      "\n",
      "A\n",
      "valid_game_history = [2]\n",
      "B\n",
      "C\n"
     ]
    },
    {
     "data": {
      "text/plain": [
       "([1], (0, 0))"
      ]
     },
     "execution_count": 33,
     "metadata": {},
     "output_type": "execute_result"
    }
   ],
   "source": [
    "next(gen)"
   ]
  },
  {
   "cell_type": "code",
   "execution_count": null,
   "id": "fca0a6d8",
   "metadata": {},
   "outputs": [],
   "source": []
  },
  {
   "cell_type": "code",
   "execution_count": 35,
   "id": "b46ccfef",
   "metadata": {
    "ExecuteTime": {
     "end_time": "2023-12-22T06:45:45.229771Z",
     "start_time": "2023-12-22T06:45:45.221352Z"
    }
   },
   "outputs": [],
   "source": [
    "game.score()"
   ]
  },
  {
   "cell_type": "code",
   "execution_count": 33,
   "id": "5efc95ee",
   "metadata": {
    "ExecuteTime": {
     "end_time": "2023-12-22T06:45:11.073799Z",
     "start_time": "2023-12-22T06:45:11.059721Z"
    }
   },
   "outputs": [
    {
     "data": {
      "text/plain": [
       "19"
      ]
     },
     "execution_count": 33,
     "metadata": {},
     "output_type": "execute_result"
    }
   ],
   "source": [
    "game.north_score()"
   ]
  },
  {
   "cell_type": "code",
   "execution_count": 34,
   "id": "59731184",
   "metadata": {
    "ExecuteTime": {
     "end_time": "2023-12-22T06:45:19.058823Z",
     "start_time": "2023-12-22T06:45:19.046380Z"
    }
   },
   "outputs": [
    {
     "data": {
      "text/plain": [
       "29"
      ]
     },
     "execution_count": 34,
     "metadata": {},
     "output_type": "execute_result"
    }
   ],
   "source": [
    "game.south_score()"
   ]
  },
  {
   "cell_type": "code",
   "execution_count": 18,
   "id": "e43ae4c3",
   "metadata": {
    "ExecuteTime": {
     "end_time": "2023-12-22T06:39:10.550285Z",
     "start_time": "2023-12-22T06:39:10.532037Z"
    }
   },
   "outputs": [
    {
     "ename": "NameError",
     "evalue": "name 'game_list' is not defined",
     "output_type": "error",
     "traceback": [
      "\u001b[0;31m---------------------------------------------------------------------------\u001b[0m",
      "\u001b[0;31mNameError\u001b[0m                                 Traceback (most recent call last)",
      "\u001b[0;32m/var/folders/qf/k7dgnp855m3cn5p4g2mtn6wh0000gn/T/ipykernel_36412/3493492067.py\u001b[0m in \u001b[0;36m<module>\u001b[0;34m\u001b[0m\n\u001b[0;32m----> 1\u001b[0;31m \u001b[0mlen\u001b[0m\u001b[0;34m(\u001b[0m\u001b[0mgame_list\u001b[0m\u001b[0;34m)\u001b[0m\u001b[0;34m\u001b[0m\u001b[0;34m\u001b[0m\u001b[0m\n\u001b[0m",
      "\u001b[0;31mNameError\u001b[0m: name 'game_list' is not defined"
     ]
    }
   ],
   "source": [
    "len(game_list)"
   ]
  },
  {
   "cell_type": "code",
   "execution_count": null,
   "id": "ba71505b",
   "metadata": {},
   "outputs": [],
   "source": []
  },
  {
   "cell_type": "code",
   "execution_count": null,
   "id": "42dc214e",
   "metadata": {},
   "outputs": [],
   "source": []
  },
  {
   "cell_type": "code",
   "execution_count": 31,
   "id": "fe0438e2",
   "metadata": {
    "ExecuteTime": {
     "end_time": "2023-12-22T07:28:07.931534Z",
     "start_time": "2023-12-22T07:28:07.915715Z"
    }
   },
   "outputs": [],
   "source": [
    "game = Kalah(6,4)"
   ]
  },
  {
   "cell_type": "code",
   "execution_count": 44,
   "id": "b0f74804",
   "metadata": {
    "ExecuteTime": {
     "end_time": "2023-12-22T07:21:31.022283Z",
     "start_time": "2023-12-22T07:21:31.011844Z"
    }
   },
   "outputs": [
    {
     "data": {
      "text/plain": [
       "[]"
      ]
     },
     "execution_count": 44,
     "metadata": {},
     "output_type": "execute_result"
    }
   ],
   "source": [
    "game.history_list()"
   ]
  },
  {
   "cell_type": "code",
   "execution_count": 45,
   "id": "9a8456ef",
   "metadata": {
    "ExecuteTime": {
     "end_time": "2023-12-22T07:21:31.194049Z",
     "start_time": "2023-12-22T07:21:31.184958Z"
    }
   },
   "outputs": [],
   "source": [
    "game.perform_move(1)"
   ]
  },
  {
   "cell_type": "code",
   "execution_count": 46,
   "id": "7d622655",
   "metadata": {
    "ExecuteTime": {
     "end_time": "2023-12-22T07:21:31.388446Z",
     "start_time": "2023-12-22T07:21:31.379184Z"
    }
   },
   "outputs": [
    {
     "data": {
      "text/plain": [
       "[1]"
      ]
     },
     "execution_count": 46,
     "metadata": {},
     "output_type": "execute_result"
    }
   ],
   "source": [
    "game.history_list()"
   ]
  },
  {
   "cell_type": "code",
   "execution_count": null,
   "id": "cc68634d",
   "metadata": {},
   "outputs": [],
   "source": []
  },
  {
   "cell_type": "code",
   "execution_count": 32,
   "id": "6fad7086",
   "metadata": {
    "ExecuteTime": {
     "end_time": "2023-12-22T07:28:09.826196Z",
     "start_time": "2023-12-22T07:28:09.805960Z"
    }
   },
   "outputs": [
    {
     "data": {
      "text/plain": [
       "False"
      ]
     },
     "execution_count": 32,
     "metadata": {},
     "output_type": "execute_result"
    }
   ],
   "source": [
    "game.is_finished()"
   ]
  },
  {
   "cell_type": "code",
   "execution_count": null,
   "id": "55620c9f",
   "metadata": {},
   "outputs": [],
   "source": []
  },
  {
   "cell_type": "code",
   "execution_count": null,
   "id": "6ec86e1f",
   "metadata": {},
   "outputs": [],
   "source": []
  },
  {
   "cell_type": "code",
   "execution_count": null,
   "id": "448c993e",
   "metadata": {},
   "outputs": [],
   "source": []
  },
  {
   "cell_type": "code",
   "execution_count": 15,
   "id": "e189d917",
   "metadata": {
    "ExecuteTime": {
     "end_time": "2023-12-22T06:02:11.098863Z",
     "start_time": "2023-12-22T06:02:11.089473Z"
    }
   },
   "outputs": [],
   "source": [
    "L = []"
   ]
  },
  {
   "cell_type": "code",
   "execution_count": 16,
   "id": "d4361ce9",
   "metadata": {
    "ExecuteTime": {
     "end_time": "2023-12-22T06:02:11.272218Z",
     "start_time": "2023-12-22T06:02:11.261299Z"
    }
   },
   "outputs": [
    {
     "ename": "IndexError",
     "evalue": "list index out of range",
     "output_type": "error",
     "traceback": [
      "\u001b[0;31m---------------------------------------------------------------------------\u001b[0m",
      "\u001b[0;31mIndexError\u001b[0m                                Traceback (most recent call last)",
      "\u001b[0;32m/var/folders/qf/k7dgnp855m3cn5p4g2mtn6wh0000gn/T/ipykernel_34655/1052840561.py\u001b[0m in \u001b[0;36m<module>\u001b[0;34m\u001b[0m\n\u001b[0;32m----> 1\u001b[0;31m \u001b[0mL\u001b[0m\u001b[0;34m[\u001b[0m\u001b[0;34m-\u001b[0m\u001b[0;36m1\u001b[0m\u001b[0;34m]\u001b[0m\u001b[0;34m\u001b[0m\u001b[0;34m\u001b[0m\u001b[0m\n\u001b[0m",
      "\u001b[0;31mIndexError\u001b[0m: list index out of range"
     ]
    }
   ],
   "source": [
    "L[-1]"
   ]
  },
  {
   "cell_type": "code",
   "execution_count": null,
   "id": "e692472f",
   "metadata": {},
   "outputs": [],
   "source": []
  },
  {
   "cell_type": "code",
   "execution_count": null,
   "id": "e26aa4e0",
   "metadata": {},
   "outputs": [],
   "source": []
  },
  {
   "cell_type": "code",
   "execution_count": 23,
   "id": "3494c7d3",
   "metadata": {
    "ExecuteTime": {
     "end_time": "2023-12-22T05:33:43.186946Z",
     "start_time": "2023-12-22T05:33:43.165144Z"
    }
   },
   "outputs": [
    {
     "data": {
      "text/plain": [
       "'x'"
      ]
     },
     "execution_count": 23,
     "metadata": {},
     "output_type": "execute_result"
    }
   ],
   "source": [
    "game.next_player()"
   ]
  },
  {
   "cell_type": "code",
   "execution_count": null,
   "id": "e46fba25",
   "metadata": {},
   "outputs": [],
   "source": []
  },
  {
   "cell_type": "code",
   "execution_count": 8,
   "id": "12f06e08",
   "metadata": {
    "ExecuteTime": {
     "end_time": "2023-12-22T05:31:02.918891Z",
     "start_time": "2023-12-22T05:31:02.898781Z"
    }
   },
   "outputs": [
    {
     "data": {
      "text/plain": [
       "'s'"
      ]
     },
     "execution_count": 8,
     "metadata": {},
     "output_type": "execute_result"
    }
   ],
   "source": [
    "game.player_ahead()"
   ]
  },
  {
   "cell_type": "code",
   "execution_count": 9,
   "id": "95681883",
   "metadata": {
    "ExecuteTime": {
     "end_time": "2023-12-22T05:31:10.004658Z",
     "start_time": "2023-12-22T05:31:09.989042Z"
    }
   },
   "outputs": [],
   "source": [
    "game.score()"
   ]
  },
  {
   "cell_type": "code",
   "execution_count": 10,
   "id": "d0eb5b06",
   "metadata": {
    "ExecuteTime": {
     "end_time": "2023-12-22T05:31:16.128599Z",
     "start_time": "2023-12-22T05:31:16.110787Z"
    }
   },
   "outputs": [
    {
     "name": "stdout",
     "output_type": "stream",
     "text": [
      "\n",
      "            13  12  11  10   9   8\n",
      "      ------------------------------------\n",
      "             0   0   0   0   0   0\n",
      "        19                          29\n",
      "             0   0   0   0   0   0\n",
      "      ------------------------------------\n",
      "             1   2   3   4   5   6\n",
      "\n"
     ]
    }
   ],
   "source": [
    "game.show_board()"
   ]
  },
  {
   "cell_type": "code",
   "execution_count": 12,
   "id": "6f058df8",
   "metadata": {
    "ExecuteTime": {
     "end_time": "2023-12-22T05:31:38.365101Z",
     "start_time": "2023-12-22T05:31:38.346075Z"
    }
   },
   "outputs": [
    {
     "data": {
      "text/plain": [
       "[19, 0, 0, 0, 0, 0, 0, 29, 0, 0, 0, 0, 0, 0, 'x']"
      ]
     },
     "execution_count": 12,
     "metadata": {},
     "output_type": "execute_result"
    }
   ],
   "source": [
    "game.state_list()"
   ]
  },
  {
   "cell_type": "code",
   "execution_count": null,
   "id": "4aa3b934",
   "metadata": {},
   "outputs": [],
   "source": []
  },
  {
   "cell_type": "code",
   "execution_count": null,
   "id": "23e89561",
   "metadata": {},
   "outputs": [],
   "source": []
  },
  {
   "cell_type": "code",
   "execution_count": null,
   "id": "9d619e39",
   "metadata": {},
   "outputs": [],
   "source": []
  },
  {
   "cell_type": "code",
   "execution_count": null,
   "id": "ee6bb67a",
   "metadata": {},
   "outputs": [],
   "source": []
  },
  {
   "cell_type": "code",
   "execution_count": 4,
   "id": "89c08a2b",
   "metadata": {
    "ExecuteTime": {
     "end_time": "2023-12-22T03:51:41.160211Z",
     "start_time": "2023-12-22T03:51:41.152099Z"
    }
   },
   "outputs": [
    {
     "data": {
      "text/plain": [
       "14"
      ]
     },
     "execution_count": 4,
     "metadata": {},
     "output_type": "execute_result"
    }
   ],
   "source": [
    "game.board_size"
   ]
  },
  {
   "cell_type": "code",
   "execution_count": 5,
   "id": "08fce962",
   "metadata": {
    "ExecuteTime": {
     "end_time": "2023-12-22T03:51:41.378081Z",
     "start_time": "2023-12-22T03:51:41.373982Z"
    }
   },
   "outputs": [
    {
     "data": {
      "text/plain": [
       "[]"
      ]
     },
     "execution_count": 5,
     "metadata": {},
     "output_type": "execute_result"
    }
   ],
   "source": [
    "game.history_list()"
   ]
  },
  {
   "cell_type": "code",
   "execution_count": 6,
   "id": "20098e87",
   "metadata": {
    "ExecuteTime": {
     "end_time": "2023-12-22T03:51:41.613727Z",
     "start_time": "2023-12-22T03:51:41.609498Z"
    }
   },
   "outputs": [
    {
     "data": {
      "text/plain": [
       "[0, 4, 4, 4, 4, 4, 4, 0, 4, 4, 4, 4, 4, 4, 's']"
      ]
     },
     "execution_count": 6,
     "metadata": {},
     "output_type": "execute_result"
    }
   ],
   "source": [
    "game.state_list()"
   ]
  },
  {
   "cell_type": "code",
   "execution_count": 7,
   "id": "7c9fc089",
   "metadata": {
    "ExecuteTime": {
     "end_time": "2023-12-22T03:51:41.849147Z",
     "start_time": "2023-12-22T03:51:41.845714Z"
    }
   },
   "outputs": [
    {
     "name": "stdout",
     "output_type": "stream",
     "text": [
      "\n",
      "            13  12  11  10   9   8\n",
      "      ------------------------------------\n",
      "             4   4   4   4   4   4\n",
      "         0                           0\n",
      "             4   4   4   4   4   4\n",
      "      ------------------------------------\n",
      "s -->        1   2   3   4   5   6\n",
      "\n"
     ]
    }
   ],
   "source": [
    "game.show_board()"
   ]
  },
  {
   "cell_type": "code",
   "execution_count": null,
   "id": "4a10824a",
   "metadata": {},
   "outputs": [],
   "source": []
  },
  {
   "cell_type": "code",
   "execution_count": null,
   "id": "8837b7be",
   "metadata": {},
   "outputs": [],
   "source": []
  },
  {
   "cell_type": "code",
   "execution_count": 8,
   "id": "2188847b",
   "metadata": {
    "ExecuteTime": {
     "end_time": "2023-12-22T03:56:53.654960Z",
     "start_time": "2023-12-22T03:51:43.115809Z"
    },
    "scrolled": false
   },
   "outputs": [
    {
     "name": "stdout",
     "output_type": "stream",
     "text": [
      "\n",
      "            13  12  11  10   9   8\n",
      "      ------------------------------------\n",
      "             4   4   4   4   4   4\n",
      "         0                           0\n",
      "             4   4   4   4   4   4\n",
      "      ------------------------------------\n",
      "s -->        1   2   3   4   5   6\n",
      "\n",
      "Your move (Q to quit)?  1\n",
      "Adding a stone to position 2\n",
      "Adding a stone to position 3\n",
      "Adding a stone to position 4\n",
      "Adding a stone to position 5\n",
      "\n",
      "n -->       13  12  11  10   9   8\n",
      "      ------------------------------------\n",
      "             4   4   4   4   4   4\n",
      "         0                           0\n",
      "             0   5   5   5   5   4\n",
      "      ------------------------------------\n",
      "             1   2   3   4   5   6\n",
      "\n",
      "Your move (Q to quit)?  13\n",
      "Adding a stone to position 0\n",
      "Adding a stone to position 1\n",
      "Adding a stone to position 2\n",
      "Adding a stone to position 3\n",
      "\n",
      "            13  12  11  10   9   8\n",
      "      ------------------------------------\n",
      "             0   4   4   4   4   4\n",
      "         1                           0\n",
      "             1   6   6   5   5   4\n",
      "      ------------------------------------\n",
      "s -->        1   2   3   4   5   6\n",
      "\n",
      "Your move (Q to quit)?  1\n",
      "Adding a stone to position 2\n",
      "\n",
      "n -->       13  12  11  10   9   8\n",
      "      ------------------------------------\n",
      "             0   4   4   4   4   4\n",
      "         1                           0\n",
      "             0   7   6   5   5   4\n",
      "      ------------------------------------\n",
      "             1   2   3   4   5   6\n",
      "\n",
      "Your move (Q to quit)?  8\n",
      "Adding a stone to position 9\n",
      "Adding a stone to position 10\n",
      "Adding a stone to position 11\n",
      "Adding a stone to position 12\n",
      "\n",
      "            13  12  11  10   9   8\n",
      "      ------------------------------------\n",
      "             0   5   5   5   5   0\n",
      "         1                           0\n",
      "             0   7   6   5   5   4\n",
      "      ------------------------------------\n",
      "s -->        1   2   3   4   5   6\n",
      "\n",
      "Your move (Q to quit)?  6\n",
      "Adding a stone to position 7\n",
      "Adding a stone to position 8\n",
      "Adding a stone to position 9\n",
      "Adding a stone to position 10\n",
      "\n",
      "n -->       13  12  11  10   9   8\n",
      "      ------------------------------------\n",
      "             0   5   5   6   6   1\n",
      "         1                           1\n",
      "             0   7   6   5   5   0\n",
      "      ------------------------------------\n",
      "             1   2   3   4   5   6\n",
      "\n",
      "Your move (Q to quit)?  8\n",
      "Adding a stone to position 9\n",
      "\n",
      "            13  12  11  10   9   8\n",
      "      ------------------------------------\n",
      "             0   5   5   6   7   0\n",
      "         1                           1\n",
      "             0   7   6   5   5   0\n",
      "      ------------------------------------\n",
      "s -->        1   2   3   4   5   6\n",
      "\n",
      "Your move (Q to quit)?  5\n",
      "Adding a stone to position 6\n",
      "Adding a stone to position 7\n",
      "Adding a stone to position 8\n",
      "Adding a stone to position 9\n",
      "Adding a stone to position 10\n",
      "\n",
      "n -->       13  12  11  10   9   8\n",
      "      ------------------------------------\n",
      "             0   5   5   7   8   1\n",
      "         1                           2\n",
      "             0   7   6   5   0   1\n",
      "      ------------------------------------\n",
      "             1   2   3   4   5   6\n",
      "\n",
      "Your move (Q to quit)?  8\n",
      "Adding a stone to position 9\n",
      "\n",
      "            13  12  11  10   9   8\n",
      "      ------------------------------------\n",
      "             0   5   5   7   9   0\n",
      "         1                           2\n",
      "             0   7   6   5   0   1\n",
      "      ------------------------------------\n",
      "s -->        1   2   3   4   5   6\n",
      "\n",
      "Your move (Q to quit)?  6\n",
      "Adding a stone to position 7\n",
      "\n",
      "            13  12  11  10   9   8\n",
      "      ------------------------------------\n",
      "             0   5   5   7   9   0\n",
      "         1                           3\n",
      "             0   7   6   5   0   0\n",
      "      ------------------------------------\n",
      "s -->        1   2   3   4   5   6\n",
      "\n",
      "Your move (Q to quit)?  12\n",
      "\n",
      "            13  12  11  10   9   8\n",
      "      ------------------------------------\n",
      "             0   5   5   7   9   0\n",
      "         1                           3\n",
      "             0   7   6   5   0   0\n",
      "      ------------------------------------\n",
      "s -->        1   2   3   4   5   6\n",
      "\n",
      "Your move (Q to quit)?  4\n",
      "Adding a stone to position 5\n",
      "Adding a stone to position 6\n",
      "Adding a stone to position 7\n",
      "Adding a stone to position 8\n",
      "Adding a stone to position 9\n",
      "\n",
      "n -->       13  12  11  10   9   8\n",
      "      ------------------------------------\n",
      "             0   5   5   7  10   1\n",
      "         1                           4\n",
      "             0   7   6   0   1   1\n",
      "      ------------------------------------\n",
      "             1   2   3   4   5   6\n",
      "\n",
      "Your move (Q to quit)?  12\n",
      "Adding a stone to position 13\n",
      "Adding a stone to position 0\n",
      "Adding a stone to position 1\n",
      "Adding a stone to position 2\n",
      "Adding a stone to position 3\n",
      "\n",
      "            13  12  11  10   9   8\n",
      "      ------------------------------------\n",
      "             1   0   5   7  10   1\n",
      "         2                           4\n",
      "             1   8   7   0   1   1\n",
      "      ------------------------------------\n",
      "s -->        1   2   3   4   5   6\n",
      "\n",
      "Your move (Q to quit)?  5\n",
      "Adding a stone to position 6\n",
      "\n",
      "n -->       13  12  11  10   9   8\n",
      "      ------------------------------------\n",
      "             1   0   5   7  10   1\n",
      "         2                           4\n",
      "             1   8   7   0   0   2\n",
      "      ------------------------------------\n",
      "             1   2   3   4   5   6\n",
      "\n",
      "Your move (Q to quit)?  8\n",
      "Adding a stone to position 9\n",
      "\n",
      "            13  12  11  10   9   8\n",
      "      ------------------------------------\n",
      "             1   0   5   7  11   0\n",
      "         2                           4\n",
      "             1   8   7   0   0   2\n",
      "      ------------------------------------\n",
      "s -->        1   2   3   4   5   6\n",
      "\n",
      "Your move (Q to quit)?  11\n",
      "\n",
      "            13  12  11  10   9   8\n",
      "      ------------------------------------\n",
      "             1   0   5   7  11   0\n",
      "         2                           4\n",
      "             1   8   7   0   0   2\n",
      "      ------------------------------------\n",
      "s -->        1   2   3   4   5   6\n",
      "\n",
      "Your move (Q to quit)?  3\n",
      "Adding a stone to position 4\n",
      "Adding a stone to position 5\n",
      "Adding a stone to position 6\n",
      "Adding a stone to position 7\n",
      "Adding a stone to position 8\n",
      "Adding a stone to position 9\n",
      "Adding a stone to position 10\n",
      "\n",
      "n -->       13  12  11  10   9   8\n",
      "      ------------------------------------\n",
      "             1   0   5   8  12   1\n",
      "         2                           5\n",
      "             1   8   0   1   1   3\n",
      "      ------------------------------------\n",
      "             1   2   3   4   5   6\n",
      "\n",
      "Your move (Q to quit)?  11\n",
      "Adding a stone to position 12\n",
      "Adding a stone to position 13\n",
      "Adding a stone to position 0\n",
      "Adding a stone to position 1\n",
      "Adding a stone to position 2\n",
      "\n",
      "            13  12  11  10   9   8\n",
      "      ------------------------------------\n",
      "             2   1   0   8  12   1\n",
      "         3                           5\n",
      "             2   9   0   1   1   3\n",
      "      ------------------------------------\n",
      "s -->        1   2   3   4   5   6\n",
      "\n",
      "Your move (Q to quit)?  1\n",
      "Adding a stone to position 2\n",
      "Adding a stone to position 3\n",
      "\n",
      "n -->       13  12  11  10   9   8\n",
      "      ------------------------------------\n",
      "             2   1   0   8  12   1\n",
      "         3                           5\n",
      "             0  10   1   1   1   3\n",
      "      ------------------------------------\n",
      "             1   2   3   4   5   6\n",
      "\n",
      "Your move (Q to quit)?  6\n",
      "\n",
      "n -->       13  12  11  10   9   8\n",
      "      ------------------------------------\n",
      "             2   1   0   8  12   1\n",
      "         3                           5\n",
      "             0  10   1   1   1   3\n",
      "      ------------------------------------\n",
      "             1   2   3   4   5   6\n",
      "\n",
      "Your move (Q to quit)?  13\n",
      "Adding a stone to position 0\n",
      "Adding a stone to position 1\n",
      "\n",
      "            13  12  11  10   9   8\n",
      "      ------------------------------------\n",
      "             0   1   0   8  12   1\n",
      "         4                           5\n",
      "             1  10   1   1   1   3\n",
      "      ------------------------------------\n",
      "s -->        1   2   3   4   5   6\n",
      "\n",
      "Your move (Q to quit)?  1\n",
      "Adding a stone to position 2\n",
      "\n",
      "n -->       13  12  11  10   9   8\n",
      "      ------------------------------------\n",
      "             0   1   0   8  12   1\n",
      "         4                           5\n",
      "             0  11   1   1   1   3\n",
      "      ------------------------------------\n",
      "             1   2   3   4   5   6\n",
      "\n",
      "Your move (Q to quit)?  12\n",
      "Adding a stone to position 13\n",
      "\n",
      "            13  12  11  10   9   8\n",
      "      ------------------------------------\n",
      "             1   0   0   8  12   1\n",
      "         4                           5\n",
      "             0  11   1   1   1   3\n",
      "      ------------------------------------\n",
      "s -->        1   2   3   4   5   6\n",
      "\n"
     ]
    },
    {
     "name": "stdout",
     "output_type": "stream",
     "text": [
      "Your move (Q to quit)?  6\n",
      "Adding a stone to position 7\n",
      "Adding a stone to position 8\n",
      "Adding a stone to position 9\n",
      "\n",
      "n -->       13  12  11  10   9   8\n",
      "      ------------------------------------\n",
      "             1   0   0   8  13   2\n",
      "         4                           6\n",
      "             0  11   1   1   1   0\n",
      "      ------------------------------------\n",
      "             1   2   3   4   5   6\n",
      "\n",
      "Your move (Q to quit)?  10\n",
      "Adding a stone to position 11\n",
      "Adding a stone to position 12\n",
      "Adding a stone to position 13\n",
      "Adding a stone to position 0\n",
      "Adding a stone to position 1\n",
      "Adding a stone to position 2\n",
      "Adding a stone to position 3\n",
      "Adding a stone to position 4\n",
      "\n",
      "            13  12  11  10   9   8\n",
      "      ------------------------------------\n",
      "             2   1   1   0  13   2\n",
      "         5                           6\n",
      "             1  12   2   2   1   0\n",
      "      ------------------------------------\n",
      "s -->        1   2   3   4   5   6\n",
      "\n",
      "Your move (Q to quit)?  11\n",
      "\n",
      "            13  12  11  10   9   8\n",
      "      ------------------------------------\n",
      "             2   1   1   0  13   2\n",
      "         5                           6\n",
      "             1  12   2   2   1   0\n",
      "      ------------------------------------\n",
      "s -->        1   2   3   4   5   6\n",
      "\n",
      "Your move (Q to quit)?  3\n",
      "Adding a stone to position 4\n",
      "Adding a stone to position 5\n",
      "\n",
      "n -->       13  12  11  10   9   8\n",
      "      ------------------------------------\n",
      "             2   1   1   0  13   2\n",
      "         5                           6\n",
      "             1  12   0   3   2   0\n",
      "      ------------------------------------\n",
      "             1   2   3   4   5   6\n",
      "\n",
      "Your move (Q to quit)?  8\n",
      "Adding a stone to position 9\n",
      "Adding a stone to position 10\n",
      "\n",
      "            13  12  11  10   9   8\n",
      "      ------------------------------------\n",
      "             2   1   1   1  14   0\n",
      "         8                           6\n",
      "             1  12   0   0   2   0\n",
      "      ------------------------------------\n",
      "s -->        1   2   3   4   5   6\n",
      "\n",
      "Your move (Q to quit)?  1\n",
      "Adding a stone to position 2\n",
      "\n",
      "n -->       13  12  11  10   9   8\n",
      "      ------------------------------------\n",
      "             2   1   1   1  14   0\n",
      "         8                           6\n",
      "             0  13   0   0   2   0\n",
      "      ------------------------------------\n",
      "             1   2   3   4   5   6\n",
      "\n",
      "Your move (Q to quit)?  13\n",
      "Adding a stone to position 0\n",
      "Adding a stone to position 1\n",
      "\n",
      "            13  12  11  10   9   8\n",
      "      ------------------------------------\n",
      "             0   1   1   1  14   0\n",
      "         9                           6\n",
      "             1  13   0   0   2   0\n",
      "      ------------------------------------\n",
      "s -->        1   2   3   4   5   6\n",
      "\n",
      "Your move (Q to quit)?  1\n",
      "Adding a stone to position 2\n",
      "\n",
      "n -->       13  12  11  10   9   8\n",
      "      ------------------------------------\n",
      "             0   1   1   1  14   0\n",
      "         9                           6\n",
      "             0  14   0   0   2   0\n",
      "      ------------------------------------\n",
      "             1   2   3   4   5   6\n",
      "\n",
      "Your move (Q to quit)?  10\n",
      "Adding a stone to position 11\n",
      "\n",
      "            13  12  11  10   9   8\n",
      "      ------------------------------------\n",
      "             0   1   2   0  14   0\n",
      "         9                           6\n",
      "             0  14   0   0   2   0\n",
      "      ------------------------------------\n",
      "s -->        1   2   3   4   5   6\n",
      "\n",
      "Your move (Q to quit)?  5\n",
      "Adding a stone to position 6\n",
      "Adding a stone to position 7\n",
      "\n",
      "            13  12  11  10   9   8\n",
      "      ------------------------------------\n",
      "             0   1   2   0  14   0\n",
      "         9                           7\n",
      "             0  14   0   0   0   1\n",
      "      ------------------------------------\n",
      "s -->        1   2   3   4   5   6\n",
      "\n",
      "Your move (Q to quit)?  6\n",
      "Adding a stone to position 7\n",
      "\n",
      "            13  12  11  10   9   8\n",
      "      ------------------------------------\n",
      "             0   1   2   0  14   0\n",
      "         9                           8\n",
      "             0  14   0   0   0   0\n",
      "      ------------------------------------\n",
      "s -->        1   2   3   4   5   6\n",
      "\n",
      "Your move (Q to quit)?  2\n",
      "Adding a stone to position 3\n",
      "Adding a stone to position 4\n",
      "Adding a stone to position 5\n",
      "Adding a stone to position 6\n",
      "Adding a stone to position 7\n",
      "Adding a stone to position 8\n",
      "Adding a stone to position 9\n",
      "Adding a stone to position 10\n",
      "Adding a stone to position 11\n",
      "Adding a stone to position 12\n",
      "Adding a stone to position 13\n",
      "Adding a stone to position 1\n",
      "Adding a stone to position 2\n",
      "Adding a stone to position 3\n",
      "\n",
      "n -->       13  12  11  10   9   8\n",
      "      ------------------------------------\n",
      "             1   2   3   1  15   1\n",
      "         9                           9\n",
      "             1   1   2   1   1   1\n",
      "      ------------------------------------\n",
      "             1   2   3   4   5   6\n",
      "\n",
      "Your move (Q to quit)?  9\n",
      "Adding a stone to position 10\n",
      "Adding a stone to position 11\n",
      "Adding a stone to position 12\n",
      "Adding a stone to position 13\n",
      "Adding a stone to position 0\n",
      "Adding a stone to position 1\n",
      "Adding a stone to position 2\n",
      "Adding a stone to position 3\n",
      "Adding a stone to position 4\n",
      "Adding a stone to position 5\n",
      "Adding a stone to position 6\n",
      "Adding a stone to position 8\n",
      "Adding a stone to position 9\n",
      "Adding a stone to position 10\n",
      "Adding a stone to position 11\n",
      "\n",
      "            13  12  11  10   9   8\n",
      "      ------------------------------------\n",
      "             2   3   5   3   1   2\n",
      "        10                           9\n",
      "             2   2   3   2   2   2\n",
      "      ------------------------------------\n",
      "s -->        1   2   3   4   5   6\n",
      "\n",
      "Your move (Q to quit)?  \n",
      "Your move (Q to quit)?  5\n",
      "Your move (Q to quit)?  5\n",
      "Adding a stone to position 6\n",
      "Adding a stone to position 7\n",
      "\n",
      "            13  12  11  10   9   8\n",
      "      ------------------------------------\n",
      "             2   3   5   3   1   2\n",
      "        10                          10\n",
      "             2   2   3   2   0   3\n",
      "      ------------------------------------\n",
      "s -->        1   2   3   4   5   6\n",
      "\n",
      "Your move (Q to quit)?  1\n",
      "Adding a stone to position 2\n",
      "Adding a stone to position 3\n",
      "\n",
      "n -->       13  12  11  10   9   8\n",
      "      ------------------------------------\n",
      "             2   3   5   3   1   2\n",
      "        10                          10\n",
      "             0   3   4   2   0   3\n",
      "      ------------------------------------\n",
      "             1   2   3   4   5   6\n",
      "\n",
      "Your move (Q to quit)?  8\n",
      "Adding a stone to position 9\n",
      "Adding a stone to position 10\n",
      "\n",
      "            13  12  11  10   9   8\n",
      "      ------------------------------------\n",
      "             2   3   5   4   2   0\n",
      "        10                          10\n",
      "             0   3   4   2   0   3\n",
      "      ------------------------------------\n",
      "s -->        1   2   3   4   5   6\n",
      "\n",
      "Your move (Q to quit)?  6\n",
      "Adding a stone to position 7\n",
      "Adding a stone to position 8\n",
      "Adding a stone to position 9\n",
      "\n",
      "n -->       13  12  11  10   9   8\n",
      "      ------------------------------------\n",
      "             2   3   5   4   3   1\n",
      "        10                          11\n",
      "             0   3   4   2   0   0\n",
      "      ------------------------------------\n",
      "             1   2   3   4   5   6\n",
      "\n",
      "Your move (Q to quit)?  8\n",
      "Adding a stone to position 9\n",
      "\n",
      "            13  12  11  10   9   8\n",
      "      ------------------------------------\n",
      "             2   3   5   4   4   0\n",
      "        10                          11\n",
      "             0   3   4   2   0   0\n",
      "      ------------------------------------\n",
      "s -->        1   2   3   4   5   6\n",
      "\n",
      "Your move (Q to quit)?  12\n",
      "\n",
      "            13  12  11  10   9   8\n",
      "      ------------------------------------\n",
      "             2   3   5   4   4   0\n",
      "        10                          11\n",
      "             0   3   4   2   0   0\n",
      "      ------------------------------------\n",
      "s -->        1   2   3   4   5   6\n",
      "\n",
      "Your move (Q to quit)?  2\n",
      "Adding a stone to position 3\n",
      "Adding a stone to position 4\n",
      "Adding a stone to position 5\n",
      "\n",
      "n -->       13  12  11  10   9   8\n",
      "      ------------------------------------\n",
      "             2   3   5   4   0   0\n",
      "        10                          15\n",
      "             0   0   5   3   1   0\n",
      "      ------------------------------------\n",
      "             1   2   3   4   5   6\n",
      "\n",
      "Your move (Q to quit)?  13\n",
      "Adding a stone to position 0\n",
      "Adding a stone to position 1\n",
      "\n",
      "            13  12  11  10   9   8\n",
      "      ------------------------------------\n",
      "             0   3   5   4   0   0\n",
      "        11                          15\n",
      "             1   0   5   3   1   0\n",
      "      ------------------------------------\n",
      "s -->        1   2   3   4   5   6\n",
      "\n",
      "Your move (Q to quit)?  1\n"
     ]
    },
    {
     "name": "stdout",
     "output_type": "stream",
     "text": [
      "Adding a stone to position 2\n",
      "\n",
      "n -->       13  12  11  10   9   8\n",
      "      ------------------------------------\n",
      "             0   0   5   4   0   0\n",
      "        11                          18\n",
      "             0   1   5   3   1   0\n",
      "      ------------------------------------\n",
      "             1   2   3   4   5   6\n",
      "\n",
      "Your move (Q to quit)?  10\n",
      "Adding a stone to position 11\n",
      "Adding a stone to position 12\n",
      "Adding a stone to position 13\n",
      "Adding a stone to position 0\n",
      "\n",
      "n -->       13  12  11  10   9   8\n",
      "      ------------------------------------\n",
      "             1   1   6   0   0   0\n",
      "        12                          18\n",
      "             0   1   5   3   1   0\n",
      "      ------------------------------------\n",
      "             1   2   3   4   5   6\n",
      "\n",
      "Your move (Q to quit)?  11\n",
      "Adding a stone to position 12\n",
      "Adding a stone to position 13\n",
      "Adding a stone to position 0\n",
      "Adding a stone to position 1\n",
      "Adding a stone to position 2\n",
      "Adding a stone to position 3\n",
      "\n",
      "            13  12  11  10   9   8\n",
      "      ------------------------------------\n",
      "             2   2   0   0   0   0\n",
      "        13                          18\n",
      "             1   2   6   3   1   0\n",
      "      ------------------------------------\n",
      "s -->        1   2   3   4   5   6\n",
      "\n",
      "Your move (Q to quit)?  1\n",
      "Adding a stone to position 2\n",
      "\n",
      "n -->       13  12  11  10   9   8\n",
      "      ------------------------------------\n",
      "             2   2   0   0   0   0\n",
      "        13                          18\n",
      "             0   3   6   3   1   0\n",
      "      ------------------------------------\n",
      "             1   2   3   4   5   6\n",
      "\n",
      "Your move (Q to quit)?  12\n",
      "Adding a stone to position 13\n",
      "Adding a stone to position 0\n",
      "\n",
      "n -->       13  12  11  10   9   8\n",
      "      ------------------------------------\n",
      "             3   0   0   0   0   0\n",
      "        14                          18\n",
      "             0   3   6   3   1   0\n",
      "      ------------------------------------\n",
      "             1   2   3   4   5   6\n",
      "\n",
      "Your move (Q to quit)?  13\n",
      "Adding a stone to position 0\n",
      "Adding a stone to position 1\n",
      "Adding a stone to position 2\n",
      "\n",
      "            13  12  11  10   9   8\n",
      "      ------------------------------------\n",
      "             0   0   0   0   0   0\n",
      "        15                          18\n",
      "             1   4   6   3   1   0\n",
      "      ------------------------------------\n",
      "s -->        1   2   3   4   5   6\n",
      "\n",
      "Your move (Q to quit)?  1\n",
      "Adding a stone to position 2\n",
      "\n",
      "            13  12  11  10   9   8\n",
      "      ------------------------------------\n",
      "             0   0   0   0   0   0\n",
      "        15                          18\n",
      "             0   5   6   3   1   0\n",
      "      ------------------------------------\n",
      "s -->        1   2   3   4   5   6\n",
      "\n",
      "Your move (Q to quit)?  2\n",
      "Adding a stone to position 3\n",
      "Adding a stone to position 4\n",
      "Adding a stone to position 5\n",
      "Adding a stone to position 6\n",
      "Adding a stone to position 7\n",
      "\n",
      "            13  12  11  10   9   8\n",
      "      ------------------------------------\n",
      "             0   0   0   0   0   0\n",
      "        15                          19\n",
      "             0   0   7   4   2   1\n",
      "      ------------------------------------\n",
      "s -->        1   2   3   4   5   6\n",
      "\n",
      "Your move (Q to quit)?  3\n",
      "Adding a stone to position 4\n",
      "Adding a stone to position 5\n",
      "Adding a stone to position 6\n",
      "Adding a stone to position 7\n",
      "Adding a stone to position 8\n",
      "Adding a stone to position 9\n",
      "Adding a stone to position 10\n",
      "\n",
      "n -->       13  12  11  10   9   8\n",
      "      ------------------------------------\n",
      "             0   0   0   1   1   1\n",
      "        15                          20\n",
      "             0   0   0   5   3   2\n",
      "      ------------------------------------\n",
      "             1   2   3   4   5   6\n",
      "\n",
      "Your move (Q to quit)?  8\n",
      "Adding a stone to position 9\n",
      "\n",
      "            13  12  11  10   9   8\n",
      "      ------------------------------------\n",
      "             0   0   0   1   2   0\n",
      "        15                          20\n",
      "             0   0   0   5   3   2\n",
      "      ------------------------------------\n",
      "s -->        1   2   3   4   5   6\n",
      "\n",
      "Your move (Q to quit)?  4\n",
      "Adding a stone to position 5\n",
      "Adding a stone to position 6\n",
      "Adding a stone to position 7\n",
      "Adding a stone to position 8\n",
      "Adding a stone to position 9\n",
      "\n",
      "n -->       13  12  11  10   9   8\n",
      "      ------------------------------------\n",
      "             0   0   0   1   3   1\n",
      "        15                          21\n",
      "             0   0   0   0   4   3\n",
      "      ------------------------------------\n",
      "             1   2   3   4   5   6\n",
      "\n",
      "Your move (Q to quit)?  8\n",
      "Adding a stone to position 9\n",
      "\n",
      "            13  12  11  10   9   8\n",
      "      ------------------------------------\n",
      "             0   0   0   1   4   0\n",
      "        15                          21\n",
      "             0   0   0   0   4   3\n",
      "      ------------------------------------\n",
      "s -->        1   2   3   4   5   6\n",
      "\n",
      "Your move (Q to quit)?  5\n",
      "Adding a stone to position 6\n",
      "Adding a stone to position 7\n",
      "Adding a stone to position 8\n",
      "Adding a stone to position 9\n",
      "\n",
      "n -->       13  12  11  10   9   8\n",
      "      ------------------------------------\n",
      "             0   0   0   1   5   1\n",
      "        15                          22\n",
      "             0   0   0   0   0   4\n",
      "      ------------------------------------\n",
      "             1   2   3   4   5   6\n",
      "\n",
      "Your move (Q to quit)?  8\n",
      "Adding a stone to position 9\n",
      "\n",
      "            13  12  11  10   9   8\n",
      "      ------------------------------------\n",
      "             0   0   0   1   6   0\n",
      "        15                          22\n",
      "             0   0   0   0   0   4\n",
      "      ------------------------------------\n",
      "s -->        1   2   3   4   5   6\n",
      "\n",
      "Your move (Q to quit)?  6\n",
      "Adding a stone to position 7\n",
      "Adding a stone to position 8\n",
      "Adding a stone to position 9\n",
      "Adding a stone to position 10\n",
      "\n",
      "n -->       13  12  11  10   9   8\n",
      "      ------------------------------------\n",
      "             0   0   0   2   7   1\n",
      "        15                          23\n",
      "             0   0   0   0   0   0\n",
      "      ------------------------------------\n",
      "             1   2   3   4   5   6\n",
      "\n",
      "Your move (Q to quit)?  8\n",
      "Adding a stone to position 9\n",
      "\n",
      "n -->       13  12  11  10   9   8\n",
      "      ------------------------------------\n",
      "             0   0   0   2   8   0\n",
      "        15                          23\n",
      "             0   0   0   0   0   0\n",
      "      ------------------------------------\n",
      "             1   2   3   4   5   6\n",
      "\n",
      "Your move (Q to quit)?  9\n",
      "Adding a stone to position 10\n",
      "Adding a stone to position 11\n",
      "Adding a stone to position 12\n",
      "Adding a stone to position 13\n",
      "Adding a stone to position 0\n",
      "Adding a stone to position 1\n",
      "Adding a stone to position 2\n",
      "Adding a stone to position 3\n",
      "\n",
      "            13  12  11  10   9   8\n",
      "      ------------------------------------\n",
      "             1   1   1   3   0   0\n",
      "        16                          23\n",
      "             1   1   1   0   0   0\n",
      "      ------------------------------------\n",
      "s -->        1   2   3   4   5   6\n",
      "\n",
      "Your move (Q to quit)?  1\n",
      "Adding a stone to position 2\n",
      "\n",
      "n -->       13  12  11  10   9   8\n",
      "      ------------------------------------\n",
      "             1   1   1   3   0   0\n",
      "        16                          23\n",
      "             0   2   1   0   0   0\n",
      "      ------------------------------------\n",
      "             1   2   3   4   5   6\n",
      "\n",
      "Your move (Q to quit)?  13\n",
      "Adding a stone to position 0\n",
      "\n",
      "n -->       13  12  11  10   9   8\n",
      "      ------------------------------------\n",
      "             0   1   1   3   0   0\n",
      "        17                          23\n",
      "             0   2   1   0   0   0\n",
      "      ------------------------------------\n",
      "             1   2   3   4   5   6\n",
      "\n",
      "Your move (Q to quit)?  12\n",
      "Adding a stone to position 13\n",
      "\n",
      "            13  12  11  10   9   8\n",
      "      ------------------------------------\n",
      "             1   0   1   3   0   0\n",
      "        17                          23\n",
      "             0   2   1   0   0   0\n",
      "      ------------------------------------\n",
      "s -->        1   2   3   4   5   6\n",
      "\n",
      "Your move (Q to quit)?  2\n",
      "Adding a stone to position 3\n",
      "Adding a stone to position 4\n",
      "\n",
      "n -->       13  12  11  10   9   8\n",
      "      ------------------------------------\n",
      "             1   0   1   0   0   0\n",
      "        17                          26\n",
      "             0   0   2   1   0   0\n",
      "      ------------------------------------\n",
      "             1   2   3   4   5   6\n",
      "\n",
      "Your move (Q to quit)?  11\n",
      "Adding a stone to position 12\n",
      "\n",
      "            13  12  11  10   9   8\n",
      "      ------------------------------------\n",
      "             1   1   0   0   0   0\n",
      "        17                          26\n",
      "             0   0   2   1   0   0\n",
      "      ------------------------------------\n",
      "s -->        1   2   3   4   5   6\n",
      "\n"
     ]
    },
    {
     "name": "stdout",
     "output_type": "stream",
     "text": [
      "Your move (Q to quit)?  3\n",
      "Adding a stone to position 4\n",
      "Adding a stone to position 5\n",
      "\n",
      "n -->       13  12  11  10   9   8\n",
      "      ------------------------------------\n",
      "             1   1   0   0   0   0\n",
      "        17                          26\n",
      "             0   0   0   2   1   0\n",
      "      ------------------------------------\n",
      "             1   2   3   4   5   6\n",
      "\n",
      "Your move (Q to quit)?  13\n",
      "Adding a stone to position 0\n",
      "\n",
      "n -->       13  12  11  10   9   8\n",
      "      ------------------------------------\n",
      "             0   1   0   0   0   0\n",
      "        18                          26\n",
      "             0   0   0   2   1   0\n",
      "      ------------------------------------\n",
      "             1   2   3   4   5   6\n",
      "\n",
      "Your move (Q to quit)?  12\n",
      "Adding a stone to position 13\n",
      "\n",
      "            13  12  11  10   9   8\n",
      "      ------------------------------------\n",
      "             1   0   0   0   0   0\n",
      "        18                          26\n",
      "             0   0   0   2   1   0\n",
      "      ------------------------------------\n",
      "s -->        1   2   3   4   5   6\n",
      "\n",
      "Your move (Q to quit)?  4\n",
      "Adding a stone to position 5\n",
      "Adding a stone to position 6\n",
      "\n",
      "n -->       13  12  11  10   9   8\n",
      "      ------------------------------------\n",
      "             1   0   0   0   0   0\n",
      "        18                          26\n",
      "             0   0   0   0   2   1\n",
      "      ------------------------------------\n",
      "             1   2   3   4   5   6\n",
      "\n",
      "Your move (Q to quit)?  13\n",
      "Adding a stone to position 0\n",
      "\n",
      "            13  12  11  10   9   8\n",
      "      ------------------------------------\n",
      "             0   0   0   0   0   0\n",
      "        19                          26\n",
      "             0   0   0   0   2   1\n",
      "      ------------------------------------\n",
      "s -->        1   2   3   4   5   6\n",
      "\n",
      "Your move (Q to quit)?  6\n",
      "Adding a stone to position 7\n",
      "\n",
      "            13  12  11  10   9   8\n",
      "      ------------------------------------\n",
      "             0   0   0   0   0   0\n",
      "        19                          27\n",
      "             0   0   0   0   2   0\n",
      "      ------------------------------------\n",
      "s -->        1   2   3   4   5   6\n",
      "\n",
      "Your move (Q to quit)?  5\n",
      "Adding a stone to position 6\n",
      "Adding a stone to position 7\n",
      "\n",
      "            13  12  11  10   9   8\n",
      "      ------------------------------------\n",
      "             0   0   0   0   0   0\n",
      "        19                          28\n",
      "             0   0   0   0   0   1\n",
      "      ------------------------------------\n",
      "s -->        1   2   3   4   5   6\n",
      "\n",
      "Your move (Q to quit)?  6\n",
      "Adding a stone to position 7\n"
     ]
    },
    {
     "ename": "RuntimeError",
     "evalue": "The player must be 'n' or 's'.",
     "output_type": "error",
     "traceback": [
      "\u001b[0;31m---------------------------------------------------------------------------\u001b[0m",
      "\u001b[0;31mRuntimeError\u001b[0m                              Traceback (most recent call last)",
      "\u001b[0;32m/var/folders/qf/k7dgnp855m3cn5p4g2mtn6wh0000gn/T/ipykernel_27969/812272352.py\u001b[0m in \u001b[0;36m<module>\u001b[0;34m\u001b[0m\n\u001b[1;32m     18\u001b[0m     \u001b[0;31m## Act on the move\u001b[0m\u001b[0;34m\u001b[0m\u001b[0;34m\u001b[0m\u001b[0m\n\u001b[1;32m     19\u001b[0m     \u001b[0mgame\u001b[0m\u001b[0;34m.\u001b[0m\u001b[0mperform_move\u001b[0m\u001b[0;34m(\u001b[0m\u001b[0mmove_int\u001b[0m\u001b[0;34m)\u001b[0m\u001b[0;34m\u001b[0m\u001b[0;34m\u001b[0m\u001b[0m\n\u001b[0;32m---> 20\u001b[0;31m     \u001b[0mgame\u001b[0m\u001b[0;34m.\u001b[0m\u001b[0mshow_board\u001b[0m\u001b[0;34m(\u001b[0m\u001b[0;34m)\u001b[0m\u001b[0;34m\u001b[0m\u001b[0;34m\u001b[0m\u001b[0m\n\u001b[0m\u001b[1;32m     21\u001b[0m     \u001b[0mmove_int_flag\u001b[0m \u001b[0;34m=\u001b[0m \u001b[0;32mFalse\u001b[0m\u001b[0;34m\u001b[0m\u001b[0;34m\u001b[0m\u001b[0m\n",
      "\u001b[0;32m/var/folders/qf/k7dgnp855m3cn5p4g2mtn6wh0000gn/T/ipykernel_27969/1158399157.py\u001b[0m in \u001b[0;36mshow_board\u001b[0;34m(self)\u001b[0m\n\u001b[1;32m     66\u001b[0m             \u001b[0msouth_init_str\u001b[0m \u001b[0;34m=\u001b[0m \u001b[0mplayer_init_str\u001b[0m\u001b[0;34m\u001b[0m\u001b[0;34m\u001b[0m\u001b[0m\n\u001b[1;32m     67\u001b[0m         \u001b[0;32melse\u001b[0m\u001b[0;34m:\u001b[0m\u001b[0;34m\u001b[0m\u001b[0;34m\u001b[0m\u001b[0m\n\u001b[0;32m---> 68\u001b[0;31m             \u001b[0;32mraise\u001b[0m \u001b[0mRuntimeError\u001b[0m\u001b[0;34m(\u001b[0m\u001b[0;34m\"The player must be 'n' or 's'.\"\u001b[0m\u001b[0;34m)\u001b[0m\u001b[0;34m\u001b[0m\u001b[0;34m\u001b[0m\u001b[0m\n\u001b[0m\u001b[1;32m     69\u001b[0m \u001b[0;34m\u001b[0m\u001b[0m\n\u001b[1;32m     70\u001b[0m         \u001b[0;31m## Print the board\u001b[0m\u001b[0;34m\u001b[0m\u001b[0;34m\u001b[0m\u001b[0m\n",
      "\u001b[0;31mRuntimeError\u001b[0m: The player must be 'n' or 's'."
     ]
    }
   ],
   "source": [
    "## Run a game loop\n",
    "game = Kalah(m,n)\n",
    "game.show_board()\n",
    "move_str = ''\n",
    "move_int_flag = False\n",
    "\n",
    "while (move_str != 'Q') and not game.is_finished():\n",
    "\n",
    "    ## Get the next move\n",
    "    while not move_int_flag:\n",
    "        move_str = input(\"Your move (Q to quit)?  \")\n",
    "        try:\n",
    "            move_int = int(move_str)\n",
    "            move_int_flag = True\n",
    "        except:\n",
    "            move_str = input(\"Your move (Q to quit)?  \")    \n",
    "    \n",
    "    ## Act on the move\n",
    "    game.perform_move(move_int)\n",
    "    game.show_board()\n",
    "    move_int_flag = False\n"
   ]
  },
  {
   "cell_type": "code",
   "execution_count": 9,
   "id": "84ca92e5",
   "metadata": {
    "ExecuteTime": {
     "end_time": "2023-12-22T03:57:05.488380Z",
     "start_time": "2023-12-22T03:57:05.468766Z"
    }
   },
   "outputs": [
    {
     "ename": "RuntimeError",
     "evalue": "The game is not yet finished!",
     "output_type": "error",
     "traceback": [
      "\u001b[0;31m---------------------------------------------------------------------------\u001b[0m",
      "\u001b[0;31mRuntimeError\u001b[0m                              Traceback (most recent call last)",
      "\u001b[0;32m/var/folders/qf/k7dgnp855m3cn5p4g2mtn6wh0000gn/T/ipykernel_27969/2212496912.py\u001b[0m in \u001b[0;36m<module>\u001b[0;34m\u001b[0m\n\u001b[0;32m----> 1\u001b[0;31m \u001b[0mgame\u001b[0m\u001b[0;34m.\u001b[0m\u001b[0mwinner_player\u001b[0m\u001b[0;34m(\u001b[0m\u001b[0;34m)\u001b[0m\u001b[0;34m\u001b[0m\u001b[0;34m\u001b[0m\u001b[0m\n\u001b[0m",
      "\u001b[0;32m/var/folders/qf/k7dgnp855m3cn5p4g2mtn6wh0000gn/T/ipykernel_27969/1158399157.py\u001b[0m in \u001b[0;36mwinner_player\u001b[0;34m(self)\u001b[0m\n\u001b[1;32m    133\u001b[0m         \u001b[0;31m## SANITY CHECK: Is the game finished?\u001b[0m\u001b[0;34m\u001b[0m\u001b[0;34m\u001b[0m\u001b[0m\n\u001b[1;32m    134\u001b[0m         \u001b[0;32mif\u001b[0m \u001b[0;32mnot\u001b[0m \u001b[0mself\u001b[0m\u001b[0;34m.\u001b[0m\u001b[0mis_finished\u001b[0m\u001b[0;34m(\u001b[0m\u001b[0;34m)\u001b[0m\u001b[0;34m:\u001b[0m\u001b[0;34m\u001b[0m\u001b[0;34m\u001b[0m\u001b[0m\n\u001b[0;32m--> 135\u001b[0;31m             \u001b[0;32mraise\u001b[0m \u001b[0mRuntimeError\u001b[0m\u001b[0;34m(\u001b[0m\u001b[0;34m\"The game is not yet finished!\"\u001b[0m\u001b[0;34m)\u001b[0m\u001b[0;34m\u001b[0m\u001b[0;34m\u001b[0m\u001b[0m\n\u001b[0m\u001b[1;32m    136\u001b[0m \u001b[0;34m\u001b[0m\u001b[0m\n\u001b[1;32m    137\u001b[0m         \u001b[0;31m## Return the winner\u001b[0m\u001b[0;34m\u001b[0m\u001b[0;34m\u001b[0m\u001b[0m\n",
      "\u001b[0;31mRuntimeError\u001b[0m: The game is not yet finished!"
     ]
    }
   ],
   "source": [
    "game.winner_player()"
   ]
  },
  {
   "cell_type": "code",
   "execution_count": 12,
   "id": "7f291121",
   "metadata": {
    "ExecuteTime": {
     "end_time": "2023-12-22T03:58:49.896964Z",
     "start_time": "2023-12-22T03:58:49.880106Z"
    }
   },
   "outputs": [
    {
     "data": {
      "text/plain": [
       "False"
      ]
     },
     "execution_count": 12,
     "metadata": {},
     "output_type": "execute_result"
    }
   ],
   "source": [
    "game.is_finished()"
   ]
  },
  {
   "cell_type": "code",
   "execution_count": 11,
   "id": "100d4b55",
   "metadata": {
    "ExecuteTime": {
     "end_time": "2023-12-22T03:57:25.546651Z",
     "start_time": "2023-12-22T03:57:25.517735Z"
    }
   },
   "outputs": [
    {
     "ename": "RuntimeError",
     "evalue": "The player to move 'x' is not one of the allowed values ('n' or 's').",
     "output_type": "error",
     "traceback": [
      "\u001b[0;31m---------------------------------------------------------------------------\u001b[0m",
      "\u001b[0;31mRuntimeError\u001b[0m                              Traceback (most recent call last)",
      "\u001b[0;32m/var/folders/qf/k7dgnp855m3cn5p4g2mtn6wh0000gn/T/ipykernel_27969/1068422362.py\u001b[0m in \u001b[0;36m<module>\u001b[0;34m\u001b[0m\n\u001b[0;32m----> 1\u001b[0;31m \u001b[0mgame\u001b[0m\u001b[0;34m.\u001b[0m\u001b[0mallowed_move_list\u001b[0m\u001b[0;34m(\u001b[0m\u001b[0;34m)\u001b[0m\u001b[0;34m\u001b[0m\u001b[0;34m\u001b[0m\u001b[0m\n\u001b[0m",
      "\u001b[0;32m/var/folders/qf/k7dgnp855m3cn5p4g2mtn6wh0000gn/T/ipykernel_27969/1158399157.py\u001b[0m in \u001b[0;36mallowed_move_list\u001b[0;34m(self)\u001b[0m\n\u001b[1;32m    242\u001b[0m \u001b[0;34m\u001b[0m\u001b[0m\n\u001b[1;32m    243\u001b[0m         \u001b[0;31m## Get the list of allowed moves\u001b[0m\u001b[0;34m\u001b[0m\u001b[0;34m\u001b[0m\u001b[0m\n\u001b[0;32m--> 244\u001b[0;31m         \u001b[0mallowed_move_list\u001b[0m \u001b[0;34m=\u001b[0m \u001b[0;34m[\u001b[0m\u001b[0mx\u001b[0m  \u001b[0;32mfor\u001b[0m \u001b[0mx\u001b[0m \u001b[0;32min\u001b[0m \u001b[0mrange\u001b[0m\u001b[0;34m(\u001b[0m\u001b[0mself\u001b[0m\u001b[0;34m.\u001b[0m\u001b[0mboard_size\u001b[0m\u001b[0;34m)\u001b[0m  \u001b[0;32mif\u001b[0m \u001b[0mself\u001b[0m\u001b[0;34m.\u001b[0m\u001b[0mis_allowed_move_for_player\u001b[0m\u001b[0;34m(\u001b[0m\u001b[0mx\u001b[0m\u001b[0;34m,\u001b[0m \u001b[0mplayer\u001b[0m\u001b[0;34m)\u001b[0m\u001b[0;34m]\u001b[0m\u001b[0;34m\u001b[0m\u001b[0;34m\u001b[0m\u001b[0m\n\u001b[0m\u001b[1;32m    245\u001b[0m \u001b[0;34m\u001b[0m\u001b[0m\n\u001b[1;32m    246\u001b[0m         \u001b[0;31m## Return the desired list\u001b[0m\u001b[0;34m\u001b[0m\u001b[0;34m\u001b[0m\u001b[0m\n",
      "\u001b[0;32m/var/folders/qf/k7dgnp855m3cn5p4g2mtn6wh0000gn/T/ipykernel_27969/1158399157.py\u001b[0m in \u001b[0;36m<listcomp>\u001b[0;34m(.0)\u001b[0m\n\u001b[1;32m    242\u001b[0m \u001b[0;34m\u001b[0m\u001b[0m\n\u001b[1;32m    243\u001b[0m         \u001b[0;31m## Get the list of allowed moves\u001b[0m\u001b[0;34m\u001b[0m\u001b[0;34m\u001b[0m\u001b[0m\n\u001b[0;32m--> 244\u001b[0;31m         \u001b[0mallowed_move_list\u001b[0m \u001b[0;34m=\u001b[0m \u001b[0;34m[\u001b[0m\u001b[0mx\u001b[0m  \u001b[0;32mfor\u001b[0m \u001b[0mx\u001b[0m \u001b[0;32min\u001b[0m \u001b[0mrange\u001b[0m\u001b[0;34m(\u001b[0m\u001b[0mself\u001b[0m\u001b[0;34m.\u001b[0m\u001b[0mboard_size\u001b[0m\u001b[0;34m)\u001b[0m  \u001b[0;32mif\u001b[0m \u001b[0mself\u001b[0m\u001b[0;34m.\u001b[0m\u001b[0mis_allowed_move_for_player\u001b[0m\u001b[0;34m(\u001b[0m\u001b[0mx\u001b[0m\u001b[0;34m,\u001b[0m \u001b[0mplayer\u001b[0m\u001b[0;34m)\u001b[0m\u001b[0;34m]\u001b[0m\u001b[0;34m\u001b[0m\u001b[0;34m\u001b[0m\u001b[0m\n\u001b[0m\u001b[1;32m    245\u001b[0m \u001b[0;34m\u001b[0m\u001b[0m\n\u001b[1;32m    246\u001b[0m         \u001b[0;31m## Return the desired list\u001b[0m\u001b[0;34m\u001b[0m\u001b[0;34m\u001b[0m\u001b[0m\n",
      "\u001b[0;32m/var/folders/qf/k7dgnp855m3cn5p4g2mtn6wh0000gn/T/ipykernel_27969/1158399157.py\u001b[0m in \u001b[0;36mis_allowed_move_for_player\u001b[0;34m(self, move_position, player_str)\u001b[0m\n\u001b[1;32m    226\u001b[0m         \"\"\"\n\u001b[1;32m    227\u001b[0m         \u001b[0;31m## Is this move location allowed for the moving player?\u001b[0m\u001b[0;34m\u001b[0m\u001b[0;34m\u001b[0m\u001b[0m\n\u001b[0;32m--> 228\u001b[0;31m         \u001b[0;32mif\u001b[0m \u001b[0;32mnot\u001b[0m \u001b[0mself\u001b[0m\u001b[0;34m.\u001b[0m\u001b[0mis_position_on_player_side\u001b[0m\u001b[0;34m(\u001b[0m\u001b[0mmove_position\u001b[0m\u001b[0;34m,\u001b[0m \u001b[0mplayer_str\u001b[0m\u001b[0;34m)\u001b[0m\u001b[0;34m:\u001b[0m\u001b[0;34m\u001b[0m\u001b[0;34m\u001b[0m\u001b[0m\n\u001b[0m\u001b[1;32m    229\u001b[0m             \u001b[0;32mreturn\u001b[0m \u001b[0;32mFalse\u001b[0m\u001b[0;34m\u001b[0m\u001b[0;34m\u001b[0m\u001b[0m\n\u001b[1;32m    230\u001b[0m \u001b[0;34m\u001b[0m\u001b[0m\n",
      "\u001b[0;32m/var/folders/qf/k7dgnp855m3cn5p4g2mtn6wh0000gn/T/ipykernel_27969/1158399157.py\u001b[0m in \u001b[0;36mis_position_on_player_side\u001b[0;34m(self, position, player_str)\u001b[0m\n\u001b[1;32m    216\u001b[0m             \u001b[0;32mreturn\u001b[0m \u001b[0;34m(\u001b[0m\u001b[0mposition\u001b[0m \u001b[0;34m>=\u001b[0m \u001b[0mm\u001b[0m \u001b[0;34m+\u001b[0m \u001b[0;36m2\u001b[0m\u001b[0;34m)\u001b[0m \u001b[0;32mand\u001b[0m \u001b[0;34m(\u001b[0m\u001b[0mposition\u001b[0m \u001b[0;34m<=\u001b[0m \u001b[0;36m2\u001b[0m\u001b[0;34m*\u001b[0m\u001b[0mm\u001b[0m \u001b[0;34m+\u001b[0m \u001b[0;36m1\u001b[0m\u001b[0;34m)\u001b[0m\u001b[0;34m\u001b[0m\u001b[0;34m\u001b[0m\u001b[0m\n\u001b[1;32m    217\u001b[0m         \u001b[0;32melse\u001b[0m\u001b[0;34m:\u001b[0m\u001b[0;34m\u001b[0m\u001b[0;34m\u001b[0m\u001b[0m\n\u001b[0;32m--> 218\u001b[0;31m             \u001b[0;32mraise\u001b[0m \u001b[0mRuntimeError\u001b[0m\u001b[0;34m(\u001b[0m\u001b[0;34mf\"The player to move '{player_str}' is not one of the allowed values ('n' or 's').\"\u001b[0m\u001b[0;34m)\u001b[0m\u001b[0;34m\u001b[0m\u001b[0;34m\u001b[0m\u001b[0m\n\u001b[0m\u001b[1;32m    219\u001b[0m \u001b[0;34m\u001b[0m\u001b[0m\n\u001b[1;32m    220\u001b[0m \u001b[0;34m\u001b[0m\u001b[0m\n",
      "\u001b[0;31mRuntimeError\u001b[0m: The player to move 'x' is not one of the allowed values ('n' or 's')."
     ]
    }
   ],
   "source": [
    "game.allowed_move_list()"
   ]
  },
  {
   "cell_type": "code",
   "execution_count": 13,
   "id": "f41d6c9b",
   "metadata": {
    "ExecuteTime": {
     "end_time": "2023-12-22T03:59:01.125893Z",
     "start_time": "2023-12-22T03:59:01.106569Z"
    }
   },
   "outputs": [
    {
     "data": {
      "text/plain": [
       "[1,\n",
       " 13,\n",
       " 1,\n",
       " 8,\n",
       " 6,\n",
       " 8,\n",
       " 5,\n",
       " 8,\n",
       " 6,\n",
       " 4,\n",
       " 12,\n",
       " 5,\n",
       " 8,\n",
       " 3,\n",
       " 11,\n",
       " 1,\n",
       " 13,\n",
       " 1,\n",
       " 12,\n",
       " 6,\n",
       " 10,\n",
       " 3,\n",
       " 8,\n",
       " 1,\n",
       " 13,\n",
       " 1,\n",
       " 10,\n",
       " 5,\n",
       " 6,\n",
       " 2,\n",
       " 9,\n",
       " 5,\n",
       " 1,\n",
       " 8,\n",
       " 6,\n",
       " 8,\n",
       " 2,\n",
       " 13,\n",
       " 1,\n",
       " 10,\n",
       " 11,\n",
       " 1,\n",
       " 12,\n",
       " 13,\n",
       " 1,\n",
       " 2,\n",
       " 3,\n",
       " 8,\n",
       " 4,\n",
       " 8,\n",
       " 5,\n",
       " 8,\n",
       " 6,\n",
       " 8,\n",
       " 9,\n",
       " 1,\n",
       " 13,\n",
       " 12,\n",
       " 2,\n",
       " 11,\n",
       " 3,\n",
       " 13,\n",
       " 12,\n",
       " 4,\n",
       " 13,\n",
       " 6,\n",
       " 5,\n",
       " 6]"
      ]
     },
     "execution_count": 13,
     "metadata": {},
     "output_type": "execute_result"
    }
   ],
   "source": [
    "game.history_list()"
   ]
  },
  {
   "cell_type": "code",
   "execution_count": 15,
   "id": "9d305e48",
   "metadata": {
    "ExecuteTime": {
     "end_time": "2023-12-22T03:59:19.152421Z",
     "start_time": "2023-12-22T03:59:19.133875Z"
    }
   },
   "outputs": [
    {
     "data": {
      "text/plain": [
       "68"
      ]
     },
     "execution_count": 15,
     "metadata": {},
     "output_type": "execute_result"
    }
   ],
   "source": [
    "len(game.history_list())"
   ]
  },
  {
   "cell_type": "code",
   "execution_count": 28,
   "id": "f599ead5",
   "metadata": {
    "ExecuteTime": {
     "end_time": "2023-12-22T03:33:29.512601Z",
     "start_time": "2023-12-22T03:33:29.486890Z"
    }
   },
   "outputs": [
    {
     "data": {
      "text/plain": [
       "14"
      ]
     },
     "execution_count": 28,
     "metadata": {},
     "output_type": "execute_result"
    }
   ],
   "source": [
    "game.board_size"
   ]
  },
  {
   "cell_type": "code",
   "execution_count": 26,
   "id": "a9850601",
   "metadata": {
    "ExecuteTime": {
     "end_time": "2023-12-22T03:33:12.192392Z",
     "start_time": "2023-12-22T03:33:12.174394Z"
    }
   },
   "outputs": [
    {
     "data": {
      "text/plain": [
       "int"
      ]
     },
     "execution_count": 26,
     "metadata": {},
     "output_type": "execute_result"
    }
   ],
   "source": [
    "type(game.board_size)"
   ]
  },
  {
   "cell_type": "code",
   "execution_count": 44,
   "id": "47094659",
   "metadata": {
    "ExecuteTime": {
     "end_time": "2023-12-22T03:35:40.982120Z",
     "start_time": "2023-12-22T03:35:40.963245Z"
    }
   },
   "outputs": [
    {
     "data": {
      "text/plain": [
       "[0, 0, 5, 5, 5, 5, 4, 0, 4, 4, 4, 4, 4, 0, 'n']"
      ]
     },
     "execution_count": 44,
     "metadata": {},
     "output_type": "execute_result"
    }
   ],
   "source": [
    "game.game_state_list"
   ]
  },
  {
   "cell_type": "code",
   "execution_count": 29,
   "id": "54df18c5",
   "metadata": {
    "ExecuteTime": {
     "end_time": "2023-12-22T03:33:54.927565Z",
     "start_time": "2023-12-22T03:33:54.913652Z"
    }
   },
   "outputs": [
    {
     "data": {
      "text/plain": [
       "[4, 0, 4, 4, 4, 4, 4, 4]"
      ]
     },
     "execution_count": 29,
     "metadata": {},
     "output_type": "execute_result"
    }
   ],
   "source": [
    "game.game_state_list[6:14]"
   ]
  },
  {
   "cell_type": "code",
   "execution_count": null,
   "id": "18b12e71",
   "metadata": {},
   "outputs": [],
   "source": []
  }
 ],
 "metadata": {
  "hide_input": false,
  "kernelspec": {
   "display_name": "Python 3 (ipykernel)",
   "language": "python",
   "name": "python3"
  },
  "language_info": {
   "codemirror_mode": {
    "name": "ipython",
    "version": 3
   },
   "file_extension": ".py",
   "mimetype": "text/x-python",
   "name": "python",
   "nbconvert_exporter": "python",
   "pygments_lexer": "ipython3",
   "version": "3.9.13"
  },
  "toc": {
   "base_numbering": 1,
   "nav_menu": {},
   "number_sections": false,
   "sideBar": true,
   "skip_h1_title": false,
   "title_cell": "Table of Contents",
   "title_sidebar": "Contents",
   "toc_cell": true,
   "toc_position": {},
   "toc_section_display": true,
   "toc_window_display": false
  },
  "varInspector": {
   "cols": {
    "lenName": 16,
    "lenType": 16,
    "lenVar": 40
   },
   "kernels_config": {
    "python": {
     "delete_cmd_postfix": "",
     "delete_cmd_prefix": "del ",
     "library": "var_list.py",
     "varRefreshCmd": "print(var_dic_list())"
    },
    "r": {
     "delete_cmd_postfix": ") ",
     "delete_cmd_prefix": "rm(",
     "library": "var_list.r",
     "varRefreshCmd": "cat(var_dic_list()) "
    }
   },
   "types_to_exclude": [
    "module",
    "function",
    "builtin_function_or_method",
    "instance",
    "_Feature"
   ],
   "window_display": false
  }
 },
 "nbformat": 4,
 "nbformat_minor": 5
}
