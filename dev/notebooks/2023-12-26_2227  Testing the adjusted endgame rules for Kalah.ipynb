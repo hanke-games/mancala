{
 "cells": [
  {
   "cell_type": "markdown",
   "id": "3026f16e",
   "metadata": {
    "toc": true
   },
   "source": [
    "<h1>Table of Contents<span class=\"tocSkip\"></span></h1>\n",
    "<div class=\"toc\"><ul class=\"toc-item\"><li><span><a href=\"#\" data-toc-modified-id=\"-1\"></a></span></li></ul></div>"
   ]
  },
  {
   "cell_type": "code",
   "execution_count": 1,
   "id": "91be5b3b",
   "metadata": {
    "ExecuteTime": {
     "end_time": "2023-12-27T03:44:59.979980Z",
     "start_time": "2023-12-27T03:44:59.976795Z"
    }
   },
   "outputs": [],
   "source": [
    "## Add the parent directory to the \n",
    "import sys, os\n",
    "sys.path.append(os.path.join(sys.path[0],'..', '..'))"
   ]
  },
  {
   "cell_type": "code",
   "execution_count": 2,
   "id": "610db84c",
   "metadata": {
    "ExecuteTime": {
     "end_time": "2023-12-27T03:45:00.225911Z",
     "start_time": "2023-12-27T03:45:00.217350Z"
    }
   },
   "outputs": [],
   "source": [
    "from mancala import *"
   ]
  },
  {
   "cell_type": "code",
   "execution_count": 3,
   "id": "598ab1ab",
   "metadata": {
    "ExecuteTime": {
     "end_time": "2023-12-27T03:45:16.317490Z",
     "start_time": "2023-12-27T03:45:00.404697Z"
    },
    "scrolled": false
   },
   "outputs": [
    {
     "name": "stdout",
     "output_type": "stream",
     "text": [
      "\n",
      "             7   6   5\n",
      "      ------------------------\n",
      "             1   1   1\n",
      "         0               0\n",
      "             1   1   1\n",
      "      ------------------------\n",
      "s -->        1   2   3\n",
      "\n",
      "\n",
      "Your move (Q to quit)?  \n",
      "Your move (Q to quit)?  3\n",
      "Your move (Q to quit)?  1\n",
      "\n",
      "n -->        7   6   5\n",
      "      ------------------------\n",
      "             1   1   1\n",
      "         0               0\n",
      "             0   2   1\n",
      "      ------------------------\n",
      "             1   2   3\n",
      "\n",
      "\n",
      "Your move (Q to quit)?  5\n",
      "\n",
      "             7   6   5\n",
      "      ------------------------\n",
      "             1   2   0\n",
      "         0               0\n",
      "             0   2   1\n",
      "      ------------------------\n",
      "s -->        1   2   3\n",
      "\n",
      "\n",
      "Your move (Q to quit)?  3\n",
      "\n",
      "             7   6   5\n",
      "      ------------------------\n",
      "             1   2   0\n",
      "         0               1\n",
      "             0   2   0\n",
      "      ------------------------\n",
      "s -->        1   2   3\n",
      "\n",
      "\n",
      "Your move (Q to quit)?  2\n",
      "\n",
      "             7   6   5\n",
      "      ------------------------\n",
      "             1   2   0\n",
      "         0               2\n",
      "             0   0   1\n",
      "      ------------------------\n",
      "s -->        1   2   3\n",
      "\n",
      "\n",
      "Your move (Q to quit)?  3\n",
      "\n",
      "             7   6   5\n",
      "      ------------------------\n",
      "             0   0   0\n",
      "         3               3\n",
      "             0   0   0\n",
      "      ------------------------\n",
      "             1   2   3\n",
      "\n",
      "\n"
     ]
    }
   ],
   "source": [
    "game1 = play_kalah(3,1)"
   ]
  },
  {
   "cell_type": "code",
   "execution_count": 4,
   "id": "9736ddd8",
   "metadata": {
    "ExecuteTime": {
     "end_time": "2023-12-27T03:46:19.661700Z",
     "start_time": "2023-12-27T03:46:19.654174Z"
    }
   },
   "outputs": [
    {
     "data": {
      "text/plain": [
       "\n",
       "             7   6   5\n",
       "      ------------------------\n",
       "             0   0   0\n",
       "         3               3\n",
       "             0   0   0\n",
       "      ------------------------\n",
       "             1   2   3\n"
      ]
     },
     "execution_count": 4,
     "metadata": {},
     "output_type": "execute_result"
    }
   ],
   "source": [
    "game1"
   ]
  },
  {
   "cell_type": "code",
   "execution_count": 5,
   "id": "7cb0c99a",
   "metadata": {
    "ExecuteTime": {
     "end_time": "2023-12-27T03:46:59.165301Z",
     "start_time": "2023-12-27T03:46:59.150052Z"
    }
   },
   "outputs": [
    {
     "name": "stdout",
     "output_type": "stream",
     "text": [
      "[1, 5, 3, 2, 3]\n"
     ]
    }
   ],
   "source": [
    "print(game1.history_list())"
   ]
  },
  {
   "cell_type": "code",
   "execution_count": null,
   "id": "20ea78ee",
   "metadata": {},
   "outputs": [],
   "source": []
  }
 ],
 "metadata": {
  "hide_input": false,
  "kernelspec": {
   "display_name": "Python 3 (ipykernel)",
   "language": "python",
   "name": "python3"
  },
  "language_info": {
   "codemirror_mode": {
    "name": "ipython",
    "version": 3
   },
   "file_extension": ".py",
   "mimetype": "text/x-python",
   "name": "python",
   "nbconvert_exporter": "python",
   "pygments_lexer": "ipython3",
   "version": "3.9.13"
  },
  "toc": {
   "base_numbering": 1,
   "nav_menu": {},
   "number_sections": false,
   "sideBar": true,
   "skip_h1_title": false,
   "title_cell": "Table of Contents",
   "title_sidebar": "Contents",
   "toc_cell": true,
   "toc_position": {},
   "toc_section_display": true,
   "toc_window_display": false
  },
  "varInspector": {
   "cols": {
    "lenName": 16,
    "lenType": 16,
    "lenVar": 40
   },
   "kernels_config": {
    "python": {
     "delete_cmd_postfix": "",
     "delete_cmd_prefix": "del ",
     "library": "var_list.py",
     "varRefreshCmd": "print(var_dic_list())"
    },
    "r": {
     "delete_cmd_postfix": ") ",
     "delete_cmd_prefix": "rm(",
     "library": "var_list.r",
     "varRefreshCmd": "cat(var_dic_list()) "
    }
   },
   "types_to_exclude": [
    "module",
    "function",
    "builtin_function_or_method",
    "instance",
    "_Feature"
   ],
   "window_display": false
  }
 },
 "nbformat": 4,
 "nbformat_minor": 5
}
