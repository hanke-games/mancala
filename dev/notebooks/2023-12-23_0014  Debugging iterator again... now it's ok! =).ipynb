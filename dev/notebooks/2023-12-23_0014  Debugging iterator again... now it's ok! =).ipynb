{
 "cells": [
  {
   "cell_type": "markdown",
   "id": "3026f16e",
   "metadata": {
    "toc": true
   },
   "source": [
    "<h1>Table of Contents<span class=\"tocSkip\"></span></h1>\n",
    "<div class=\"toc\"><ul class=\"toc-item\"></ul></div>"
   ]
  },
  {
   "cell_type": "code",
   "execution_count": 1,
   "id": "91be5b3b",
   "metadata": {
    "ExecuteTime": {
     "end_time": "2023-12-23T05:19:23.836194Z",
     "start_time": "2023-12-23T05:19:23.809011Z"
    }
   },
   "outputs": [],
   "source": [
    "## Add the parent directory to the \n",
    "import sys, os\n",
    "sys.path.append(os.path.join(sys.path[0],'..', '..'))"
   ]
  },
  {
   "cell_type": "code",
   "execution_count": 2,
   "id": "610db84c",
   "metadata": {
    "ExecuteTime": {
     "end_time": "2023-12-23T05:19:24.213735Z",
     "start_time": "2023-12-23T05:19:24.196843Z"
    }
   },
   "outputs": [],
   "source": [
    "from mancala import *"
   ]
  },
  {
   "cell_type": "code",
   "execution_count": 3,
   "id": "d05881a2",
   "metadata": {
    "ExecuteTime": {
     "end_time": "2023-12-23T05:19:24.430908Z",
     "start_time": "2023-12-23T05:19:24.426922Z"
    }
   },
   "outputs": [
    {
     "data": {
      "text/plain": [
       "\n",
       "            13  12  11  10   9   8\n",
       "      ------------------------------------\n",
       "             4   4   4   4   4   4\n",
       "         0                           0\n",
       "             4   4   4   4   4   4\n",
       "      ------------------------------------\n",
       "s -->        1   2   3   4   5   6\n"
      ]
     },
     "execution_count": 3,
     "metadata": {},
     "output_type": "execute_result"
    }
   ],
   "source": [
    "Kalah(6,4)"
   ]
  },
  {
   "cell_type": "code",
   "execution_count": 4,
   "id": "b45ffc29",
   "metadata": {
    "ExecuteTime": {
     "end_time": "2023-12-23T05:19:24.676886Z",
     "start_time": "2023-12-23T05:19:24.662633Z"
    }
   },
   "outputs": [
    {
     "data": {
      "text/plain": [
       "\n",
       "             5   4\n",
       "      --------------------\n",
       "             1   1\n",
       "         0           0\n",
       "             1   1\n",
       "      --------------------\n",
       "s -->        1   2\n"
      ]
     },
     "execution_count": 4,
     "metadata": {},
     "output_type": "execute_result"
    }
   ],
   "source": [
    "Kalah(2,1)"
   ]
  },
  {
   "cell_type": "code",
   "execution_count": null,
   "id": "eaf61c4b",
   "metadata": {},
   "outputs": [],
   "source": []
  },
  {
   "cell_type": "code",
   "execution_count": 5,
   "id": "db19710b",
   "metadata": {
    "ExecuteTime": {
     "end_time": "2023-12-23T04:41:43.116249Z",
     "start_time": "2023-12-23T04:41:43.104818Z"
    }
   },
   "outputs": [
    {
     "name": "stdout",
     "output_type": "stream",
     "text": [
      "[1, 13, 1, 8, 6, 8, 5, 8, 6, 4, 12, 5, 8, 3, 11, 1, 13, 1, 12, 6, 10, 3, 8, 1, 13, 1, 10, 5, 6, 2, 9, 5, 1, 8, 6, 8, 2, 13, 1, 10, 11, 1, 12, 13, 1, 2, 3, 8, 4, 8, 5, 8, 6, 8, 9, 1, 13, 12, 2, 11, 3, 13, 12, 4, 13, 6, 5, 6]\n"
     ]
    }
   ],
   "source": [
    "## Show a sample mancala game (i.e. Kalah(6,4))\n",
    "print(example_mancala_game_history)"
   ]
  },
  {
   "cell_type": "code",
   "execution_count": 6,
   "id": "07d19205",
   "metadata": {
    "ExecuteTime": {
     "end_time": "2023-12-23T04:41:43.275036Z",
     "start_time": "2023-12-23T04:41:43.266460Z"
    }
   },
   "outputs": [
    {
     "data": {
      "text/plain": [
       "68"
      ]
     },
     "execution_count": 6,
     "metadata": {},
     "output_type": "execute_result"
    }
   ],
   "source": [
    "len(example_mancala_game_history)"
   ]
  },
  {
   "cell_type": "code",
   "execution_count": null,
   "id": "bdd5ae99",
   "metadata": {},
   "outputs": [],
   "source": []
  },
  {
   "cell_type": "code",
   "execution_count": 7,
   "id": "0ba2073c",
   "metadata": {
    "ExecuteTime": {
     "end_time": "2023-12-23T04:41:43.666312Z",
     "start_time": "2023-12-23T04:41:43.650052Z"
    }
   },
   "outputs": [
    {
     "data": {
      "text/plain": [
       "\n",
       "            13  12  11  10   9   8\n",
       "      ------------------------------------\n",
       "             0   0   0   0   0   0\n",
       "        19                          29\n",
       "             0   0   0   0   0   0\n",
       "      ------------------------------------\n",
       "             1   2   3   4   5   6\n"
      ]
     },
     "execution_count": 7,
     "metadata": {},
     "output_type": "execute_result"
    }
   ],
   "source": [
    "## Initialize a mancala game with some initial moves -- in this case, a full game! =)\n",
    "Kalah(6, 4, example_mancala_game_history)"
   ]
  },
  {
   "cell_type": "code",
   "execution_count": null,
   "id": "b4738a63",
   "metadata": {},
   "outputs": [],
   "source": []
  },
  {
   "cell_type": "code",
   "execution_count": 8,
   "id": "5b929723",
   "metadata": {
    "ExecuteTime": {
     "end_time": "2023-12-23T04:41:44.038626Z",
     "start_time": "2023-12-23T04:41:44.022663Z"
    }
   },
   "outputs": [
    {
     "data": {
      "text/plain": [
       "\n",
       "            13  12  11  10   9   8\n",
       "      ------------------------------------\n",
       "             0   0   0   0   0   0\n",
       "        19                          28\n",
       "             0   0   0   0   0   1\n",
       "      ------------------------------------\n",
       "s -->        1   2   3   4   5   6\n"
      ]
     },
     "execution_count": 8,
     "metadata": {},
     "output_type": "execute_result"
    }
   ],
   "source": [
    "## Initialize a mancala game with some initial moves -- in this case, almost a full game, and some nonsense moves.\n",
    "Kalah(6, 4, example_mancala_game_history[:-1] + [1,2,5])"
   ]
  },
  {
   "cell_type": "code",
   "execution_count": null,
   "id": "0ee0bb3a",
   "metadata": {},
   "outputs": [],
   "source": []
  },
  {
   "cell_type": "code",
   "execution_count": 9,
   "id": "b1d7df43",
   "metadata": {
    "ExecuteTime": {
     "end_time": "2023-12-23T04:41:44.388872Z",
     "start_time": "2023-12-23T04:41:44.373636Z"
    }
   },
   "outputs": [
    {
     "data": {
      "text/plain": [
       "\n",
       "            13  12  11  10   9   8\n",
       "      ------------------------------------\n",
       "             0   0   0   0   0   0\n",
       "        19                          26\n",
       "             0   0   0   0   2   1\n",
       "      ------------------------------------\n",
       "s -->        1   2   3   4   5   6\n"
      ]
     },
     "execution_count": 9,
     "metadata": {},
     "output_type": "execute_result"
    }
   ],
   "source": [
    "## Initialize a mancala game with some initial moves -- in this case, almost a full game, and some nonsense moves.\n",
    "tmp_game = Kalah(6, 4, example_mancala_game_history[:-3])\n",
    "tmp_game"
   ]
  },
  {
   "cell_type": "code",
   "execution_count": 10,
   "id": "7ccb25dc",
   "metadata": {
    "ExecuteTime": {
     "end_time": "2023-12-23T04:41:44.582115Z",
     "start_time": "2023-12-23T04:41:44.570581Z"
    }
   },
   "outputs": [
    {
     "data": {
      "text/plain": [
       "[5, 6]"
      ]
     },
     "execution_count": 10,
     "metadata": {},
     "output_type": "execute_result"
    }
   ],
   "source": [
    "tmp_game.allowed_move_list()"
   ]
  },
  {
   "cell_type": "code",
   "execution_count": null,
   "id": "3d7e335f",
   "metadata": {},
   "outputs": [],
   "source": []
  },
  {
   "cell_type": "code",
   "execution_count": 21,
   "id": "05a73082",
   "metadata": {
    "ExecuteTime": {
     "end_time": "2023-12-23T04:45:49.534742Z",
     "start_time": "2023-12-23T04:45:49.520899Z"
    }
   },
   "outputs": [
    {
     "data": {
      "text/plain": [
       "\n",
       "            13  12  11  10   9   8\n",
       "      ------------------------------------\n",
       "             0   7   8   8  13   0\n",
       "         0                          11\n",
       "             1   0   0   0   0   0\n",
       "      ------------------------------------\n",
       "s -->        1   2   3   4   5   6\n"
      ]
     },
     "execution_count": 21,
     "metadata": {},
     "output_type": "execute_result"
    }
   ],
   "source": [
    "move_list = [1, 8, 2, 3, 8, 4, 8, 5, 8, 6, 8]\n",
    "Kalah(6, 4, move_list)"
   ]
  },
  {
   "cell_type": "code",
   "execution_count": null,
   "id": "34333cc0",
   "metadata": {},
   "outputs": [],
   "source": [
    "[0, 1, 0, 0, 0, 0, 0, 11, 0, 13, 8, 8, 7, 0, 's']"
   ]
  },
  {
   "cell_type": "code",
   "execution_count": null,
   "id": "6f8c763d",
   "metadata": {},
   "outputs": [],
   "source": []
  },
  {
   "cell_type": "code",
   "execution_count": null,
   "id": "38bce83a",
   "metadata": {},
   "outputs": [],
   "source": []
  },
  {
   "cell_type": "code",
   "execution_count": 22,
   "id": "ec494d3c",
   "metadata": {
    "ExecuteTime": {
     "end_time": "2023-12-23T04:46:46.007541Z",
     "start_time": "2023-12-23T04:46:45.991387Z"
    }
   },
   "outputs": [
    {
     "data": {
      "text/plain": [
       "\n",
       "            13  12  11  10   9   8\n",
       "      ------------------------------------\n",
       "             0   0   0   0   0   0\n",
       "        21                          27\n",
       "             0   0   0   0   0   0\n",
       "      ------------------------------------\n",
       "             1   2   3   4   5   6\n"
      ]
     },
     "execution_count": 22,
     "metadata": {},
     "output_type": "execute_result"
    }
   ],
   "source": [
    "move_list = [1, 8, 2, 3, 8, 4, 8, 5, 8, 6, 8, 1, 9, 1, 8, 2, 10, 1, 11, 1, 8, 2, 9, 3, 8, 4, 10, 5, 11, 6, 8, 9, 10, 11, 12, 1, 13, 1, 2, 3, 4, 5, 8, 6, 8, 9, 10, 11, 12, 1, 13, 1, 2, 3, 4, 5, 6, 8, 9, 10, 11, 12, 13]\n",
    "Kalah(6, 4, move_list)"
   ]
  },
  {
   "cell_type": "code",
   "execution_count": null,
   "id": "3c3fe2b4",
   "metadata": {},
   "outputs": [],
   "source": []
  },
  {
   "cell_type": "code",
   "execution_count": 6,
   "id": "884833d8",
   "metadata": {
    "ExecuteTime": {
     "end_time": "2023-12-23T05:20:29.270831Z",
     "start_time": "2023-12-23T05:20:29.241017Z"
    }
   },
   "outputs": [
    {
     "name": "stdout",
     "output_type": "stream",
     "text": [
      "63\n",
      "True\n",
      "58\n",
      "True\n",
      "58\n",
      "True\n"
     ]
    }
   ],
   "source": [
    "## Testing that the mancala iterator always gives complete games -- NOW IT DOES! =)\n",
    "\n",
    "## Intialize the Mancala game iterator\n",
    "iter = kalah_game_iterator()\n",
    "iter_3_list = [next(iter)  for _ in range(3)]\n",
    "\n",
    "\n",
    "for g in iter_3_list:\n",
    "    g_moves = g[0]\n",
    "    print(len(g_moves))\n",
    "\n",
    "    tmp_game = Kalah(6, 4, g_moves)\n",
    "    print(tmp_game.is_finished())"
   ]
  },
  {
   "cell_type": "code",
   "execution_count": null,
   "id": "d638e1e0",
   "metadata": {},
   "outputs": [],
   "source": []
  },
  {
   "cell_type": "code",
   "execution_count": null,
   "id": "8a87dd10",
   "metadata": {},
   "outputs": [],
   "source": []
  },
  {
   "cell_type": "code",
   "execution_count": null,
   "id": "bb56ef96",
   "metadata": {},
   "outputs": [],
   "source": []
  },
  {
   "cell_type": "code",
   "execution_count": 5,
   "id": "0d6e0534",
   "metadata": {
    "ExecuteTime": {
     "end_time": "2023-12-23T05:19:31.419850Z",
     "start_time": "2023-12-23T05:19:31.376280Z"
    }
   },
   "outputs": [
    {
     "name": "stdout",
     "output_type": "stream",
     "text": [
      "63\n",
      "True\n",
      "58\n",
      "True\n",
      "58\n",
      "True\n",
      "65\n",
      "True\n",
      "60\n",
      "True\n"
     ]
    }
   ],
   "source": [
    "## Testing that the mancala iterator always gives complete games -- NOW IT DOES! =)\n",
    "\n",
    "## Intialize the Mancala game iterator\n",
    "iter = kalah_game_iterator()\n",
    "\n",
    "import itertools\n",
    "first_games_list = list(itertools.islice(iter, 5))\n",
    "\n",
    "for g in first_games_list:\n",
    "    g_moves = g[0]\n",
    "    print(len(g_moves))\n",
    "\n",
    "    tmp_game = Kalah(6, 4, g_moves)\n",
    "    print(tmp_game.is_finished())"
   ]
  },
  {
   "cell_type": "code",
   "execution_count": null,
   "id": "4e6d517a",
   "metadata": {},
   "outputs": [],
   "source": []
  },
  {
   "cell_type": "code",
   "execution_count": null,
   "id": "9b2980a2",
   "metadata": {},
   "outputs": [],
   "source": []
  },
  {
   "cell_type": "code",
   "execution_count": null,
   "id": "3c5dc5bb",
   "metadata": {},
   "outputs": [],
   "source": []
  },
  {
   "cell_type": "code",
   "execution_count": 9,
   "id": "61e5210f",
   "metadata": {
    "ExecuteTime": {
     "end_time": "2023-12-23T05:21:34.369051Z",
     "start_time": "2023-12-23T05:21:32.946363Z"
    }
   },
   "outputs": [
    {
     "name": "stdout",
     "output_type": "stream",
     "text": [
      "CPU times: user 1.39 s, sys: 3.2 ms, total: 1.4 s\n",
      "Wall time: 1.42 s\n"
     ]
    }
   ],
   "source": [
    "%%time \n",
    "\n",
    "## Intialize the Mancala game iterator\n",
    "iter = kalah_game_iterator()\n",
    "\n",
    "import itertools\n",
    "first_games_list = list(itertools.islice(iter, 1000))"
   ]
  },
  {
   "cell_type": "code",
   "execution_count": null,
   "id": "8205a1c5",
   "metadata": {
    "ExecuteTime": {
     "end_time": "2023-12-23T05:22:10.353189Z",
     "start_time": "2023-12-23T05:22:10.337832Z"
    }
   },
   "outputs": [],
   "source": []
  },
  {
   "cell_type": "code",
   "execution_count": 11,
   "id": "ee3fcd15",
   "metadata": {
    "ExecuteTime": {
     "end_time": "2023-12-23T05:23:36.940809Z",
     "start_time": "2023-12-23T05:23:36.927913Z"
    }
   },
   "outputs": [],
   "source": [
    "num_of_moves_list = [len(game_moves_list)  for game_moves_list, game_score in first_games_list]"
   ]
  },
  {
   "cell_type": "code",
   "execution_count": 12,
   "id": "61acbd0c",
   "metadata": {
    "ExecuteTime": {
     "end_time": "2023-12-23T05:23:42.730266Z",
     "start_time": "2023-12-23T05:23:42.720042Z"
    }
   },
   "outputs": [
    {
     "data": {
      "text/plain": [
       "1000"
      ]
     },
     "execution_count": 12,
     "metadata": {},
     "output_type": "execute_result"
    }
   ],
   "source": [
    "len(num_of_moves_list)"
   ]
  },
  {
   "cell_type": "code",
   "execution_count": 14,
   "id": "f9a1f760",
   "metadata": {
    "ExecuteTime": {
     "end_time": "2023-12-23T05:24:27.322968Z",
     "start_time": "2023-12-23T05:24:27.296176Z"
    }
   },
   "outputs": [
    {
     "data": {
      "text/plain": [
       "67.878"
      ]
     },
     "execution_count": 14,
     "metadata": {},
     "output_type": "execute_result"
    }
   ],
   "source": [
    "## Average number of moves for the first 100 games\n",
    "1.0 * sum(num_of_moves_list) / len(num_of_moves_list)"
   ]
  },
  {
   "cell_type": "code",
   "execution_count": null,
   "id": "79f26296",
   "metadata": {},
   "outputs": [],
   "source": []
  }
 ],
 "metadata": {
  "hide_input": false,
  "kernelspec": {
   "display_name": "Python 3 (ipykernel)",
   "language": "python",
   "name": "python3"
  },
  "language_info": {
   "codemirror_mode": {
    "name": "ipython",
    "version": 3
   },
   "file_extension": ".py",
   "mimetype": "text/x-python",
   "name": "python",
   "nbconvert_exporter": "python",
   "pygments_lexer": "ipython3",
   "version": "3.9.13"
  },
  "toc": {
   "base_numbering": 1,
   "nav_menu": {},
   "number_sections": false,
   "sideBar": true,
   "skip_h1_title": false,
   "title_cell": "Table of Contents",
   "title_sidebar": "Contents",
   "toc_cell": true,
   "toc_position": {},
   "toc_section_display": true,
   "toc_window_display": false
  },
  "varInspector": {
   "cols": {
    "lenName": 16,
    "lenType": 16,
    "lenVar": 40
   },
   "kernels_config": {
    "python": {
     "delete_cmd_postfix": "",
     "delete_cmd_prefix": "del ",
     "library": "var_list.py",
     "varRefreshCmd": "print(var_dic_list())"
    },
    "r": {
     "delete_cmd_postfix": ") ",
     "delete_cmd_prefix": "rm(",
     "library": "var_list.r",
     "varRefreshCmd": "cat(var_dic_list()) "
    }
   },
   "types_to_exclude": [
    "module",
    "function",
    "builtin_function_or_method",
    "instance",
    "_Feature"
   ],
   "window_display": false
  }
 },
 "nbformat": 4,
 "nbformat_minor": 5
}
