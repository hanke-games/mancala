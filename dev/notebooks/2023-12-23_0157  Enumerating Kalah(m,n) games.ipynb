{
 "cells": [
  {
   "cell_type": "markdown",
   "id": "3026f16e",
   "metadata": {
    "toc": true
   },
   "source": [
    "<h1>Table of Contents<span class=\"tocSkip\"></span></h1>\n",
    "<div class=\"toc\"><ul class=\"toc-item\"></ul></div>"
   ]
  },
  {
   "cell_type": "code",
   "execution_count": 1,
   "id": "91be5b3b",
   "metadata": {
    "ExecuteTime": {
     "end_time": "2023-12-23T06:58:09.815677Z",
     "start_time": "2023-12-23T06:58:09.800019Z"
    }
   },
   "outputs": [],
   "source": [
    "## Add the parent directory to the \n",
    "import sys, os\n",
    "sys.path.append(os.path.join(sys.path[0],'..', '..'))"
   ]
  },
  {
   "cell_type": "code",
   "execution_count": 2,
   "id": "610db84c",
   "metadata": {
    "ExecuteTime": {
     "end_time": "2023-12-23T06:58:10.265257Z",
     "start_time": "2023-12-23T06:58:10.246464Z"
    }
   },
   "outputs": [],
   "source": [
    "from mancala import *"
   ]
  },
  {
   "cell_type": "code",
   "execution_count": 3,
   "id": "d05881a2",
   "metadata": {
    "ExecuteTime": {
     "end_time": "2023-12-23T06:58:10.526578Z",
     "start_time": "2023-12-23T06:58:10.517408Z"
    }
   },
   "outputs": [
    {
     "data": {
      "text/plain": [
       "\n",
       "            13  12  11  10   9   8\n",
       "      ------------------------------------\n",
       "             4   4   4   4   4   4\n",
       "         0                           0\n",
       "             4   4   4   4   4   4\n",
       "      ------------------------------------\n",
       "s -->        1   2   3   4   5   6\n"
      ]
     },
     "execution_count": 3,
     "metadata": {},
     "output_type": "execute_result"
    }
   ],
   "source": [
    "Kalah(6,4)"
   ]
  },
  {
   "cell_type": "code",
   "execution_count": 4,
   "id": "b45ffc29",
   "metadata": {
    "ExecuteTime": {
     "end_time": "2023-12-23T06:58:10.897186Z",
     "start_time": "2023-12-23T06:58:10.883090Z"
    }
   },
   "outputs": [
    {
     "data": {
      "text/plain": [
       "\n",
       "             5   4\n",
       "      --------------------\n",
       "             2   2\n",
       "         0           0\n",
       "             2   2\n",
       "      --------------------\n",
       "s -->        1   2\n"
      ]
     },
     "execution_count": 4,
     "metadata": {},
     "output_type": "execute_result"
    }
   ],
   "source": [
    "Kalah(2,2)"
   ]
  },
  {
   "cell_type": "code",
   "execution_count": null,
   "id": "eaf61c4b",
   "metadata": {},
   "outputs": [],
   "source": []
  },
  {
   "cell_type": "code",
   "execution_count": 5,
   "id": "53cff74b",
   "metadata": {
    "ExecuteTime": {
     "end_time": "2023-12-23T06:58:11.794958Z",
     "start_time": "2023-12-23T06:58:11.780682Z"
    }
   },
   "outputs": [],
   "source": [
    "def number_of_games_in_kalah(m, n, return_game_list=False):\n",
    "    \"\"\"\n",
    "    Returns the number of games in Kalah(m,n), \n",
    "    where the south player always goes first.\n",
    "    \"\"\"\n",
    "    ## Intialize the Mancala game iterator\n",
    "    iter = kalah_game_iterator(m=m, n=n)\n",
    "\n",
    "    ## Enumerate all games and their scores\n",
    "    iter_value_list = [x  for x in iter]\n",
    "\n",
    "    ## Return the desired information\n",
    "    if return_game_list:\n",
    "        return iter_value_list  \n",
    "    else:\n",
    "        return len(iter_value_list)\n",
    "    \n"
   ]
  },
  {
   "cell_type": "code",
   "execution_count": 6,
   "id": "c83a91f6",
   "metadata": {
    "ExecuteTime": {
     "end_time": "2023-12-23T06:58:12.486593Z",
     "start_time": "2023-12-23T06:58:12.467910Z"
    }
   },
   "outputs": [
    {
     "name": "stdout",
     "output_type": "stream",
     "text": [
      "CPU times: user 4.24 ms, sys: 166 µs, total: 4.4 ms\n",
      "Wall time: 4.81 ms\n"
     ]
    },
    {
     "data": {
      "text/plain": [
       "[1, 1, 1, 1, 1, 1]"
      ]
     },
     "execution_count": 6,
     "metadata": {},
     "output_type": "execute_result"
    }
   ],
   "source": [
    "%%time\n",
    "[number_of_games_in_kalah(1,n)  for n in range(1,7)]"
   ]
  },
  {
   "cell_type": "code",
   "execution_count": 7,
   "id": "0b17ae86",
   "metadata": {
    "ExecuteTime": {
     "end_time": "2023-12-23T06:58:17.431516Z",
     "start_time": "2023-12-23T06:58:15.825924Z"
    }
   },
   "outputs": [
    {
     "name": "stdout",
     "output_type": "stream",
     "text": [
      "CPU times: user 1.59 s, sys: 5.17 ms, total: 1.6 s\n",
      "Wall time: 1.6 s\n"
     ]
    },
    {
     "data": {
      "text/plain": [
       "[6, 17, 99, 146, 116, 5040]"
      ]
     },
     "execution_count": 7,
     "metadata": {},
     "output_type": "execute_result"
    }
   ],
   "source": [
    "%%time\n",
    "[number_of_games_in_kalah(2,n)  for n in range(1,7)]"
   ]
  },
  {
   "cell_type": "code",
   "execution_count": 28,
   "id": "873ee342",
   "metadata": {
    "ExecuteTime": {
     "end_time": "2023-12-23T05:49:34.507898Z",
     "start_time": "2023-12-23T05:49:34.495420Z"
    }
   },
   "outputs": [],
   "source": [
    "#[number_of_games_in_kalah(3,n)  for n in range(1,6)]"
   ]
  },
  {
   "cell_type": "code",
   "execution_count": null,
   "id": "e976f20b",
   "metadata": {},
   "outputs": [],
   "source": []
  },
  {
   "cell_type": "code",
   "execution_count": 30,
   "id": "18b168cd",
   "metadata": {
    "ExecuteTime": {
     "end_time": "2023-12-23T05:49:59.376388Z",
     "start_time": "2023-12-23T05:49:59.289595Z"
    }
   },
   "outputs": [
    {
     "name": "stdout",
     "output_type": "stream",
     "text": [
      "CPU times: user 71.9 ms, sys: 1.55 ms, total: 73.5 ms\n",
      "Wall time: 80.1 ms\n"
     ]
    },
    {
     "data": {
      "text/plain": [
       "166"
      ]
     },
     "execution_count": 30,
     "metadata": {},
     "output_type": "execute_result"
    }
   ],
   "source": [
    "%%time\n",
    "number_of_games_in_kalah(3,1)"
   ]
  },
  {
   "cell_type": "code",
   "execution_count": 31,
   "id": "44a83f52",
   "metadata": {
    "ExecuteTime": {
     "end_time": "2023-12-23T05:50:21.223586Z",
     "start_time": "2023-12-23T05:50:03.292687Z"
    }
   },
   "outputs": [
    {
     "name": "stdout",
     "output_type": "stream",
     "text": [
      "CPU times: user 17.8 s, sys: 8.34 ms, total: 17.8 s\n",
      "Wall time: 17.9 s\n"
     ]
    },
    {
     "data": {
      "text/plain": [
       "52350"
      ]
     },
     "execution_count": 31,
     "metadata": {},
     "output_type": "execute_result"
    }
   ],
   "source": [
    "%%time\n",
    "number_of_games_in_kalah(3,2)"
   ]
  },
  {
   "cell_type": "code",
   "execution_count": 32,
   "id": "0c8795fc",
   "metadata": {
    "ExecuteTime": {
     "end_time": "2023-12-23T06:50:03.433514Z",
     "start_time": "2023-12-23T05:50:40.006295Z"
    }
   },
   "outputs": [
    {
     "name": "stdout",
     "output_type": "stream",
     "text": [
      "CPU times: user 59min 4s, sys: 4.15 s, total: 59min 9s\n",
      "Wall time: 59min 23s\n"
     ]
    },
    {
     "data": {
      "text/plain": [
       "8893142"
      ]
     },
     "execution_count": 32,
     "metadata": {},
     "output_type": "execute_result"
    }
   ],
   "source": [
    "%%time\n",
    "number_of_games_in_kalah(3,3)"
   ]
  },
  {
   "cell_type": "code",
   "execution_count": null,
   "id": "35657ae1",
   "metadata": {},
   "outputs": [],
   "source": []
  },
  {
   "cell_type": "code",
   "execution_count": null,
   "id": "6ec636da",
   "metadata": {},
   "outputs": [],
   "source": []
  },
  {
   "cell_type": "code",
   "execution_count": null,
   "id": "686eb927",
   "metadata": {},
   "outputs": [],
   "source": []
  },
  {
   "cell_type": "code",
   "execution_count": null,
   "id": "e876cb0f",
   "metadata": {},
   "outputs": [],
   "source": []
  },
  {
   "cell_type": "code",
   "execution_count": null,
   "id": "79f26296",
   "metadata": {},
   "outputs": [],
   "source": []
  }
 ],
 "metadata": {
  "hide_input": false,
  "kernelspec": {
   "display_name": "Python 3 (ipykernel)",
   "language": "python",
   "name": "python3"
  },
  "language_info": {
   "codemirror_mode": {
    "name": "ipython",
    "version": 3
   },
   "file_extension": ".py",
   "mimetype": "text/x-python",
   "name": "python",
   "nbconvert_exporter": "python",
   "pygments_lexer": "ipython3",
   "version": "3.9.13"
  },
  "toc": {
   "base_numbering": 1,
   "nav_menu": {},
   "number_sections": false,
   "sideBar": true,
   "skip_h1_title": false,
   "title_cell": "Table of Contents",
   "title_sidebar": "Contents",
   "toc_cell": true,
   "toc_position": {},
   "toc_section_display": true,
   "toc_window_display": false
  },
  "varInspector": {
   "cols": {
    "lenName": 16,
    "lenType": 16,
    "lenVar": 40
   },
   "kernels_config": {
    "python": {
     "delete_cmd_postfix": "",
     "delete_cmd_prefix": "del ",
     "library": "var_list.py",
     "varRefreshCmd": "print(var_dic_list())"
    },
    "r": {
     "delete_cmd_postfix": ") ",
     "delete_cmd_prefix": "rm(",
     "library": "var_list.r",
     "varRefreshCmd": "cat(var_dic_list()) "
    }
   },
   "types_to_exclude": [
    "module",
    "function",
    "builtin_function_or_method",
    "instance",
    "_Feature"
   ],
   "window_display": false
  }
 },
 "nbformat": 4,
 "nbformat_minor": 5
}
