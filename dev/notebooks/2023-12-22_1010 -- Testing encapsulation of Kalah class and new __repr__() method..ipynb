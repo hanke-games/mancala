{
 "cells": [
  {
   "cell_type": "markdown",
   "id": "3026f16e",
   "metadata": {
    "toc": true
   },
   "source": [
    "<h1>Table of Contents<span class=\"tocSkip\"></span></h1>\n",
    "<div class=\"toc\"><ul class=\"toc-item\"></ul></div>"
   ]
  },
  {
   "cell_type": "code",
   "execution_count": 1,
   "id": "91be5b3b",
   "metadata": {
    "ExecuteTime": {
     "end_time": "2023-12-22T15:07:33.449114Z",
     "start_time": "2023-12-22T15:07:33.443994Z"
    }
   },
   "outputs": [],
   "source": [
    "## Add the parent directory to the \n",
    "import sys, os\n",
    "sys.path.append(os.path.join(sys.path[0],'..', '..'))"
   ]
  },
  {
   "cell_type": "code",
   "execution_count": 2,
   "id": "610db84c",
   "metadata": {
    "ExecuteTime": {
     "end_time": "2023-12-22T15:07:33.627613Z",
     "start_time": "2023-12-22T15:07:33.621870Z"
    }
   },
   "outputs": [],
   "source": [
    "from mancala import *"
   ]
  },
  {
   "cell_type": "code",
   "execution_count": 3,
   "id": "d05881a2",
   "metadata": {
    "ExecuteTime": {
     "end_time": "2023-12-22T15:07:33.793771Z",
     "start_time": "2023-12-22T15:07:33.789579Z"
    }
   },
   "outputs": [
    {
     "data": {
      "text/plain": [
       "\n",
       "            13  12  11  10   9   8\n",
       "      ------------------------------------\n",
       "             4   4   4   4   4   4\n",
       "         0                           0\n",
       "             4   4   4   4   4   4\n",
       "      ------------------------------------\n",
       "s -->        1   2   3   4   5   6\n"
      ]
     },
     "execution_count": 3,
     "metadata": {},
     "output_type": "execute_result"
    }
   ],
   "source": [
    "Kalah(6,4)"
   ]
  },
  {
   "cell_type": "code",
   "execution_count": 4,
   "id": "b45ffc29",
   "metadata": {
    "ExecuteTime": {
     "end_time": "2023-12-22T15:08:35.227190Z",
     "start_time": "2023-12-22T15:08:35.211616Z"
    }
   },
   "outputs": [
    {
     "data": {
      "text/plain": [
       "\n",
       "             5   4\n",
       "      --------------------\n",
       "             1   1\n",
       "         0           0\n",
       "             1   1\n",
       "      --------------------\n",
       "s -->        1   2\n"
      ]
     },
     "execution_count": 4,
     "metadata": {},
     "output_type": "execute_result"
    }
   ],
   "source": [
    "Kalah(2,1)"
   ]
  },
  {
   "cell_type": "code",
   "execution_count": null,
   "id": "eaf61c4b",
   "metadata": {},
   "outputs": [],
   "source": []
  },
  {
   "cell_type": "code",
   "execution_count": 7,
   "id": "db19710b",
   "metadata": {
    "ExecuteTime": {
     "end_time": "2023-12-22T15:12:41.537419Z",
     "start_time": "2023-12-22T15:12:41.532127Z"
    }
   },
   "outputs": [
    {
     "name": "stdout",
     "output_type": "stream",
     "text": [
      "[1, 13, 1, 8, 6, 8, 5, 8, 6, 4, 12, 5, 8, 3, 11, 1, 13, 1, 12, 6, 10, 3, 8, 1, 13, 1, 10, 5, 6, 2, 9, 5, 1, 8, 6, 8, 2, 13, 1, 10, 11, 1, 12, 13, 1, 2, 3, 8, 4, 8, 5, 8, 6, 8, 9, 1, 13, 12, 2, 11, 3, 13, 12, 4, 13, 6, 5, 6]\n"
     ]
    }
   ],
   "source": [
    "## Show a sample mancala game (i.e. Kalah(6,4))\n",
    "print(example_mancala_game_history)"
   ]
  },
  {
   "cell_type": "code",
   "execution_count": 8,
   "id": "07d19205",
   "metadata": {
    "ExecuteTime": {
     "end_time": "2023-12-22T15:12:44.772479Z",
     "start_time": "2023-12-22T15:12:44.754118Z"
    }
   },
   "outputs": [
    {
     "data": {
      "text/plain": [
       "68"
      ]
     },
     "execution_count": 8,
     "metadata": {},
     "output_type": "execute_result"
    }
   ],
   "source": [
    "len(example_mancala_game_history)"
   ]
  },
  {
   "cell_type": "code",
   "execution_count": null,
   "id": "bdd5ae99",
   "metadata": {},
   "outputs": [],
   "source": []
  }
 ],
 "metadata": {
  "hide_input": false,
  "kernelspec": {
   "display_name": "Python 3 (ipykernel)",
   "language": "python",
   "name": "python3"
  },
  "language_info": {
   "codemirror_mode": {
    "name": "ipython",
    "version": 3
   },
   "file_extension": ".py",
   "mimetype": "text/x-python",
   "name": "python",
   "nbconvert_exporter": "python",
   "pygments_lexer": "ipython3",
   "version": "3.9.13"
  },
  "toc": {
   "base_numbering": 1,
   "nav_menu": {},
   "number_sections": false,
   "sideBar": true,
   "skip_h1_title": false,
   "title_cell": "Table of Contents",
   "title_sidebar": "Contents",
   "toc_cell": true,
   "toc_position": {},
   "toc_section_display": true,
   "toc_window_display": false
  },
  "varInspector": {
   "cols": {
    "lenName": 16,
    "lenType": 16,
    "lenVar": 40
   },
   "kernels_config": {
    "python": {
     "delete_cmd_postfix": "",
     "delete_cmd_prefix": "del ",
     "library": "var_list.py",
     "varRefreshCmd": "print(var_dic_list())"
    },
    "r": {
     "delete_cmd_postfix": ") ",
     "delete_cmd_prefix": "rm(",
     "library": "var_list.r",
     "varRefreshCmd": "cat(var_dic_list()) "
    }
   },
   "types_to_exclude": [
    "module",
    "function",
    "builtin_function_or_method",
    "instance",
    "_Feature"
   ],
   "window_display": false
  }
 },
 "nbformat": 4,
 "nbformat_minor": 5
}
